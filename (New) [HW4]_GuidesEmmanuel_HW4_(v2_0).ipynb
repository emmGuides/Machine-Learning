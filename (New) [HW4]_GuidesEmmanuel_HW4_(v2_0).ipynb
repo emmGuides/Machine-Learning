{
  "cells": [
    {
      "cell_type": "markdown",
      "metadata": {
        "id": "view-in-github",
        "colab_type": "text"
      },
      "source": [
        "<a href=\"https://colab.research.google.com/github/emmGuides/Machine-Learning/blob/main/(New)%20%5BHW4%5D_GuidesEmmanuel_HW4_(v2_0).ipynb\" target=\"_parent\"><img src=\"https://colab.research.google.com/assets/colab-badge.svg\" alt=\"Open In Colab\"/></a>"
      ]
    },
    {
      "cell_type": "markdown",
      "id": "56d751db",
      "metadata": {
        "id": "56d751db"
      },
      "source": [
        "## Machine Learning - Naive Bayes Classification of Spam emails"
      ]
    },
    {
      "cell_type": "markdown",
      "id": "da96ddd6",
      "metadata": {
        "id": "da96ddd6"
      },
      "source": [
        "Guides, Emmanuel Tarek Shayne <br/> 2019-51020"
      ]
    },
    {
      "cell_type": "code",
      "execution_count": 1,
      "id": "791fae59",
      "metadata": {
        "id": "791fae59"
      },
      "outputs": [],
      "source": [
        "import numpy as np\n",
        "import pandas as pd\n",
        "import matplotlib.pyplot as plt\n",
        "import sklearn as sklearn\n",
        "import sklearn.metrics"
      ]
    },
    {
      "cell_type": "code",
      "source": [
        "# This notebook was done in Colab since my laptop \n",
        "# cannot handle the amount of data\n",
        "\n",
        "from google.colab import drive\n",
        "drive.mount('/content/drive')"
      ],
      "metadata": {
        "colab": {
          "base_uri": "https://localhost:8080/"
        },
        "id": "nZgyOusWjpsV",
        "outputId": "d2b4d320-f234-4efc-d580-78c72d78977a"
      },
      "id": "nZgyOusWjpsV",
      "execution_count": 2,
      "outputs": [
        {
          "output_type": "stream",
          "name": "stdout",
          "text": [
            "Mounted at /content/drive\n"
          ]
        }
      ]
    },
    {
      "cell_type": "code",
      "source": [
        "# extract data from data_hw4.zip from my personal Drive. This zipfile just contains the data folder.\n",
        "from zipfile import ZipFile\n",
        "zipLoc = './drive/MyDrive/data_hw4.zip'\n",
        "with ZipFile(zipLoc, 'r') as zip:\n",
        "  zip.extractall()\n",
        "  print('Data extraction done')"
      ],
      "metadata": {
        "colab": {
          "base_uri": "https://localhost:8080/"
        },
        "id": "8tU4dzfjj9Z1",
        "outputId": "0483cba0-1554-4b68-9044-675dea72d8ce"
      },
      "id": "8tU4dzfjj9Z1",
      "execution_count": 3,
      "outputs": [
        {
          "output_type": "stream",
          "name": "stdout",
          "text": [
            "Data extraction done\n"
          ]
        }
      ]
    },
    {
      "cell_type": "code",
      "execution_count": 4,
      "id": "6a196697",
      "metadata": {
        "colab": {
          "base_uri": "https://localhost:8080/"
        },
        "id": "6a196697",
        "outputId": "743adbd7-d144-45e0-fad4-0ceb5aacbc79"
      },
      "outputs": [
        {
          "output_type": "stream",
          "name": "stdout",
          "text": [
            "Length of train labels: 21300\n",
            "Length of test labels: 16522\n"
          ]
        }
      ],
      "source": [
        "# get labels for train and test\n",
        "# arrays to use\n",
        "labelsArray = []\n",
        "train_ref = []\n",
        "train_labels = []\n",
        "test_labels = []\n",
        "\n",
        "# open labels file as list\n",
        "with open('/content/data/labels') as file:\n",
        "    labelsArray = file.readlines()\n",
        "\n",
        "# remove '\\n' in each entry\n",
        "for i in range(len(labelsArray)):\n",
        "    word = labelsArray[i] \n",
        "    labelsArray[i] = word[:len(word)-1]\n",
        "\n",
        "# get references for training set\n",
        "for i in range(71):\n",
        "    if i < 10:\n",
        "        train_ref.append(f\"/data/00{i}\")\n",
        "    else:\n",
        "        train_ref.append(f\"/data/0{i}\")\n",
        "\n",
        "# split spam/ham labels into train and test \n",
        "for i in labelsArray:\n",
        "    if any(j in i for j in train_ref):\n",
        "        train_labels.append(i)\n",
        "    else:\n",
        "        test_labels.append(i)\n",
        "        \n",
        "print(f\"Length of train labels: {len(train_labels)}\")\n",
        "print(f\"Length of test labels: {len(test_labels)}\")"
      ]
    },
    {
      "cell_type": "code",
      "execution_count": 5,
      "id": "36b2c1ef",
      "metadata": {
        "id": "36b2c1ef"
      },
      "outputs": [],
      "source": [
        "separator = \" \"\n",
        "classification_array = []\n",
        "email_array = []\n",
        "\n",
        "# for training\n",
        "# iterate through all lines in train_labels: get classification and location for each email\n",
        "for i in train_labels:\n",
        "    \n",
        "    # get classification and location from each train_label element\n",
        "    classification, separator, location = i.partition(separator)\n",
        "    \n",
        "    # clean location to be used\n",
        "    location = location[3:]\n",
        "    \n",
        "    # open location and read files\n",
        "    with open(location, \"r\", errors='ignore') as currFile:\n",
        "        content = currFile.read()\n",
        "        \n",
        "        # add emails and classifications to arrays\n",
        "        email_array.append(content)\n",
        "        classification_array.append(classification)\n",
        "        \n",
        "        # close file\n",
        "        currFile.close()\n",
        "        \n",
        "    "
      ]
    },
    {
      "cell_type": "code",
      "execution_count": 6,
      "id": "3c1e618c",
      "metadata": {
        "id": "3c1e618c"
      },
      "outputs": [],
      "source": [
        "test_classification_array = []\n",
        "test_email_array = []\n",
        "\n",
        "# for testing\n",
        "# iterate through all lines in test_labels: get classification and location for each email\n",
        "for i in test_labels:\n",
        "    \n",
        "    # get classification and location from each train_label element\n",
        "    classification, separator, location = i.partition(separator)\n",
        "    \n",
        "    # clean location to be used\n",
        "    location = location[3:]\n",
        "    \n",
        "    # open location and read files\n",
        "    with open(location, \"r\", errors='ignore') as currFile:\n",
        "        content = currFile.read()\n",
        "        \n",
        "        # add emails and classifications to arrays\n",
        "        test_email_array.append(content)\n",
        "        test_classification_array.append(classification)\n",
        "        \n",
        "        # close file\n",
        "        currFile.close()"
      ]
    },
    {
      "cell_type": "code",
      "execution_count": 7,
      "id": "f074354c",
      "metadata": {
        "colab": {
          "base_uri": "https://localhost:8080/"
        },
        "id": "f074354c",
        "outputId": "db692c7a-626f-486b-a2c4-1c9a4cff078d"
      },
      "outputs": [
        {
          "output_type": "stream",
          "name": "stdout",
          "text": [
            "Length of classification_array(train) :21300\n",
            "Length of email_array(train) :21300\n",
            "\n",
            "Length of classification_array(test) :16522\n",
            "Length of email_array(test) :16522\n"
          ]
        }
      ],
      "source": [
        "# check lengths\n",
        "print(f\"Length of classification_array(train) :{len(classification_array)}\")\n",
        "print(f\"Length of email_array(train) :{len(email_array)}\")\n",
        "\n",
        "print(f\"\\nLength of classification_array(test) :{len(test_classification_array)}\")\n",
        "print(f\"Length of email_array(test) :{len(test_email_array)}\")"
      ]
    },
    {
      "cell_type": "code",
      "execution_count": 8,
      "id": "ff0c9749",
      "metadata": {
        "colab": {
          "base_uri": "https://localhost:8080/"
        },
        "id": "ff0c9749",
        "outputId": "028c664c-93b1-40b5-96a6-4ddf13209f69"
      },
      "outputs": [
        {
          "output_type": "execute_result",
          "data": {
            "text/plain": [
              "['a',\n",
              " 'able',\n",
              " 'about',\n",
              " 'above',\n",
              " 'abst',\n",
              " 'accordance',\n",
              " 'according',\n",
              " 'accordingly',\n",
              " 'across',\n",
              " 'act']"
            ]
          },
          "metadata": {},
          "execution_count": 8
        }
      ],
      "source": [
        "# read stopwords.txt\n",
        "stopWords = []\n",
        "with open('/content/data/stop_words.txt') as file:\n",
        "    stopWords = file.readlines()\n",
        "\n",
        "for i in range(len(stopWords)):\n",
        "    word = stopWords[i] \n",
        "    stopWords[i] = word[:len(word)-1]\n",
        "stopWords[:10]"
      ]
    },
    {
      "cell_type": "code",
      "execution_count": 9,
      "id": "baea6608",
      "metadata": {
        "colab": {
          "base_uri": "https://localhost:8080/"
        },
        "id": "baea6608",
        "outputId": "7a8d6617-7017-4777-82ec-684044103710"
      },
      "outputs": [
        {
          "output_type": "stream",
          "name": "stdout",
          "text": [
            "Multipart email body example:\n",
            "\n",
            "Sorry for all the header garbage...  Trying to find the right channel.\n",
            "\n"
          ]
        }
      ],
      "source": [
        "# for mulipart emails\n",
        "import email\n",
        "def multipart_email(email_as_string):\n",
        "    body = \"\"\n",
        "    mail = email.message_from_string(email_as_string)\n",
        "    if mail.is_multipart():\n",
        "        for part in mail.walk():\n",
        "            ctype = part.get_content_type()\n",
        "            cdispo = str(part.get('Content-Disposition'))\n",
        "\n",
        "            # skip any text/plain (txt) attachments\n",
        "            if ctype == 'text/plain' and 'attachment' not in cdispo:\n",
        "                body = part.get_payload(decode=True)  # decode\n",
        "                break\n",
        "    # not multipart - i.e. plain text, no attachments, keeping fingers crossed\n",
        "    else:\n",
        "        body = mail.get_payload(decode=True)\n",
        "        \n",
        "    try:\n",
        "        body = body.decode()\n",
        "    except:\n",
        "        try:\n",
        "            body = body.decode('latin-1')\n",
        "        except:\n",
        "            pass\n",
        "    return(body)\n",
        "\n",
        "print(f\"Multipart email body example:\\n\\n{multipart_email(email_array[1103])}\")"
      ]
    },
    {
      "cell_type": "code",
      "execution_count": 10,
      "id": "72b419f1",
      "metadata": {
        "colab": {
          "base_uri": "https://localhost:8080/"
        },
        "id": "72b419f1",
        "outputId": "6f259807-ac54-410f-fe4c-355e22d16bac"
      },
      "outputs": [
        {
          "output_type": "stream",
          "name": "stdout",
          "text": [
            "Getting Email body example:\n",
            "LUXURY  WATCHES - BUY YOUR OWN ROLEX  FOR ONLY  $219!                                                        \n",
            "                                               \n",
            "  Rolex :: Cartier ::  Bvlgari  ::  Frank Muller  ::  Patek  Philippe :: Vacheron Constantin                   \n",
            "   A.  Lange  & Sohne  ::  Audemars  Piguet  :: Jaeger-Lecoultre  ::  IWC  :: Officine  Panerai                                                    \n",
            " Breitling ::  Omega ::  Tag  Heuer                                   \n",
            "                       \n",
            "   Exapmle:                 \n",
            " ROLEX  Full 18K Gold  Daytona  for MEN -  only  $269!                                      \n",
            "                                                 \n",
            "    - Fast delivery                       \n",
            "     -  The lowest prices  in the world                                                 \n",
            " -  Worldwide shipping                                                                      \n",
            "                                                            \n",
            " Visit  our shop at:                                                                   \n",
            "                        \n",
            "http://vvhvjk130.sewandeatone.com\n"
          ]
        }
      ],
      "source": [
        "# getting email body, if return type is not string (did not get email body), pass on to multipart email function\n",
        "def get_emailBody(str_message):\n",
        "    message = email.message_from_string(str_message)\n",
        "    returnVal = ''\n",
        "    try:\n",
        "        for payload in message.get_payload():\n",
        "            returnVal = payload.get_payload()\n",
        "    except:\n",
        "        returnVal = message.get_payload()\n",
        "        \n",
        "    if(type(returnVal) != str):\n",
        "        returnVal = multipart_email(str_message)\n",
        "    return str(returnVal)\n",
        "        \n",
        "print(f\"Getting Email body example:\\n{get_emailBody(email_array[1]).strip()}\")"
      ]
    },
    {
      "cell_type": "code",
      "execution_count": 11,
      "id": "85e3773a",
      "metadata": {
        "colab": {
          "base_uri": "https://localhost:8080/"
        },
        "id": "85e3773a",
        "outputId": "eca2afb0-7d90-432b-efe0-3520f44f5361"
      },
      "outputs": [
        {
          "output_type": "stream",
          "name": "stdout",
          "text": [
            "Train Email bodies gathered successfully: 21300\n"
          ]
        }
      ],
      "source": [
        "# get all email bodies from train\n",
        "email_body_array = []\n",
        "count = 0\n",
        "for i in email_array:\n",
        "    email_body_array.append(get_emailBody(i))\n",
        "    count = count + 1\n",
        "print(f\"Train Email bodies gathered successfully: {count}\")"
      ]
    },
    {
      "cell_type": "code",
      "execution_count": 12,
      "id": "b3bbf42d",
      "metadata": {
        "colab": {
          "base_uri": "https://localhost:8080/"
        },
        "id": "b3bbf42d",
        "outputId": "63d2fff7-bcb6-466c-a009-c4870a1f808f"
      },
      "outputs": [
        {
          "output_type": "stream",
          "name": "stdout",
          "text": [
            "Test Email bodies gathered successfully: 16522\n"
          ]
        }
      ],
      "source": [
        "# get all email bodies from test\n",
        "test_email_body_array = []\n",
        "count = 0\n",
        "for i in test_email_array:\n",
        "    test_email_body_array.append(get_emailBody(i))\n",
        "    count = count + 1\n",
        "print(f\"Test Email bodies gathered successfully: {count}\")"
      ]
    },
    {
      "cell_type": "code",
      "execution_count": 13,
      "id": "c1c05b4b",
      "metadata": {
        "id": "c1c05b4b"
      },
      "outputs": [],
      "source": [
        "import re # this is regex\n",
        "HTMLTAGS = re.compile('<.*?>') # define HTML tags\n",
        "\n",
        "# function to clean one email\n",
        "def clean_one_email(email_as_string):\n",
        "    # remove html tags\n",
        "    email_as_string = re.sub(HTMLTAGS, '', email_as_string)\n",
        "    # change new lines to just spaces\n",
        "    email_as_string = email_as_string.replace('\\n', ' ')\n",
        "    # remove nonbreaking space\n",
        "    email_as_string = email_as_string.replace('nbsp', '')\n",
        "    # remove non-alphanumeric characters\n",
        "    email_as_string = [character for character in email_as_string if (character.isalnum() or character == ' ')]\n",
        "    # remove digits\n",
        "    email_as_string = [character for character in email_as_string if not(character.isdigit())]\n",
        "    # join the list to string\n",
        "    email_as_string = ''.join(email_as_string)\n",
        "    \n",
        "    # separate everything to tokens\n",
        "    email_as_string = email_as_string.lower().split()\n",
        "    # remove stopwords\n",
        "    email_as_string = [word for word in email_as_string if not word in stopWords]\n",
        "    # remove long words\n",
        "    email_as_string = [word for word in email_as_string if len(word) < 21]\n",
        "    # join token list to string\n",
        "    email_as_string = ' '.join(email_as_string)\n",
        "    \n",
        "    # return cleaned email body\n",
        "    return(email_as_string)"
      ]
    },
    {
      "cell_type": "code",
      "execution_count": 14,
      "id": "713aed13",
      "metadata": {
        "id": "713aed13"
      },
      "outputs": [],
      "source": [
        "# cleaning email bodies and adding to array\n",
        "\n",
        "def clean_all_email(email_body_array):\n",
        "    \n",
        "    clean_email_array = []\n",
        "    \n",
        "    for email_as_string in email_body_array:\n",
        "        clean_email_array.append(clean_one_email(email_as_string))\n",
        "    \n",
        "    return clean_email_array"
      ]
    },
    {
      "cell_type": "code",
      "execution_count": 15,
      "id": "7a93ecf5",
      "metadata": {
        "scrolled": false,
        "colab": {
          "base_uri": "https://localhost:8080/"
        },
        "id": "7a93ecf5",
        "outputId": "23e02f72-f65a-4a28-f95b-885804abce22"
      },
      "outputs": [
        {
          "output_type": "stream",
          "name": "stdout",
          "text": [
            "Uncleaned email body:\n",
            "\n",
            "The mailing list I queried about a few weeks ago is now up and\n",
            "running.  I have also set up an archive server; see below.  The\n",
            "following is the official welcome to the list message at the moment.\n",
            "\n",
            "Joe Buehler\n",
            "\n",
            "--------------------\n",
            "\n",
            "This mailing list is for people who desire serious, orthodox\n",
            "discussion of the Roman Catholic religion.  I assume that it will\n",
            "cater mainly to Catholics, but everyone else is welcome, provided they\n",
            "operate within the below guidelines.  My own interests have a\n",
            "doctrinal bent, but I'm certainly not going to limit this list to just\n",
            "that sort of discussion.\n",
            "\n",
            "Having participated in USENET religion groups for about 5 years now,\n",
            "one of my primary observations about Catholics on the net is that they\n",
            "do not know their religion very well.  My hope is that this list might\n",
            "help remedy this problem to some extent.  I would like to make this a\n",
            "net resource available for Catholics who want to know more about their\n",
            "religion.\n",
            "\n",
            "As far as moderation policy goes: The Catholic Church is not a\n",
            "democracy, it's a monarchy subject to a divinely given constitution.\n",
            "I don't set the rules in the Church, neither does my parish priest,\n",
            "nor does my bishop, nor does the Pope.  Everyone has to adhere to the\n",
            "way Christ set things up.  I think it follows that it's not really\n",
            "appropriate for someone to call himself a Catholic and argue with this\n",
            "state of affairs.  If you want to be Catholic, it's simple enough, you\n",
            "have to follow the teaching of the Church.\n",
            "\n",
            "The moderation policy will reflect this way of thinking: there are\n",
            "plenty of other places on the net where Catholic doctrine can be\n",
            "freely attacked!  If in doubt, you can always subscribe, and see\n",
            "whether the list is to your taste.\n",
            "\n",
            "Besides the mailing list, there are a few other things that may be of\n",
            "interest:\n",
            "\n",
            "- I have set up an archive server that we can put interesting things\n",
            "in.  (It doesn't have anything in it at the moment except some UNIX\n",
            "software useful for such endeavors.)  Sorry, guys, but nothing that's\n",
            "copyrighted goes into it!\n",
            "\n",
            "- I am planning on setting up a quotation server that can email\n",
            "periodic interesting citations from the principal sources of Catholic\n",
            "doctrine.  (Not done yet.)\n",
            "\n",
            "- I have obtained permission from the English language publishers of\n",
            "the Italian Catholic magazine \"30 Days\" to take material from their\n",
            "magazine.  I intend to scan some of the more interesting pictures\n",
            "(ever seen a Cristero?  or St. Pius X?) and put them in the archives,\n",
            "and also post extracts from some of the more interesting articles.\n",
            "(It's a European magazine, and is of generally higher quality than\n",
            "American Catholic material.  In my opinion...)\n",
            "\n",
            "If you have any questions, would like to subscribe, etc., send email\n",
            "to\n",
            "\n",
            "\tcatholic@sarto.budd-lake.nj.us\n",
            "\n",
            "\n",
            "\n",
            "\n",
            "\n",
            "Cleaned email body:\n",
            "\n",
            "mailing list queried weeks ago running set archive server official list message moment joe buehler mailing list people desire serious orthodox discussion roman catholic religion assume will cater catholics provided operate guidelines interests doctrinal bent going limit list sort discussion participated usenet religion groups years primary observations catholics net religion well hope list help remedy problem extent net resource catholics religion moderation policy catholic church democracy monarchy subject divinely constitution dont set rules church parish priest bishop pope adhere christ set things appropriate call catholic argue affairs catholic simple follow teaching church moderation policy will reflect thinking plenty places net catholic doctrine freely attacked doubt subscribe list taste mailing list things interest set archive server interesting things doesnt moment unix software endeavors guys copyrighted planning setting quotation server email periodic interesting citations principal sources catholic doctrine permission english language publishers italian catholic magazine days material magazine intend scan interesting pictures cristero st pius archives post extracts interesting articles european magazine generally higher quality american catholic material opinion questions subscribe send email\n"
          ]
        }
      ],
      "source": [
        "# Showing the difference in email 000, in folder 000 (this is for train)\n",
        "clean_email_array = clean_all_email(email_body_array)\n",
        "print(f\"Uncleaned email body:\\n\\n{email_body_array[0]}\")\n",
        "print(f\"\\nCleaned email body:\\n\\n{clean_email_array[0]}\")"
      ]
    },
    {
      "cell_type": "code",
      "execution_count": 16,
      "id": "48b80f45",
      "metadata": {
        "id": "48b80f45"
      },
      "outputs": [],
      "source": [
        "# Also clean test emails\n",
        "test_clean_email_array = clean_all_email(test_email_body_array)"
      ]
    },
    {
      "cell_type": "code",
      "execution_count": 17,
      "id": "32a25262",
      "metadata": {
        "colab": {
          "base_uri": "https://localhost:8080/"
        },
        "id": "32a25262",
        "outputId": "892812d2-0fa9-48bb-f7f6-7402a28c3358"
      },
      "outputs": [
        {
          "output_type": "stream",
          "name": "stdout",
          "text": [
            "Uncleaned email body:\n",
            "\n",
            "At 03:19 PM 9/4/00 +0100, you wrote:\n",
            "\n",
            ">Here's a reply from one of our resident wizards.\n",
            ">\n",
            ">Hope this helps.\n",
            "\n",
            "   Thanks, it does.  It is in fact the method I was going to use with the \n",
            "exception of the fancy use of cos and sin.  I was going to take an initial \n",
            "guess as being the smallest interval between any of the samples, divide \n",
            "every time by it and average the errors and adjust the guess based on the \n",
            "error and repeat.  I guess the use of the vector arithmetic solves the \n",
            "initial phase uncertainty which would represent the lowest error my method \n",
            "would come up with.\n",
            "\n",
            "-jonathan (j.c.f.)\n",
            "\n",
            "  /\"\\\n",
            "  \\ /\n",
            "   X  ASCII RIBBON CAMPAIGN - AGAINST HTML MAIL\n",
            "  / \\\n",
            "\n",
            "   Look under the sofa cushion; you will be surprised at what you\n",
            "find.\n",
            "\n",
            "\n",
            "\n",
            "\n",
            "\n",
            "Cleaned email body:\n",
            "\n",
            "pm wrote reply resident wizards hope helps fact method going exception fancy cos sin going initial guess smallest interval samples divide time average errors adjust guess based error repeat guess vector arithmetic solves initial phase uncertainty represent lowest error method jonathan jcf ascii ribbon campaign html mail sofa cushion will surprised find\n"
          ]
        }
      ],
      "source": [
        "print(f\"Uncleaned email body:\\n\\n{test_email_body_array[100]}\") \n",
        "print(f\"\\nCleaned email body:\\n\\n{test_clean_email_array[100]}\")"
      ]
    },
    {
      "cell_type": "code",
      "execution_count": 18,
      "id": "1d7a290d",
      "metadata": {
        "id": "1d7a290d"
      },
      "outputs": [],
      "source": [
        "# get unique words\n",
        "unique = []\n",
        "wordCounts = dict()\n",
        "for i in clean_email_array:\n",
        "    i = i.split()\n",
        "    for word in i:\n",
        "        if word in wordCounts:\n",
        "            wordCounts[word] += 1\n",
        "        else:\n",
        "            wordCounts[word] = 1\n",
        "            \n",
        "ten_items = {k: wordCounts[k] for k in list(wordCounts)[:10]}"
      ]
    },
    {
      "cell_type": "code",
      "execution_count": 19,
      "id": "e8ef9975",
      "metadata": {
        "id": "e8ef9975"
      },
      "outputs": [],
      "source": [
        "# sort number of words used\n",
        "sorted_wordCounts = dict(reversed(sorted(wordCounts.items(), key=lambda item: item[1])))"
      ]
    },
    {
      "cell_type": "code",
      "execution_count": 20,
      "id": "2940cdeb",
      "metadata": {
        "colab": {
          "base_uri": "https://localhost:8080/"
        },
        "id": "2940cdeb",
        "outputId": "20833015-1132-4e84-aefb-4446ccc2c7af"
      },
      "outputs": [
        {
          "output_type": "stream",
          "name": "stdout",
          "text": [
            "Remaining word counts after cleaning: 92550\n"
          ]
        }
      ],
      "source": [
        "print(f\"Remaining word counts after cleaning: {len(wordCounts)}\")"
      ]
    },
    {
      "cell_type": "code",
      "execution_count": 21,
      "id": "b4e9e0ea",
      "metadata": {
        "scrolled": true,
        "colab": {
          "base_uri": "https://localhost:8080/"
        },
        "id": "b4e9e0ea",
        "outputId": "e843da96-9cd6-43ec-f4e4-e8205b11e2e2"
      },
      "outputs": [
        {
          "output_type": "stream",
          "name": "stdout",
          "text": [
            "Top 10 words:\n",
            "px\n",
            "float\n",
            "will\n",
            "bb\n",
            "styledborder\n",
            "producttable\n",
            "left\n",
            "color\n",
            "board\n",
            "span\n"
          ]
        }
      ],
      "source": [
        "sorted_ten_K = {k: sorted_wordCounts[k] for k in list(sorted_wordCounts)[:10000]}\n",
        "keysList = list(sorted_ten_K.keys())\n",
        "\n",
        "print(\"Top 10 words:\")\n",
        "for i in range(10):\n",
        "    print(keysList[i])"
      ]
    },
    {
      "cell_type": "code",
      "execution_count": 22,
      "id": "40cee1cb",
      "metadata": {
        "id": "40cee1cb"
      },
      "outputs": [],
      "source": [
        "# generate dictionary for dataframe\n",
        "def generate_dict(keysList, clean_email_array):\n",
        "    topWordCountList = []\n",
        "    grand_word_counts = {}\n",
        "\n",
        "    for topWord in keysList:\n",
        "        for oneEmail in clean_email_array: # clean_email_array:\n",
        "            topWordCount = oneEmail.count(topWord)\n",
        "            topWordCountList.append(topWordCount)\n",
        "        grand_word_counts[topWord] = topWordCountList\n",
        "        topWordCountList = []\n",
        "    return grand_word_counts"
      ]
    },
    {
      "cell_type": "code",
      "execution_count": 23,
      "id": "d2d523f3",
      "metadata": {
        "id": "d2d523f3"
      },
      "outputs": [],
      "source": [
        "# generate dictionary for all 21,300 emails (spam and ham)\n",
        "grand_word_counts = generate_dict(keysList, clean_email_array)"
      ]
    },
    {
      "cell_type": "code",
      "execution_count": 24,
      "id": "aa9cb968",
      "metadata": {
        "id": "aa9cb968"
      },
      "outputs": [],
      "source": [
        "# add classification in the dictionary\n",
        "grand_word_counts['spam or ham'] = classification_array"
      ]
    },
    {
      "cell_type": "code",
      "source": [
        "# get keys list for spam and ham dict\n",
        "list_keys = list(grand_word_counts.keys())[:-1]"
      ],
      "metadata": {
        "id": "ALbf320iHN09"
      },
      "id": "ALbf320iHN09",
      "execution_count": 25,
      "outputs": []
    },
    {
      "cell_type": "code",
      "execution_count": 26,
      "id": "f2bc64d6",
      "metadata": {
        "colab": {
          "base_uri": "https://localhost:8080/"
        },
        "id": "f2bc64d6",
        "outputId": "bf3d0cbb-18ed-4ddd-87e2-f404b6b07e77"
      },
      "outputs": [
        {
          "output_type": "stream",
          "name": "stdout",
          "text": [
            "spam and ham dictionaries created successfully.\n"
          ]
        }
      ],
      "source": [
        "# create spam and ham dict\n",
        "spam_dict = {}\n",
        "ham_dict = {}\n",
        "for i in list_keys:\n",
        "    spam_dict[i] = []\n",
        "    ham_dict[i] = []\n",
        "\n",
        "for i in range(len(classification_array)):\n",
        "    if grand_word_counts['spam or ham'][i] == 'spam':\n",
        "        for j in list_keys:\n",
        "            if(grand_word_counts[j][i] > 0): # if word exists in email, place '1' in cell, else, '0'\n",
        "              spam_dict[j].append(1)\n",
        "            else:\n",
        "              spam_dict[j].append(0)\n",
        "    else:\n",
        "        for j in list_keys:\n",
        "            if(grand_word_counts[j][i] > 0):\n",
        "              ham_dict[j].append(1)\n",
        "            else:\n",
        "              ham_dict[j].append(0)\n",
        "print(f\"spam and ham dictionaries created successfully.\")"
      ]
    },
    {
      "cell_type": "code",
      "execution_count": 27,
      "id": "efd6d9ed",
      "metadata": {
        "colab": {
          "base_uri": "https://localhost:8080/"
        },
        "id": "efd6d9ed",
        "outputId": "e053acdd-f6c7-4a29-acda-b7d672270cb7"
      },
      "outputs": [
        {
          "output_type": "stream",
          "name": "stdout",
          "text": [
            "Spam and Ham dataframes created successfully.\n"
          ]
        }
      ],
      "source": [
        "# create spam and ham dataframes\n",
        "spam_df = pd.DataFrame.from_dict(spam_dict)\n",
        "ham_df = pd.DataFrame.from_dict(ham_dict)\n",
        "print(\"Spam and Ham dataframes created successfully.\")"
      ]
    },
    {
      "cell_type": "code",
      "execution_count": 28,
      "id": "84a545f8",
      "metadata": {
        "colab": {
          "base_uri": "https://localhost:8080/",
          "height": 505
        },
        "id": "84a545f8",
        "outputId": "e10d9087-a8fc-4b0d-e45c-5d8e24c7db38"
      },
      "outputs": [
        {
          "output_type": "stream",
          "name": "stdout",
          "text": [
            "Dataframe of all spam emails:\n"
          ]
        },
        {
          "output_type": "execute_result",
          "data": {
            "text/plain": [
              "       px  float  will  bb  styledborder  producttable  left  color  board  \\\n",
              "0       0      0     0   0             0             0     0      0      0   \n",
              "1       0      0     0   0             0             0     0      0      0   \n",
              "2       0      0     1   0             0             0     0      0      0   \n",
              "3       0      0     1   0             0             0     0      0      1   \n",
              "4       0      0     1   0             0             0     0      0      0   \n",
              "...    ..    ...   ...  ..           ...           ...   ...    ...    ...   \n",
              "13772   0      0     0   0             0             0     0      0      0   \n",
              "13773   0      0     0   0             0             0     0      0      0   \n",
              "13774   1      0     0   0             0             1     1      1      0   \n",
              "13775   1      0     0   1             0             0     0      1      0   \n",
              "13776   0      0     0   1             0             0     0      0      0   \n",
              "\n",
              "       span  ...  ici  peasant  wooden  feebeeeeeae  eeebfcedeefeec  efbfffee  \\\n",
              "0         0  ...    1        0       0            0               0         0   \n",
              "1         0  ...    0        0       0            0               0         0   \n",
              "2         0  ...    0        0       0            0               0         0   \n",
              "3         0  ...    0        0       0            0               0         0   \n",
              "4         0  ...    0        0       0            0               0         0   \n",
              "...     ...  ...  ...      ...     ...          ...             ...       ...   \n",
              "13772     0  ...    0        0       0            0               0         0   \n",
              "13773     0  ...    0        0       0            0               0         0   \n",
              "13774     0  ...    0        0       0            0               0         0   \n",
              "13775     0  ...    0        0       0            0               0         0   \n",
              "13776     0  ...    0        0       0            0               0         0   \n",
              "\n",
              "       globally  compmailpine  thy  quarters  \n",
              "0             0             0    0         0  \n",
              "1             0             0    0         0  \n",
              "2             0             0    0         0  \n",
              "3             0             0    0         0  \n",
              "4             0             0    0         0  \n",
              "...         ...           ...  ...       ...  \n",
              "13772         0             0    0         0  \n",
              "13773         0             0    0         0  \n",
              "13774         0             0    0         0  \n",
              "13775         0             0    0         0  \n",
              "13776         0             0    0         0  \n",
              "\n",
              "[13777 rows x 10000 columns]"
            ],
            "text/html": [
              "\n",
              "  <div id=\"df-2889817b-33a4-49e1-bf8b-9257e3009ceb\">\n",
              "    <div class=\"colab-df-container\">\n",
              "      <div>\n",
              "<style scoped>\n",
              "    .dataframe tbody tr th:only-of-type {\n",
              "        vertical-align: middle;\n",
              "    }\n",
              "\n",
              "    .dataframe tbody tr th {\n",
              "        vertical-align: top;\n",
              "    }\n",
              "\n",
              "    .dataframe thead th {\n",
              "        text-align: right;\n",
              "    }\n",
              "</style>\n",
              "<table border=\"1\" class=\"dataframe\">\n",
              "  <thead>\n",
              "    <tr style=\"text-align: right;\">\n",
              "      <th></th>\n",
              "      <th>px</th>\n",
              "      <th>float</th>\n",
              "      <th>will</th>\n",
              "      <th>bb</th>\n",
              "      <th>styledborder</th>\n",
              "      <th>producttable</th>\n",
              "      <th>left</th>\n",
              "      <th>color</th>\n",
              "      <th>board</th>\n",
              "      <th>span</th>\n",
              "      <th>...</th>\n",
              "      <th>ici</th>\n",
              "      <th>peasant</th>\n",
              "      <th>wooden</th>\n",
              "      <th>feebeeeeeae</th>\n",
              "      <th>eeebfcedeefeec</th>\n",
              "      <th>efbfffee</th>\n",
              "      <th>globally</th>\n",
              "      <th>compmailpine</th>\n",
              "      <th>thy</th>\n",
              "      <th>quarters</th>\n",
              "    </tr>\n",
              "  </thead>\n",
              "  <tbody>\n",
              "    <tr>\n",
              "      <th>0</th>\n",
              "      <td>0</td>\n",
              "      <td>0</td>\n",
              "      <td>0</td>\n",
              "      <td>0</td>\n",
              "      <td>0</td>\n",
              "      <td>0</td>\n",
              "      <td>0</td>\n",
              "      <td>0</td>\n",
              "      <td>0</td>\n",
              "      <td>0</td>\n",
              "      <td>...</td>\n",
              "      <td>1</td>\n",
              "      <td>0</td>\n",
              "      <td>0</td>\n",
              "      <td>0</td>\n",
              "      <td>0</td>\n",
              "      <td>0</td>\n",
              "      <td>0</td>\n",
              "      <td>0</td>\n",
              "      <td>0</td>\n",
              "      <td>0</td>\n",
              "    </tr>\n",
              "    <tr>\n",
              "      <th>1</th>\n",
              "      <td>0</td>\n",
              "      <td>0</td>\n",
              "      <td>0</td>\n",
              "      <td>0</td>\n",
              "      <td>0</td>\n",
              "      <td>0</td>\n",
              "      <td>0</td>\n",
              "      <td>0</td>\n",
              "      <td>0</td>\n",
              "      <td>0</td>\n",
              "      <td>...</td>\n",
              "      <td>0</td>\n",
              "      <td>0</td>\n",
              "      <td>0</td>\n",
              "      <td>0</td>\n",
              "      <td>0</td>\n",
              "      <td>0</td>\n",
              "      <td>0</td>\n",
              "      <td>0</td>\n",
              "      <td>0</td>\n",
              "      <td>0</td>\n",
              "    </tr>\n",
              "    <tr>\n",
              "      <th>2</th>\n",
              "      <td>0</td>\n",
              "      <td>0</td>\n",
              "      <td>1</td>\n",
              "      <td>0</td>\n",
              "      <td>0</td>\n",
              "      <td>0</td>\n",
              "      <td>0</td>\n",
              "      <td>0</td>\n",
              "      <td>0</td>\n",
              "      <td>0</td>\n",
              "      <td>...</td>\n",
              "      <td>0</td>\n",
              "      <td>0</td>\n",
              "      <td>0</td>\n",
              "      <td>0</td>\n",
              "      <td>0</td>\n",
              "      <td>0</td>\n",
              "      <td>0</td>\n",
              "      <td>0</td>\n",
              "      <td>0</td>\n",
              "      <td>0</td>\n",
              "    </tr>\n",
              "    <tr>\n",
              "      <th>3</th>\n",
              "      <td>0</td>\n",
              "      <td>0</td>\n",
              "      <td>1</td>\n",
              "      <td>0</td>\n",
              "      <td>0</td>\n",
              "      <td>0</td>\n",
              "      <td>0</td>\n",
              "      <td>0</td>\n",
              "      <td>1</td>\n",
              "      <td>0</td>\n",
              "      <td>...</td>\n",
              "      <td>0</td>\n",
              "      <td>0</td>\n",
              "      <td>0</td>\n",
              "      <td>0</td>\n",
              "      <td>0</td>\n",
              "      <td>0</td>\n",
              "      <td>0</td>\n",
              "      <td>0</td>\n",
              "      <td>0</td>\n",
              "      <td>0</td>\n",
              "    </tr>\n",
              "    <tr>\n",
              "      <th>4</th>\n",
              "      <td>0</td>\n",
              "      <td>0</td>\n",
              "      <td>1</td>\n",
              "      <td>0</td>\n",
              "      <td>0</td>\n",
              "      <td>0</td>\n",
              "      <td>0</td>\n",
              "      <td>0</td>\n",
              "      <td>0</td>\n",
              "      <td>0</td>\n",
              "      <td>...</td>\n",
              "      <td>0</td>\n",
              "      <td>0</td>\n",
              "      <td>0</td>\n",
              "      <td>0</td>\n",
              "      <td>0</td>\n",
              "      <td>0</td>\n",
              "      <td>0</td>\n",
              "      <td>0</td>\n",
              "      <td>0</td>\n",
              "      <td>0</td>\n",
              "    </tr>\n",
              "    <tr>\n",
              "      <th>...</th>\n",
              "      <td>...</td>\n",
              "      <td>...</td>\n",
              "      <td>...</td>\n",
              "      <td>...</td>\n",
              "      <td>...</td>\n",
              "      <td>...</td>\n",
              "      <td>...</td>\n",
              "      <td>...</td>\n",
              "      <td>...</td>\n",
              "      <td>...</td>\n",
              "      <td>...</td>\n",
              "      <td>...</td>\n",
              "      <td>...</td>\n",
              "      <td>...</td>\n",
              "      <td>...</td>\n",
              "      <td>...</td>\n",
              "      <td>...</td>\n",
              "      <td>...</td>\n",
              "      <td>...</td>\n",
              "      <td>...</td>\n",
              "      <td>...</td>\n",
              "    </tr>\n",
              "    <tr>\n",
              "      <th>13772</th>\n",
              "      <td>0</td>\n",
              "      <td>0</td>\n",
              "      <td>0</td>\n",
              "      <td>0</td>\n",
              "      <td>0</td>\n",
              "      <td>0</td>\n",
              "      <td>0</td>\n",
              "      <td>0</td>\n",
              "      <td>0</td>\n",
              "      <td>0</td>\n",
              "      <td>...</td>\n",
              "      <td>0</td>\n",
              "      <td>0</td>\n",
              "      <td>0</td>\n",
              "      <td>0</td>\n",
              "      <td>0</td>\n",
              "      <td>0</td>\n",
              "      <td>0</td>\n",
              "      <td>0</td>\n",
              "      <td>0</td>\n",
              "      <td>0</td>\n",
              "    </tr>\n",
              "    <tr>\n",
              "      <th>13773</th>\n",
              "      <td>0</td>\n",
              "      <td>0</td>\n",
              "      <td>0</td>\n",
              "      <td>0</td>\n",
              "      <td>0</td>\n",
              "      <td>0</td>\n",
              "      <td>0</td>\n",
              "      <td>0</td>\n",
              "      <td>0</td>\n",
              "      <td>0</td>\n",
              "      <td>...</td>\n",
              "      <td>0</td>\n",
              "      <td>0</td>\n",
              "      <td>0</td>\n",
              "      <td>0</td>\n",
              "      <td>0</td>\n",
              "      <td>0</td>\n",
              "      <td>0</td>\n",
              "      <td>0</td>\n",
              "      <td>0</td>\n",
              "      <td>0</td>\n",
              "    </tr>\n",
              "    <tr>\n",
              "      <th>13774</th>\n",
              "      <td>1</td>\n",
              "      <td>0</td>\n",
              "      <td>0</td>\n",
              "      <td>0</td>\n",
              "      <td>0</td>\n",
              "      <td>1</td>\n",
              "      <td>1</td>\n",
              "      <td>1</td>\n",
              "      <td>0</td>\n",
              "      <td>0</td>\n",
              "      <td>...</td>\n",
              "      <td>0</td>\n",
              "      <td>0</td>\n",
              "      <td>0</td>\n",
              "      <td>0</td>\n",
              "      <td>0</td>\n",
              "      <td>0</td>\n",
              "      <td>0</td>\n",
              "      <td>0</td>\n",
              "      <td>0</td>\n",
              "      <td>0</td>\n",
              "    </tr>\n",
              "    <tr>\n",
              "      <th>13775</th>\n",
              "      <td>1</td>\n",
              "      <td>0</td>\n",
              "      <td>0</td>\n",
              "      <td>1</td>\n",
              "      <td>0</td>\n",
              "      <td>0</td>\n",
              "      <td>0</td>\n",
              "      <td>1</td>\n",
              "      <td>0</td>\n",
              "      <td>0</td>\n",
              "      <td>...</td>\n",
              "      <td>0</td>\n",
              "      <td>0</td>\n",
              "      <td>0</td>\n",
              "      <td>0</td>\n",
              "      <td>0</td>\n",
              "      <td>0</td>\n",
              "      <td>0</td>\n",
              "      <td>0</td>\n",
              "      <td>0</td>\n",
              "      <td>0</td>\n",
              "    </tr>\n",
              "    <tr>\n",
              "      <th>13776</th>\n",
              "      <td>0</td>\n",
              "      <td>0</td>\n",
              "      <td>0</td>\n",
              "      <td>1</td>\n",
              "      <td>0</td>\n",
              "      <td>0</td>\n",
              "      <td>0</td>\n",
              "      <td>0</td>\n",
              "      <td>0</td>\n",
              "      <td>0</td>\n",
              "      <td>...</td>\n",
              "      <td>0</td>\n",
              "      <td>0</td>\n",
              "      <td>0</td>\n",
              "      <td>0</td>\n",
              "      <td>0</td>\n",
              "      <td>0</td>\n",
              "      <td>0</td>\n",
              "      <td>0</td>\n",
              "      <td>0</td>\n",
              "      <td>0</td>\n",
              "    </tr>\n",
              "  </tbody>\n",
              "</table>\n",
              "<p>13777 rows × 10000 columns</p>\n",
              "</div>\n",
              "      <button class=\"colab-df-convert\" onclick=\"convertToInteractive('df-2889817b-33a4-49e1-bf8b-9257e3009ceb')\"\n",
              "              title=\"Convert this dataframe to an interactive table.\"\n",
              "              style=\"display:none;\">\n",
              "        \n",
              "  <svg xmlns=\"http://www.w3.org/2000/svg\" height=\"24px\"viewBox=\"0 0 24 24\"\n",
              "       width=\"24px\">\n",
              "    <path d=\"M0 0h24v24H0V0z\" fill=\"none\"/>\n",
              "    <path d=\"M18.56 5.44l.94 2.06.94-2.06 2.06-.94-2.06-.94-.94-2.06-.94 2.06-2.06.94zm-11 1L8.5 8.5l.94-2.06 2.06-.94-2.06-.94L8.5 2.5l-.94 2.06-2.06.94zm10 10l.94 2.06.94-2.06 2.06-.94-2.06-.94-.94-2.06-.94 2.06-2.06.94z\"/><path d=\"M17.41 7.96l-1.37-1.37c-.4-.4-.92-.59-1.43-.59-.52 0-1.04.2-1.43.59L10.3 9.45l-7.72 7.72c-.78.78-.78 2.05 0 2.83L4 21.41c.39.39.9.59 1.41.59.51 0 1.02-.2 1.41-.59l7.78-7.78 2.81-2.81c.8-.78.8-2.07 0-2.86zM5.41 20L4 18.59l7.72-7.72 1.47 1.35L5.41 20z\"/>\n",
              "  </svg>\n",
              "      </button>\n",
              "      \n",
              "  <style>\n",
              "    .colab-df-container {\n",
              "      display:flex;\n",
              "      flex-wrap:wrap;\n",
              "      gap: 12px;\n",
              "    }\n",
              "\n",
              "    .colab-df-convert {\n",
              "      background-color: #E8F0FE;\n",
              "      border: none;\n",
              "      border-radius: 50%;\n",
              "      cursor: pointer;\n",
              "      display: none;\n",
              "      fill: #1967D2;\n",
              "      height: 32px;\n",
              "      padding: 0 0 0 0;\n",
              "      width: 32px;\n",
              "    }\n",
              "\n",
              "    .colab-df-convert:hover {\n",
              "      background-color: #E2EBFA;\n",
              "      box-shadow: 0px 1px 2px rgba(60, 64, 67, 0.3), 0px 1px 3px 1px rgba(60, 64, 67, 0.15);\n",
              "      fill: #174EA6;\n",
              "    }\n",
              "\n",
              "    [theme=dark] .colab-df-convert {\n",
              "      background-color: #3B4455;\n",
              "      fill: #D2E3FC;\n",
              "    }\n",
              "\n",
              "    [theme=dark] .colab-df-convert:hover {\n",
              "      background-color: #434B5C;\n",
              "      box-shadow: 0px 1px 3px 1px rgba(0, 0, 0, 0.15);\n",
              "      filter: drop-shadow(0px 1px 2px rgba(0, 0, 0, 0.3));\n",
              "      fill: #FFFFFF;\n",
              "    }\n",
              "  </style>\n",
              "\n",
              "      <script>\n",
              "        const buttonEl =\n",
              "          document.querySelector('#df-2889817b-33a4-49e1-bf8b-9257e3009ceb button.colab-df-convert');\n",
              "        buttonEl.style.display =\n",
              "          google.colab.kernel.accessAllowed ? 'block' : 'none';\n",
              "\n",
              "        async function convertToInteractive(key) {\n",
              "          const element = document.querySelector('#df-2889817b-33a4-49e1-bf8b-9257e3009ceb');\n",
              "          const dataTable =\n",
              "            await google.colab.kernel.invokeFunction('convertToInteractive',\n",
              "                                                     [key], {});\n",
              "          if (!dataTable) return;\n",
              "\n",
              "          const docLinkHtml = 'Like what you see? Visit the ' +\n",
              "            '<a target=\"_blank\" href=https://colab.research.google.com/notebooks/data_table.ipynb>data table notebook</a>'\n",
              "            + ' to learn more about interactive tables.';\n",
              "          element.innerHTML = '';\n",
              "          dataTable['output_type'] = 'display_data';\n",
              "          await google.colab.output.renderOutput(dataTable, element);\n",
              "          const docLink = document.createElement('div');\n",
              "          docLink.innerHTML = docLinkHtml;\n",
              "          element.appendChild(docLink);\n",
              "        }\n",
              "      </script>\n",
              "    </div>\n",
              "  </div>\n",
              "  "
            ]
          },
          "metadata": {},
          "execution_count": 28
        }
      ],
      "source": [
        "print(\"Dataframe of all spam emails:\")\n",
        "spam_df"
      ]
    },
    {
      "cell_type": "code",
      "execution_count": 29,
      "id": "5c4eee7c",
      "metadata": {
        "colab": {
          "base_uri": "https://localhost:8080/",
          "height": 505
        },
        "id": "5c4eee7c",
        "outputId": "65602735-bced-4bc3-d986-af56763449b5"
      },
      "outputs": [
        {
          "output_type": "stream",
          "name": "stdout",
          "text": [
            "Dataframe of all ham emails:\n"
          ]
        },
        {
          "output_type": "execute_result",
          "data": {
            "text/plain": [
              "      px  float  will  bb  styledborder  producttable  left  color  board  \\\n",
              "0      0      0     1   0             0             0     0      0      0   \n",
              "1      0      0     0   0             0             0     0      0      0   \n",
              "2      0      0     0   0             0             0     0      0      0   \n",
              "3      0      0     0   0             0             0     0      0      0   \n",
              "4      0      0     0   0             0             0     0      0      0   \n",
              "...   ..    ...   ...  ..           ...           ...   ...    ...    ...   \n",
              "7518   0      0     0   0             0             0     0      0      0   \n",
              "7519   0      0     0   0             0             0     0      0      0   \n",
              "7520   0      0     1   0             0             0     0      0      0   \n",
              "7521   0      0     1   0             0             0     0      0      1   \n",
              "7522   0      0     0   0             0             0     0      0      0   \n",
              "\n",
              "      span  ...  ici  peasant  wooden  feebeeeeeae  eeebfcedeefeec  efbfffee  \\\n",
              "0        0  ...    1        0       0            0               0         0   \n",
              "1        0  ...    0        0       0            0               0         0   \n",
              "2        0  ...    0        0       0            0               0         0   \n",
              "3        0  ...    0        0       0            0               0         0   \n",
              "4        0  ...    0        0       0            0               0         0   \n",
              "...    ...  ...  ...      ...     ...          ...             ...       ...   \n",
              "7518     0  ...    0        0       0            0               0         0   \n",
              "7519     0  ...    0        0       0            0               0         0   \n",
              "7520     0  ...    1        0       0            0               0         0   \n",
              "7521     0  ...    0        0       0            0               0         0   \n",
              "7522     0  ...    0        0       0            0               0         0   \n",
              "\n",
              "      globally  compmailpine  thy  quarters  \n",
              "0            0             0    0         0  \n",
              "1            0             0    0         0  \n",
              "2            0             0    0         0  \n",
              "3            0             0    0         0  \n",
              "4            0             0    0         0  \n",
              "...        ...           ...  ...       ...  \n",
              "7518         0             0    0         0  \n",
              "7519         0             0    0         0  \n",
              "7520         0             0    0         0  \n",
              "7521         0             0    0         0  \n",
              "7522         0             0    0         0  \n",
              "\n",
              "[7523 rows x 10000 columns]"
            ],
            "text/html": [
              "\n",
              "  <div id=\"df-366c04b1-6eec-434d-81d5-000e2224dd90\">\n",
              "    <div class=\"colab-df-container\">\n",
              "      <div>\n",
              "<style scoped>\n",
              "    .dataframe tbody tr th:only-of-type {\n",
              "        vertical-align: middle;\n",
              "    }\n",
              "\n",
              "    .dataframe tbody tr th {\n",
              "        vertical-align: top;\n",
              "    }\n",
              "\n",
              "    .dataframe thead th {\n",
              "        text-align: right;\n",
              "    }\n",
              "</style>\n",
              "<table border=\"1\" class=\"dataframe\">\n",
              "  <thead>\n",
              "    <tr style=\"text-align: right;\">\n",
              "      <th></th>\n",
              "      <th>px</th>\n",
              "      <th>float</th>\n",
              "      <th>will</th>\n",
              "      <th>bb</th>\n",
              "      <th>styledborder</th>\n",
              "      <th>producttable</th>\n",
              "      <th>left</th>\n",
              "      <th>color</th>\n",
              "      <th>board</th>\n",
              "      <th>span</th>\n",
              "      <th>...</th>\n",
              "      <th>ici</th>\n",
              "      <th>peasant</th>\n",
              "      <th>wooden</th>\n",
              "      <th>feebeeeeeae</th>\n",
              "      <th>eeebfcedeefeec</th>\n",
              "      <th>efbfffee</th>\n",
              "      <th>globally</th>\n",
              "      <th>compmailpine</th>\n",
              "      <th>thy</th>\n",
              "      <th>quarters</th>\n",
              "    </tr>\n",
              "  </thead>\n",
              "  <tbody>\n",
              "    <tr>\n",
              "      <th>0</th>\n",
              "      <td>0</td>\n",
              "      <td>0</td>\n",
              "      <td>1</td>\n",
              "      <td>0</td>\n",
              "      <td>0</td>\n",
              "      <td>0</td>\n",
              "      <td>0</td>\n",
              "      <td>0</td>\n",
              "      <td>0</td>\n",
              "      <td>0</td>\n",
              "      <td>...</td>\n",
              "      <td>1</td>\n",
              "      <td>0</td>\n",
              "      <td>0</td>\n",
              "      <td>0</td>\n",
              "      <td>0</td>\n",
              "      <td>0</td>\n",
              "      <td>0</td>\n",
              "      <td>0</td>\n",
              "      <td>0</td>\n",
              "      <td>0</td>\n",
              "    </tr>\n",
              "    <tr>\n",
              "      <th>1</th>\n",
              "      <td>0</td>\n",
              "      <td>0</td>\n",
              "      <td>0</td>\n",
              "      <td>0</td>\n",
              "      <td>0</td>\n",
              "      <td>0</td>\n",
              "      <td>0</td>\n",
              "      <td>0</td>\n",
              "      <td>0</td>\n",
              "      <td>0</td>\n",
              "      <td>...</td>\n",
              "      <td>0</td>\n",
              "      <td>0</td>\n",
              "      <td>0</td>\n",
              "      <td>0</td>\n",
              "      <td>0</td>\n",
              "      <td>0</td>\n",
              "      <td>0</td>\n",
              "      <td>0</td>\n",
              "      <td>0</td>\n",
              "      <td>0</td>\n",
              "    </tr>\n",
              "    <tr>\n",
              "      <th>2</th>\n",
              "      <td>0</td>\n",
              "      <td>0</td>\n",
              "      <td>0</td>\n",
              "      <td>0</td>\n",
              "      <td>0</td>\n",
              "      <td>0</td>\n",
              "      <td>0</td>\n",
              "      <td>0</td>\n",
              "      <td>0</td>\n",
              "      <td>0</td>\n",
              "      <td>...</td>\n",
              "      <td>0</td>\n",
              "      <td>0</td>\n",
              "      <td>0</td>\n",
              "      <td>0</td>\n",
              "      <td>0</td>\n",
              "      <td>0</td>\n",
              "      <td>0</td>\n",
              "      <td>0</td>\n",
              "      <td>0</td>\n",
              "      <td>0</td>\n",
              "    </tr>\n",
              "    <tr>\n",
              "      <th>3</th>\n",
              "      <td>0</td>\n",
              "      <td>0</td>\n",
              "      <td>0</td>\n",
              "      <td>0</td>\n",
              "      <td>0</td>\n",
              "      <td>0</td>\n",
              "      <td>0</td>\n",
              "      <td>0</td>\n",
              "      <td>0</td>\n",
              "      <td>0</td>\n",
              "      <td>...</td>\n",
              "      <td>0</td>\n",
              "      <td>0</td>\n",
              "      <td>0</td>\n",
              "      <td>0</td>\n",
              "      <td>0</td>\n",
              "      <td>0</td>\n",
              "      <td>0</td>\n",
              "      <td>0</td>\n",
              "      <td>0</td>\n",
              "      <td>0</td>\n",
              "    </tr>\n",
              "    <tr>\n",
              "      <th>4</th>\n",
              "      <td>0</td>\n",
              "      <td>0</td>\n",
              "      <td>0</td>\n",
              "      <td>0</td>\n",
              "      <td>0</td>\n",
              "      <td>0</td>\n",
              "      <td>0</td>\n",
              "      <td>0</td>\n",
              "      <td>0</td>\n",
              "      <td>0</td>\n",
              "      <td>...</td>\n",
              "      <td>0</td>\n",
              "      <td>0</td>\n",
              "      <td>0</td>\n",
              "      <td>0</td>\n",
              "      <td>0</td>\n",
              "      <td>0</td>\n",
              "      <td>0</td>\n",
              "      <td>0</td>\n",
              "      <td>0</td>\n",
              "      <td>0</td>\n",
              "    </tr>\n",
              "    <tr>\n",
              "      <th>...</th>\n",
              "      <td>...</td>\n",
              "      <td>...</td>\n",
              "      <td>...</td>\n",
              "      <td>...</td>\n",
              "      <td>...</td>\n",
              "      <td>...</td>\n",
              "      <td>...</td>\n",
              "      <td>...</td>\n",
              "      <td>...</td>\n",
              "      <td>...</td>\n",
              "      <td>...</td>\n",
              "      <td>...</td>\n",
              "      <td>...</td>\n",
              "      <td>...</td>\n",
              "      <td>...</td>\n",
              "      <td>...</td>\n",
              "      <td>...</td>\n",
              "      <td>...</td>\n",
              "      <td>...</td>\n",
              "      <td>...</td>\n",
              "      <td>...</td>\n",
              "    </tr>\n",
              "    <tr>\n",
              "      <th>7518</th>\n",
              "      <td>0</td>\n",
              "      <td>0</td>\n",
              "      <td>0</td>\n",
              "      <td>0</td>\n",
              "      <td>0</td>\n",
              "      <td>0</td>\n",
              "      <td>0</td>\n",
              "      <td>0</td>\n",
              "      <td>0</td>\n",
              "      <td>0</td>\n",
              "      <td>...</td>\n",
              "      <td>0</td>\n",
              "      <td>0</td>\n",
              "      <td>0</td>\n",
              "      <td>0</td>\n",
              "      <td>0</td>\n",
              "      <td>0</td>\n",
              "      <td>0</td>\n",
              "      <td>0</td>\n",
              "      <td>0</td>\n",
              "      <td>0</td>\n",
              "    </tr>\n",
              "    <tr>\n",
              "      <th>7519</th>\n",
              "      <td>0</td>\n",
              "      <td>0</td>\n",
              "      <td>0</td>\n",
              "      <td>0</td>\n",
              "      <td>0</td>\n",
              "      <td>0</td>\n",
              "      <td>0</td>\n",
              "      <td>0</td>\n",
              "      <td>0</td>\n",
              "      <td>0</td>\n",
              "      <td>...</td>\n",
              "      <td>0</td>\n",
              "      <td>0</td>\n",
              "      <td>0</td>\n",
              "      <td>0</td>\n",
              "      <td>0</td>\n",
              "      <td>0</td>\n",
              "      <td>0</td>\n",
              "      <td>0</td>\n",
              "      <td>0</td>\n",
              "      <td>0</td>\n",
              "    </tr>\n",
              "    <tr>\n",
              "      <th>7520</th>\n",
              "      <td>0</td>\n",
              "      <td>0</td>\n",
              "      <td>1</td>\n",
              "      <td>0</td>\n",
              "      <td>0</td>\n",
              "      <td>0</td>\n",
              "      <td>0</td>\n",
              "      <td>0</td>\n",
              "      <td>0</td>\n",
              "      <td>0</td>\n",
              "      <td>...</td>\n",
              "      <td>1</td>\n",
              "      <td>0</td>\n",
              "      <td>0</td>\n",
              "      <td>0</td>\n",
              "      <td>0</td>\n",
              "      <td>0</td>\n",
              "      <td>0</td>\n",
              "      <td>0</td>\n",
              "      <td>0</td>\n",
              "      <td>0</td>\n",
              "    </tr>\n",
              "    <tr>\n",
              "      <th>7521</th>\n",
              "      <td>0</td>\n",
              "      <td>0</td>\n",
              "      <td>1</td>\n",
              "      <td>0</td>\n",
              "      <td>0</td>\n",
              "      <td>0</td>\n",
              "      <td>0</td>\n",
              "      <td>0</td>\n",
              "      <td>1</td>\n",
              "      <td>0</td>\n",
              "      <td>...</td>\n",
              "      <td>0</td>\n",
              "      <td>0</td>\n",
              "      <td>0</td>\n",
              "      <td>0</td>\n",
              "      <td>0</td>\n",
              "      <td>0</td>\n",
              "      <td>0</td>\n",
              "      <td>0</td>\n",
              "      <td>0</td>\n",
              "      <td>0</td>\n",
              "    </tr>\n",
              "    <tr>\n",
              "      <th>7522</th>\n",
              "      <td>0</td>\n",
              "      <td>0</td>\n",
              "      <td>0</td>\n",
              "      <td>0</td>\n",
              "      <td>0</td>\n",
              "      <td>0</td>\n",
              "      <td>0</td>\n",
              "      <td>0</td>\n",
              "      <td>0</td>\n",
              "      <td>0</td>\n",
              "      <td>...</td>\n",
              "      <td>0</td>\n",
              "      <td>0</td>\n",
              "      <td>0</td>\n",
              "      <td>0</td>\n",
              "      <td>0</td>\n",
              "      <td>0</td>\n",
              "      <td>0</td>\n",
              "      <td>0</td>\n",
              "      <td>0</td>\n",
              "      <td>0</td>\n",
              "    </tr>\n",
              "  </tbody>\n",
              "</table>\n",
              "<p>7523 rows × 10000 columns</p>\n",
              "</div>\n",
              "      <button class=\"colab-df-convert\" onclick=\"convertToInteractive('df-366c04b1-6eec-434d-81d5-000e2224dd90')\"\n",
              "              title=\"Convert this dataframe to an interactive table.\"\n",
              "              style=\"display:none;\">\n",
              "        \n",
              "  <svg xmlns=\"http://www.w3.org/2000/svg\" height=\"24px\"viewBox=\"0 0 24 24\"\n",
              "       width=\"24px\">\n",
              "    <path d=\"M0 0h24v24H0V0z\" fill=\"none\"/>\n",
              "    <path d=\"M18.56 5.44l.94 2.06.94-2.06 2.06-.94-2.06-.94-.94-2.06-.94 2.06-2.06.94zm-11 1L8.5 8.5l.94-2.06 2.06-.94-2.06-.94L8.5 2.5l-.94 2.06-2.06.94zm10 10l.94 2.06.94-2.06 2.06-.94-2.06-.94-.94-2.06-.94 2.06-2.06.94z\"/><path d=\"M17.41 7.96l-1.37-1.37c-.4-.4-.92-.59-1.43-.59-.52 0-1.04.2-1.43.59L10.3 9.45l-7.72 7.72c-.78.78-.78 2.05 0 2.83L4 21.41c.39.39.9.59 1.41.59.51 0 1.02-.2 1.41-.59l7.78-7.78 2.81-2.81c.8-.78.8-2.07 0-2.86zM5.41 20L4 18.59l7.72-7.72 1.47 1.35L5.41 20z\"/>\n",
              "  </svg>\n",
              "      </button>\n",
              "      \n",
              "  <style>\n",
              "    .colab-df-container {\n",
              "      display:flex;\n",
              "      flex-wrap:wrap;\n",
              "      gap: 12px;\n",
              "    }\n",
              "\n",
              "    .colab-df-convert {\n",
              "      background-color: #E8F0FE;\n",
              "      border: none;\n",
              "      border-radius: 50%;\n",
              "      cursor: pointer;\n",
              "      display: none;\n",
              "      fill: #1967D2;\n",
              "      height: 32px;\n",
              "      padding: 0 0 0 0;\n",
              "      width: 32px;\n",
              "    }\n",
              "\n",
              "    .colab-df-convert:hover {\n",
              "      background-color: #E2EBFA;\n",
              "      box-shadow: 0px 1px 2px rgba(60, 64, 67, 0.3), 0px 1px 3px 1px rgba(60, 64, 67, 0.15);\n",
              "      fill: #174EA6;\n",
              "    }\n",
              "\n",
              "    [theme=dark] .colab-df-convert {\n",
              "      background-color: #3B4455;\n",
              "      fill: #D2E3FC;\n",
              "    }\n",
              "\n",
              "    [theme=dark] .colab-df-convert:hover {\n",
              "      background-color: #434B5C;\n",
              "      box-shadow: 0px 1px 3px 1px rgba(0, 0, 0, 0.15);\n",
              "      filter: drop-shadow(0px 1px 2px rgba(0, 0, 0, 0.3));\n",
              "      fill: #FFFFFF;\n",
              "    }\n",
              "  </style>\n",
              "\n",
              "      <script>\n",
              "        const buttonEl =\n",
              "          document.querySelector('#df-366c04b1-6eec-434d-81d5-000e2224dd90 button.colab-df-convert');\n",
              "        buttonEl.style.display =\n",
              "          google.colab.kernel.accessAllowed ? 'block' : 'none';\n",
              "\n",
              "        async function convertToInteractive(key) {\n",
              "          const element = document.querySelector('#df-366c04b1-6eec-434d-81d5-000e2224dd90');\n",
              "          const dataTable =\n",
              "            await google.colab.kernel.invokeFunction('convertToInteractive',\n",
              "                                                     [key], {});\n",
              "          if (!dataTable) return;\n",
              "\n",
              "          const docLinkHtml = 'Like what you see? Visit the ' +\n",
              "            '<a target=\"_blank\" href=https://colab.research.google.com/notebooks/data_table.ipynb>data table notebook</a>'\n",
              "            + ' to learn more about interactive tables.';\n",
              "          element.innerHTML = '';\n",
              "          dataTable['output_type'] = 'display_data';\n",
              "          await google.colab.output.renderOutput(dataTable, element);\n",
              "          const docLink = document.createElement('div');\n",
              "          docLink.innerHTML = docLinkHtml;\n",
              "          element.appendChild(docLink);\n",
              "        }\n",
              "      </script>\n",
              "    </div>\n",
              "  </div>\n",
              "  "
            ]
          },
          "metadata": {},
          "execution_count": 29
        }
      ],
      "source": [
        "print(\"Dataframe of all ham emails:\")\n",
        "ham_df"
      ]
    },
    {
      "cell_type": "code",
      "execution_count": 30,
      "id": "5bb16269",
      "metadata": {
        "colab": {
          "base_uri": "https://localhost:8080/"
        },
        "id": "5bb16269",
        "outputId": "37795120-e16b-4d68-8f2e-643ff202259c"
      },
      "outputs": [
        {
          "output_type": "stream",
          "name": "stdout",
          "text": [
            "P(c = ham) = 0.3531924882629108\n",
            "P(c = spam) = 0.6468075117370893\n"
          ]
        }
      ],
      "source": [
        "# Compute priors\n",
        "ham_count = 0\n",
        "for i in classification_array:\n",
        "    if i == 'ham':\n",
        "        ham_count = ham_count + 1\n",
        "p_ham = ham_count / len(classification_array)\n",
        "p_spam = 1.0 - p_ham\n",
        "print(f\"P(c = ham) = {p_ham}\\nP(c = spam) = {p_spam}\")"
      ]
    },
    {
      "cell_type": "code",
      "execution_count": 31,
      "id": "17314501",
      "metadata": {
        "colab": {
          "base_uri": "https://localhost:8080/"
        },
        "id": "17314501",
        "outputId": "e7e61cf3-817e-444e-9183-edcb1ab4d2dc"
      },
      "outputs": [
        {
          "output_type": "stream",
          "name": "stdout",
          "text": [
            "Spam total words: 2322803\n",
            "Ham total words: 1402493\n"
          ]
        }
      ],
      "source": [
        "# Get total spam and ham words\n",
        "spam_total_count = np.sum(np.sum(spam_df.loc[:, spam_df.columns != 'spam or ham'], axis=1)) \n",
        "ham_total_count = np.sum(np.sum(ham_df.loc[:, ham_df.columns != 'spam or ham'], axis=1)) \n",
        "\n",
        "print(f\"Spam total words: {spam_total_count}\\nHam total words: {ham_total_count}\")"
      ]
    },
    {
      "cell_type": "code",
      "execution_count": 32,
      "id": "cc0ddf47",
      "metadata": {
        "id": "cc0ddf47"
      },
      "outputs": [],
      "source": [
        "def isEmailSpamOrHam(p_ham, p_spam, smooth, word_count, email_body, spam_df, ham_df, spam_total_count, ham_total_count):\n",
        "    index_checker = 0\n",
        "    word_spam_score = 0\n",
        "    word_ham_score = 0\n",
        "    email_spam_score = 0\n",
        "    email_ham_score = 0\n",
        "    \n",
        "    # For each word in email_body:\n",
        "    for i in email_body.split():\n",
        "        try:\n",
        "            \n",
        "            # all scores of current word in spam\n",
        "            word_spam_score = np.sum(spam_df[i])\n",
        "            \n",
        "            # all scores of current word in ham\n",
        "            word_ham_score = np.sum(ham_df[i])\n",
        "            \n",
        "            # get P(word|spam)\n",
        "            p_word_spam = (word_spam_score + smooth) / (spam_total_count + (smooth * word_count))\n",
        "            email_spam_score = email_spam_score + np.log(p_word_spam)\n",
        "            \n",
        "            # get P(word|ham)\n",
        "            p_word_ham = (word_ham_score + smooth) / (ham_total_count + (smooth * word_count))\n",
        "            email_ham_score = email_ham_score + np.log(p_word_ham)\n",
        "            \n",
        "            # reset word scores\n",
        "            word_spam_score = 0\n",
        "            word_ham_score = 0\n",
        "                \n",
        "        except:\n",
        "            # when word is not in the columns since we did cut to 10k\n",
        "            pass\n",
        "    \n",
        "    return 'spam' if (email_spam_score + np.log(p_spam)) > (email_ham_score + np.log(p_ham)) else 'ham'"
      ]
    },
    {
      "cell_type": "code",
      "execution_count": 33,
      "id": "247aef57",
      "metadata": {
        "id": "247aef57"
      },
      "outputs": [],
      "source": [
        "# Get guesses for the train set into an array\n",
        "train_class_guess = []\n",
        "for i in range(len(classification_array)):\n",
        "    guess = isEmailSpamOrHam(p_ham, p_spam, 1, 10000, clean_email_array[i], spam_df, ham_df, spam_total_count, ham_total_count)\n",
        "    train_class_guess.append(guess)"
      ]
    },
    {
      "cell_type": "code",
      "source": [
        "# check correct guesses on train set. This is equal to the accuracy.\n",
        "train_points = 0\n",
        "for i in range(len(classification_array)):\n",
        "    if classification_array[i] == train_class_guess[i]:\n",
        "        train_points = train_points + 1\n",
        "print(f\"Final train score: {train_points}/{len(classification_array)} or {(train_points / len(classification_array)) * 100}%\")"
      ],
      "metadata": {
        "colab": {
          "base_uri": "https://localhost:8080/"
        },
        "id": "MiSeim-rTRTa",
        "outputId": "39927be4-6248-4569-fd5e-156214cebb57"
      },
      "id": "MiSeim-rTRTa",
      "execution_count": 34,
      "outputs": [
        {
          "output_type": "stream",
          "name": "stdout",
          "text": [
            "Final train score: 20696/21300 or 97.16431924882629%\n"
          ]
        }
      ]
    },
    {
      "cell_type": "code",
      "source": [
        "# predicting test classifications\n",
        "test_class_guess = []\n",
        "for i in range(len(test_classification_array)):\n",
        "    guess_in_test = isEmailSpamOrHam(p_ham, p_spam, 1, 10000, test_clean_email_array[i], spam_df, ham_df, spam_total_count, ham_total_count)\n",
        "    test_class_guess.append(guess_in_test)"
      ],
      "metadata": {
        "id": "eD97H8Pctzaf"
      },
      "id": "eD97H8Pctzaf",
      "execution_count": 35,
      "outputs": []
    },
    {
      "cell_type": "code",
      "source": [
        "# check correct guesses on test set\n",
        "test_points = 0\n",
        "for i in range(len(test_classification_array)):\n",
        "    if test_classification_array[i] == test_class_guess[i]:\n",
        "        test_points = test_points + 1\n",
        "print(f\"Final test score: {test_points}/{len(test_classification_array)} or {(test_points / len(test_classification_array)) * 100}%\")"
      ],
      "metadata": {
        "colab": {
          "base_uri": "https://localhost:8080/"
        },
        "id": "jiuMIPCUVNOz",
        "outputId": "bb4df1f9-400f-4183-ae90-9d869d8265de"
      },
      "id": "jiuMIPCUVNOz",
      "execution_count": 36,
      "outputs": [
        {
          "output_type": "stream",
          "name": "stdout",
          "text": [
            "Final test score: 15445/16522 or 93.48141871444136%\n"
          ]
        }
      ]
    },
    {
      "cell_type": "code",
      "source": [
        "accuracy_s = sklearn.metrics.accuracy_score(test_classification_array, test_class_guess)\n",
        "print(f\"Accuracy score is: {accuracy_s}, same as the above computation\")"
      ],
      "metadata": {
        "colab": {
          "base_uri": "https://localhost:8080/"
        },
        "id": "qaVAspSx4bOU",
        "outputId": "4f1bcf93-d3c2-400e-ab66-891b6a392382"
      },
      "id": "qaVAspSx4bOU",
      "execution_count": 37,
      "outputs": [
        {
          "output_type": "stream",
          "name": "stdout",
          "text": [
            "Accuracy score is: 0.9348141871444136, same as the above computation\n"
          ]
        }
      ]
    },
    {
      "cell_type": "code",
      "source": [
        "recall_s = sklearn.metrics.recall_score(test_classification_array, test_class_guess, pos_label = 'ham')\n",
        "print(f\"Recall score is: {recall_s}\")"
      ],
      "metadata": {
        "colab": {
          "base_uri": "https://localhost:8080/"
        },
        "id": "hx53kQ1e1xLT",
        "outputId": "e5ec647d-95cf-4384-ea32-a5157199c639"
      },
      "id": "hx53kQ1e1xLT",
      "execution_count": 38,
      "outputs": [
        {
          "output_type": "stream",
          "name": "stdout",
          "text": [
            "Recall score is: 0.8993874141451643\n"
          ]
        }
      ]
    },
    {
      "cell_type": "code",
      "source": [
        "precision_s = sklearn.metrics.precision_score(test_classification_array, test_class_guess, pos_label = 'ham')\n",
        "print(f\"Precision score is: {precision_s}\")"
      ],
      "metadata": {
        "colab": {
          "base_uri": "https://localhost:8080/"
        },
        "id": "7cGufkBB5G8k",
        "outputId": "bb63b046-5f3b-44ab-d035-520d97d5dcc2"
      },
      "id": "7cGufkBB5G8k",
      "execution_count": 39,
      "outputs": [
        {
          "output_type": "stream",
          "name": "stdout",
          "text": [
            "Precision score is: 0.9005576208178439\n"
          ]
        }
      ]
    },
    {
      "cell_type": "markdown",
      "source": [
        "## Using uncleaned email bodies to check:"
      ],
      "metadata": {
        "id": "hzY-rlQoAecd"
      },
      "id": "hzY-rlQoAecd"
    },
    {
      "cell_type": "code",
      "source": [
        "# using unclean email bodies of test set\n",
        "# predicting test classifications\n",
        "unclean_test_class_guess = []\n",
        "for i in range(len(test_classification_array)):\n",
        "    unclean_guess_in_test = isEmailSpamOrHam(p_ham, p_spam, 1, 10000, test_email_body_array[i], spam_df, ham_df,  spam_total_count, ham_total_count)\n",
        "    unclean_test_class_guess.append(unclean_guess_in_test)"
      ],
      "metadata": {
        "id": "5Hsdhwxi7XDz"
      },
      "id": "5Hsdhwxi7XDz",
      "execution_count": 40,
      "outputs": []
    },
    {
      "cell_type": "code",
      "source": [
        "unclean_accuracy_s = sklearn.metrics.accuracy_score(test_classification_array, unclean_test_class_guess)\n",
        "unclean_recall_s = sklearn.metrics.recall_score(test_classification_array, unclean_test_class_guess, pos_label = 'ham')\n",
        "unclean_precision_s = sklearn.metrics.precision_score(test_classification_array, unclean_test_class_guess, pos_label = 'ham')\n",
        "print(f\"Accuracy score on uncleaned set is: {unclean_accuracy_s}\")\n",
        "print(f\"Recall score on uncleaned set is: {unclean_recall_s}\")\n",
        "print(f\"Precision score on uncleaned set is: {unclean_precision_s}\")"
      ],
      "metadata": {
        "colab": {
          "base_uri": "https://localhost:8080/"
        },
        "id": "bonN9GwM-l47",
        "outputId": "ee2f83ca-6266-4ee4-e600-848f29c35d4c"
      },
      "id": "bonN9GwM-l47",
      "execution_count": 41,
      "outputs": [
        {
          "output_type": "stream",
          "name": "stdout",
          "text": [
            "Accuracy score on uncleaned set is: 0.8959569059435903\n",
            "Recall score on uncleaned set is: 0.9014293669946166\n",
            "Precision score on uncleaned set is: 0.8034414295168762\n"
          ]
        }
      ]
    },
    {
      "cell_type": "markdown",
      "source": [
        "## Testing trimmed set, from 10k words down to 1k"
      ],
      "metadata": {
        "id": "0VUQiKRNT4lO"
      },
      "id": "0VUQiKRNT4lO"
    },
    {
      "cell_type": "code",
      "source": [
        "# for trimmed word counts\n",
        "# trim the \"sorted\" dictionaries (first 1000 words)\n",
        "trimmed_spam_dict = {k: spam_dict[k] for k in list(spam_dict)[:1000]}\n",
        "trimmed_ham_dict = {k: ham_dict[k] for k in list(ham_dict)[:1000]}\n",
        "print(f\"Created trimmed spam and ham dicts with lengths: {len(trimmed_spam_dict)} and {len(trimmed_ham_dict)}\")"
      ],
      "metadata": {
        "colab": {
          "base_uri": "https://localhost:8080/"
        },
        "id": "8fwUI4tcMjKY",
        "outputId": "ed5d85a5-f0ef-4a1e-c894-0316aa2a12d6"
      },
      "id": "8fwUI4tcMjKY",
      "execution_count": 42,
      "outputs": [
        {
          "output_type": "stream",
          "name": "stdout",
          "text": [
            "Created trimmed spam and ham dicts with lengths: 1000 and 1000\n"
          ]
        }
      ]
    },
    {
      "cell_type": "code",
      "source": [
        "# for trimmed word counts\n",
        "# create dataframes\n",
        "trimmed_spam_df = pd.DataFrame.from_dict(trimmed_spam_dict)\n",
        "trimmed_ham_df = pd.DataFrame.from_dict(trimmed_ham_dict)\n",
        "print(\"Trimmed Spam and Ham dataframes created successfully.\")"
      ],
      "metadata": {
        "colab": {
          "base_uri": "https://localhost:8080/"
        },
        "id": "DITIpdAoNORH",
        "outputId": "0dcd60be-a710-419a-da21-1110edc9b490"
      },
      "id": "DITIpdAoNORH",
      "execution_count": 43,
      "outputs": [
        {
          "output_type": "stream",
          "name": "stdout",
          "text": [
            "Trimmed Spam and Ham dataframes created successfully.\n"
          ]
        }
      ]
    },
    {
      "cell_type": "code",
      "source": [
        "# for trimmed word counts\n",
        "# Get total spam and ham words\n",
        "trimmed_spam_total_count = np.sum(np.sum(trimmed_spam_df, axis=1)) \n",
        "trimmed_ham_total_count = np.sum(np.sum(trimmed_ham_df, axis=1)) \n",
        "\n",
        "print(f\"Spam total words: {trimmed_spam_total_count}\\nHam total words: {trimmed_ham_total_count}\")"
      ],
      "metadata": {
        "colab": {
          "base_uri": "https://localhost:8080/"
        },
        "id": "F71t4_a_Ntjs",
        "outputId": "33e9fe82-ba83-4c24-a9a2-0ddb62e99909"
      },
      "id": "F71t4_a_Ntjs",
      "execution_count": 44,
      "outputs": [
        {
          "output_type": "stream",
          "name": "stdout",
          "text": [
            "Spam total words: 627198\n",
            "Ham total words: 374360\n"
          ]
        }
      ]
    },
    {
      "cell_type": "code",
      "source": [
        "# for trimmed word counts\n",
        "# predicting test classifications\n",
        "trimmed_test_class_guess = []\n",
        "for i in range(len(test_classification_array)):\n",
        "    trimmed_guess_in_test = isEmailSpamOrHam(p_ham, p_spam, 1, 1000, test_clean_email_array[i], trimmed_spam_df, trimmed_ham_df, trimmed_spam_total_count, trimmed_ham_total_count)\n",
        "    trimmed_test_class_guess.append(trimmed_guess_in_test)\n",
        "print(f\"Done. Guess length is : {len(trimmed_test_class_guess)}\")"
      ],
      "metadata": {
        "colab": {
          "base_uri": "https://localhost:8080/"
        },
        "id": "jdQ_Z5ObPS6a",
        "outputId": "bcb9ca45-46f6-4cd9-bc57-cf8f1f998a7b"
      },
      "id": "jdQ_Z5ObPS6a",
      "execution_count": 45,
      "outputs": [
        {
          "output_type": "stream",
          "name": "stdout",
          "text": [
            "Done. Guess length is : 16522\n"
          ]
        }
      ]
    },
    {
      "cell_type": "code",
      "source": [
        "trimmed_accuracy_s = sklearn.metrics.accuracy_score(test_classification_array, trimmed_test_class_guess)\n",
        "print(f\"Accuracy score is: {trimmed_accuracy_s}, compared to 10k words with {accuracy_s}\")"
      ],
      "metadata": {
        "colab": {
          "base_uri": "https://localhost:8080/"
        },
        "id": "9u3QxNOeRUWj",
        "outputId": "ddd3abf5-53ff-4327-8fb3-ebfe8187797b"
      },
      "id": "9u3QxNOeRUWj",
      "execution_count": 46,
      "outputs": [
        {
          "output_type": "stream",
          "name": "stdout",
          "text": [
            "Accuracy score is: 0.9220433361578502, compared to 10k words with 0.9348141871444136\n"
          ]
        }
      ]
    },
    {
      "cell_type": "code",
      "source": [
        "trimmed_recall_s = sklearn.metrics.recall_score(test_classification_array, trimmed_test_class_guess, pos_label = 'ham')\n",
        "print(f\"Recall score is: {trimmed_recall_s}, compared to 10k words with: {recall_s}\")"
      ],
      "metadata": {
        "colab": {
          "base_uri": "https://localhost:8080/"
        },
        "id": "Aq7T_m9hRuLv",
        "outputId": "0f8c25e6-84db-4828-f872-10fb516371ce"
      },
      "id": "Aq7T_m9hRuLv",
      "execution_count": 47,
      "outputs": [
        {
          "output_type": "stream",
          "name": "stdout",
          "text": [
            "Recall score is: 0.8706144421756079, compared to 10k words with: 0.8993874141451643\n"
          ]
        }
      ]
    },
    {
      "cell_type": "code",
      "source": [
        "trimmed_precision_s = sklearn.metrics.precision_score(test_classification_array, trimmed_test_class_guess, pos_label = 'ham')\n",
        "print(f\"Precision score is: {trimmed_precision_s}, compared to 10k words with: {precision_s}\")"
      ],
      "metadata": {
        "colab": {
          "base_uri": "https://localhost:8080/"
        },
        "id": "pMJUNzV_STng",
        "outputId": "14c7498e-ea4f-45bf-eef8-dfc633be6023"
      },
      "id": "pMJUNzV_STng",
      "execution_count": 48,
      "outputs": [
        {
          "output_type": "stream",
          "name": "stdout",
          "text": [
            "Precision score is: 0.8880893770119296, compared to 10k words with: 0.9005576208178439\n"
          ]
        }
      ]
    },
    {
      "cell_type": "markdown",
      "source": [
        "## Comparing metrics for Cleaned, Uncleaned, and Trimmed"
      ],
      "metadata": {
        "id": "H5o1g5QzoUPN"
      },
      "id": "H5o1g5QzoUPN"
    },
    {
      "cell_type": "code",
      "source": [
        "plt.bar(['Cleaned','Uncleaned', 'Trimmed'], [accuracy_s, unclean_accuracy_s, trimmed_accuracy_s])\n",
        "plt.title('Accuracy Comparison')\n",
        "plt.show()"
      ],
      "metadata": {
        "colab": {
          "base_uri": "https://localhost:8080/",
          "height": 281
        },
        "id": "1k3dkt91I-9T",
        "outputId": "02a5732b-3821-443a-efa2-0dd1e7591da1"
      },
      "id": "1k3dkt91I-9T",
      "execution_count": 49,
      "outputs": [
        {
          "output_type": "display_data",
          "data": {
            "text/plain": [
              "<Figure size 432x288 with 1 Axes>"
            ],
            "image/png": "[encoded data removed]"
          },
          "metadata": {
            "needs_background": "light"
          }
        }
      ]
    },
    {
      "cell_type": "code",
      "source": [
        "plt.bar(['Cleaned','Uncleaned', 'Trimmed'], [recall_s, unclean_recall_s, trimmed_recall_s])\n",
        "plt.title('Recall Comparison')\n",
        "plt.show()"
      ],
      "metadata": {
        "colab": {
          "base_uri": "https://localhost:8080/",
          "height": 281
        },
        "id": "NxX5kZZNJiY5",
        "outputId": "ac0f22ab-7db2-43c9-b2a8-b1d19be57513"
      },
      "id": "NxX5kZZNJiY5",
      "execution_count": 50,
      "outputs": [
        {
          "output_type": "display_data",
          "data": {
            "text/plain": [
              "<Figure size 432x288 with 1 Axes>"
            ],
            "image/png": "[encoded data removed]"
          },
          "metadata": {
            "needs_background": "light"
          }
        }
      ]
    },
    {
      "cell_type": "code",
      "source": [
        "plt.bar(['Cleaned','Uncleaned', 'Trimmed'], [precision_s, unclean_precision_s, trimmed_precision_s])\n",
        "plt.title('Precision Comparison')\n",
        "plt.show()"
      ],
      "metadata": {
        "colab": {
          "base_uri": "https://localhost:8080/",
          "height": 281
        },
        "id": "NUimcq2wKOJl",
        "outputId": "13eadf1c-3b28-415c-d12b-fc3e2085ae18"
      },
      "id": "NUimcq2wKOJl",
      "execution_count": 51,
      "outputs": [
        {
          "output_type": "display_data",
          "data": {
            "text/plain": [
              "<Figure size 432x288 with 1 Axes>"
            ],
            "image/png": "[encoded data removed]"
          },
          "metadata": {
            "needs_background": "light"
          }
        }
      ]
    },
    {
      "cell_type": "markdown",
      "source": [
        "## Testing k>100"
      ],
      "metadata": {
        "id": "SSk5PCKRV1eI"
      },
      "id": "SSk5PCKRV1eI"
    },
    {
      "cell_type": "code",
      "source": [
        "k_100_spam = {}\n",
        "k_100_ham = {}\n",
        "for i in grand_word_counts.keys():\n",
        "  try:\n",
        "    if np.sum(grand_word_counts[i]) > 100:\n",
        "      k_100_spam[i] = spam_dict[i]\n",
        "      k_100_ham[i] = ham_dict[i]\n",
        "  except:\n",
        "    pass # for the spam or ham column, which is not numerical \n",
        "print(f\"k>100 full dictionaries done. Lengths are {len(k_100_spam)} and {len(k_100_ham)}\")"
      ],
      "metadata": {
        "colab": {
          "base_uri": "https://localhost:8080/"
        },
        "id": "hj_l7yGeV1HX",
        "outputId": "5d208aea-e3b9-4aca-a54a-53953e603555"
      },
      "id": "hj_l7yGeV1HX",
      "execution_count": 52,
      "outputs": [
        {
          "output_type": "stream",
          "name": "stdout",
          "text": [
            "k>100 full dictionaries done. Lengths are 4806 and 4806\n"
          ]
        }
      ]
    },
    {
      "cell_type": "code",
      "source": [
        "# k>100 df\n",
        "k100_spam_df = pd.DataFrame.from_dict(k_100_spam)\n",
        "k100_ham_df = pd.DataFrame.from_dict(k_100_ham)\n",
        "print(\"k>100 Spam and Ham dataframes created successfully.\")"
      ],
      "metadata": {
        "colab": {
          "base_uri": "https://localhost:8080/"
        },
        "id": "U3dgnMViaFKE",
        "outputId": "ec1758f1-29f7-42d9-c62a-6da6cd55406e"
      },
      "id": "U3dgnMViaFKE",
      "execution_count": 53,
      "outputs": [
        {
          "output_type": "stream",
          "name": "stdout",
          "text": [
            "k>100 Spam and Ham dataframes created successfully.\n"
          ]
        }
      ]
    },
    {
      "cell_type": "code",
      "source": [
        "# Get total spam and ham words\n",
        "k100_spam_total_count = np.sum(np.sum(k100_spam_df, axis=1)) \n",
        "k100_ham_total_count = np.sum(np.sum(k100_ham_df, axis=1)) \n",
        "\n",
        "print(f\"Spam total words: {k100_spam_total_count}\\nHam total words: {k100_ham_total_count}\")"
      ],
      "metadata": {
        "colab": {
          "base_uri": "https://localhost:8080/"
        },
        "id": "ep7vmQUgahqn",
        "outputId": "4b9339d5-9015-49b1-8911-7f4891c6ba7c"
      },
      "id": "ep7vmQUgahqn",
      "execution_count": 54,
      "outputs": [
        {
          "output_type": "stream",
          "name": "stdout",
          "text": [
            "Spam total words: 2220179\n",
            "Ham total words: 1335842\n"
          ]
        }
      ]
    },
    {
      "cell_type": "code",
      "source": [
        "# predicting test classifications\n",
        "k100_test_class_guess = []\n",
        "for i in range(len(test_classification_array)):\n",
        "    k100_guess_in_test = isEmailSpamOrHam(p_ham, p_spam, 1, len(k_100_spam), test_clean_email_array[i], k100_spam_df, k100_ham_df, k100_spam_total_count, k100_ham_total_count)\n",
        "    k100_test_class_guess.append(k100_guess_in_test)\n",
        "print(f\"Done. Guess length is : {len(k100_test_class_guess)}\")"
      ],
      "metadata": {
        "colab": {
          "base_uri": "https://localhost:8080/"
        },
        "id": "kwH2-O1UfjG8",
        "outputId": "b3820498-f364-451a-b3f8-fcce1b99a41f"
      },
      "id": "kwH2-O1UfjG8",
      "execution_count": 55,
      "outputs": [
        {
          "output_type": "stream",
          "name": "stdout",
          "text": [
            "Done. Guess length is : 16522\n"
          ]
        }
      ]
    },
    {
      "cell_type": "code",
      "source": [
        "k100_accuracy_s = sklearn.metrics.accuracy_score(test_classification_array, k100_test_class_guess)\n",
        "k100_recall_s = sklearn.metrics.recall_score(test_classification_array, k100_test_class_guess, pos_label = 'ham')\n",
        "k100_precision_s = sklearn.metrics.precision_score(test_classification_array, k100_test_class_guess, pos_label = 'ham')\n",
        "print(f\"Precision score is: {k100_precision_s}, compared to 10k words with: {precision_s}\")\n",
        "print(f\"Recall score is: {k100_recall_s}, compared to 10k words with: {recall_s}\")\n",
        "print(f\"Accuracy score is: {k100_accuracy_s}, compared to 10k words with {accuracy_s}\")"
      ],
      "metadata": {
        "colab": {
          "base_uri": "https://localhost:8080/"
        },
        "id": "Ss7X18hfkSED",
        "outputId": "a2b62907-0458-4fb4-fcd8-921cc7d9c868"
      },
      "id": "Ss7X18hfkSED",
      "execution_count": 56,
      "outputs": [
        {
          "output_type": "stream",
          "name": "stdout",
          "text": [
            "Precision score is: 0.9048067860508954, compared to 10k words with: 0.9005576208178439\n",
            "Recall score is: 0.8910339706701318, compared to 10k words with: 0.8993874141451643\n",
            "Accuracy score is: 0.9339063067425252, compared to 10k words with 0.9348141871444136\n"
          ]
        }
      ]
    },
    {
      "cell_type": "markdown",
      "source": [
        "## Testing k > 50"
      ],
      "metadata": {
        "id": "rq4TAu7mw2_f"
      },
      "id": "rq4TAu7mw2_f"
    },
    {
      "cell_type": "code",
      "source": [
        "k_50_spam = {}\n",
        "k_50_ham = {}\n",
        "for i in grand_word_counts.keys():\n",
        "  try:\n",
        "    if np.sum(grand_word_counts[i]) > 50:\n",
        "      k_50_spam[i] = spam_dict[i]\n",
        "      k_50_ham[i] = ham_dict[i]\n",
        "  except:\n",
        "    pass # for the spam or ham column, which is not numerical \n",
        "print(f\"k>50 full dictionaries done. Lengths are {len(k_50_spam)} and {len(k_50_ham)}\")"
      ],
      "metadata": {
        "colab": {
          "base_uri": "https://localhost:8080/"
        },
        "id": "PvUHvS1kwx3B",
        "outputId": "e002604b-1214-43ae-eb18-38d75dcb3786"
      },
      "id": "PvUHvS1kwx3B",
      "execution_count": 57,
      "outputs": [
        {
          "output_type": "stream",
          "name": "stdout",
          "text": [
            "k>50 full dictionaries done. Lengths are 6839 and 6839\n"
          ]
        }
      ]
    },
    {
      "cell_type": "code",
      "source": [
        "# k=50 df\n",
        "k50_spam_df = pd.DataFrame.from_dict(k_50_spam)\n",
        "k50_ham_df = pd.DataFrame.from_dict(k_50_ham)\n",
        "print(\"k>50 Spam and Ham dataframes created successfully.\")"
      ],
      "metadata": {
        "colab": {
          "base_uri": "https://localhost:8080/"
        },
        "id": "6pNAL8LNxPos",
        "outputId": "1893dc7d-12b0-4c72-dfb8-42b377f863ac"
      },
      "id": "6pNAL8LNxPos",
      "execution_count": 58,
      "outputs": [
        {
          "output_type": "stream",
          "name": "stdout",
          "text": [
            "k>50 Spam and Ham dataframes created successfully.\n"
          ]
        }
      ]
    },
    {
      "cell_type": "code",
      "source": [
        "# Get total spam and ham words\n",
        "k50_spam_total_count = np.sum(np.sum(k50_spam_df, axis=1)) \n",
        "k50_ham_total_count = np.sum(np.sum(k50_ham_df, axis=1)) \n",
        "\n",
        "print(f\"Spam total words: {k50_spam_total_count}\\nHam total words: {k50_ham_total_count}\")"
      ],
      "metadata": {
        "colab": {
          "base_uri": "https://localhost:8080/"
        },
        "id": "Zhyts6cFxXdu",
        "outputId": "7ee1e806-2392-4434-9dd8-510b8e11bad0"
      },
      "id": "Zhyts6cFxXdu",
      "execution_count": 59,
      "outputs": [
        {
          "output_type": "stream",
          "name": "stdout",
          "text": [
            "Spam total words: 2276786\n",
            "Ham total words: 1374073\n"
          ]
        }
      ]
    },
    {
      "cell_type": "code",
      "source": [
        "# predicting test classifications\n",
        "k50_test_class_guess = []\n",
        "for i in range(len(test_classification_array)):\n",
        "    k50_guess_in_test = isEmailSpamOrHam(p_ham, p_spam, 1, len(k_50_ham), test_clean_email_array[i], k50_spam_df, k50_ham_df, trimmed_spam_total_count, trimmed_ham_total_count)\n",
        "    k50_test_class_guess.append(k50_guess_in_test)\n",
        "print(f\"Done. Guess length is : {len(k50_test_class_guess)}\")"
      ],
      "metadata": {
        "colab": {
          "base_uri": "https://localhost:8080/"
        },
        "id": "0vqTg-p8xqKG",
        "outputId": "040be3e1-528d-4bee-d6eb-96e92f71a603"
      },
      "id": "0vqTg-p8xqKG",
      "execution_count": 60,
      "outputs": [
        {
          "output_type": "stream",
          "name": "stdout",
          "text": [
            "Done. Guess length is : 16522\n"
          ]
        }
      ]
    },
    {
      "cell_type": "code",
      "source": [
        "k50_accuracy_s = sklearn.metrics.accuracy_score(test_classification_array, k50_test_class_guess)\n",
        "k50_recall_s = sklearn.metrics.recall_score(test_classification_array, k50_test_class_guess, pos_label = 'ham')\n",
        "k50_precision_s = sklearn.metrics.precision_score(test_classification_array, k50_test_class_guess, pos_label = 'ham')\n",
        "\n",
        "print(f\"Accuracy score is: {k50_accuracy_s}, compared to 10k words with {accuracy_s}\")\n",
        "print(f\"Recall score is: {k50_recall_s}, compared to 10k words with: {recall_s}\")\n",
        "print(f\"Precision score is: {k50_precision_s}, compared to 10k words with: {precision_s}\")"
      ],
      "metadata": {
        "colab": {
          "base_uri": "https://localhost:8080/"
        },
        "id": "VDuCu0nAyfr3",
        "outputId": "8ed9796b-8e0b-486a-ca3b-9665fb85be8e"
      },
      "id": "VDuCu0nAyfr3",
      "execution_count": 61,
      "outputs": [
        {
          "output_type": "stream",
          "name": "stdout",
          "text": [
            "Accuracy score is: 0.9348747125045394, compared to 10k words with 0.9348141871444136\n",
            "Recall score is: 0.8980879896046037, compared to 10k words with: 0.8993874141451643\n",
            "Precision score is: 0.9017707362534949, compared to 10k words with: 0.9005576208178439\n"
          ]
        }
      ]
    },
    {
      "cell_type": "markdown",
      "source": [
        "## Testing different Lambda values"
      ],
      "metadata": {
        "id": "ZFHRHCDowroI"
      },
      "id": "ZFHRHCDowroI"
    },
    {
      "cell_type": "markdown",
      "source": [
        "These were tested on k>100 spam and ham dataframes to save time since, as compared earlier, the metrics' values compared to all 10k features vary just slightly. This is done to save time and memory needed for processing."
      ],
      "metadata": {
        "id": "2eyaYu-dw0jT"
      },
      "id": "2eyaYu-dw0jT"
    },
    {
      "cell_type": "code",
      "source": [
        "# predicting test classifications on differing smoothing values\n",
        "\n",
        "def get_ARP_lambda(smoothing):\n",
        "  returned_guess = []\n",
        "  for i in range(len(test_classification_array)):\n",
        "      guess = isEmailSpamOrHam(p_ham, p_spam, smoothing, len(k_100_ham), test_clean_email_array[i], k100_spam_df, k100_ham_df, k100_spam_total_count, k100_ham_total_count)\n",
        "      returned_guess.append(guess)\n",
        "\n",
        "  accuracy = sklearn.metrics.accuracy_score(test_classification_array, returned_guess)\n",
        "  recall = sklearn.metrics.recall_score(test_classification_array, returned_guess, pos_label = 'ham')\n",
        "  precision = sklearn.metrics.precision_score(test_classification_array, returned_guess, pos_label = 'ham')\n",
        "\n",
        "  return accuracy, recall, precision"
      ],
      "metadata": {
        "id": "2qyo4ijSzOBp"
      },
      "id": "2qyo4ijSzOBp",
      "execution_count": 62,
      "outputs": []
    },
    {
      "cell_type": "code",
      "source": [
        "print(\"We already have lambda 1.0 metric scores for k>100 we calculated earlier:\")\n",
        "print(f\"accuracy: {k100_accuracy_s}\\nrecall: {k100_recall_s}\\nprecision: {k100_precision_s}\") "
      ],
      "metadata": {
        "colab": {
          "base_uri": "https://localhost:8080/"
        },
        "id": "OAV0uNnX0jFK",
        "outputId": "d5712002-7b0f-4350-f513-f09a527bd954"
      },
      "id": "OAV0uNnX0jFK",
      "execution_count": 63,
      "outputs": [
        {
          "output_type": "stream",
          "name": "stdout",
          "text": [
            "We already have lambda 1.0 metric scores for k>100 we calculated earlier:\n",
            "accuracy: 0.9339063067425252\n",
            "recall: 0.8910339706701318\n",
            "precision: 0.9048067860508954\n"
          ]
        }
      ]
    },
    {
      "cell_type": "code",
      "source": [
        "# get metrics of lambda 2.0\n",
        "lambda_2_accuracy, lambda_2_recall, lambda_2_precision = get_ARP_lambda(2)"
      ],
      "metadata": {
        "id": "cbJPWw2Oz1FL"
      },
      "id": "cbJPWw2Oz1FL",
      "execution_count": 64,
      "outputs": []
    },
    {
      "cell_type": "code",
      "source": [
        "# get metrics of lambda 0.5\n",
        "lambda_05_accuracy, lambda_05_recall, lambda_05_precision = get_ARP_lambda(0.5)"
      ],
      "metadata": {
        "id": "fTFe18481T6N"
      },
      "id": "fTFe18481T6N",
      "execution_count": 65,
      "outputs": []
    },
    {
      "cell_type": "code",
      "source": [
        "# get metrics of lambda 0.1\n",
        "lambda_01_accuracy, lambda_01_recall, lambda_01_precision = get_ARP_lambda(0.1)"
      ],
      "metadata": {
        "id": "-Dbi00Ge1ay1"
      },
      "id": "-Dbi00Ge1ay1",
      "execution_count": 66,
      "outputs": []
    },
    {
      "cell_type": "code",
      "source": [
        "# get metrics of lambda 0.005\n",
        "lambda_005_accuracy, lambda_005_recall, lambda_005_precision = get_ARP_lambda(0.005)"
      ],
      "metadata": {
        "id": "4hJEh-Qf1i6F"
      },
      "id": "4hJEh-Qf1i6F",
      "execution_count": 67,
      "outputs": []
    },
    {
      "cell_type": "code",
      "source": [
        "plt.plot(['0.005', '0.1', '0.5', '1.0', '2.0'], [lambda_005_accuracy, lambda_01_accuracy, lambda_05_accuracy, k100_accuracy_s, lambda_2_accuracy])\n",
        "plt.title('Accuracy Score Comparison of differing lambda values')\n",
        "plt.xlabel('Lambda Smoothening Values')\n",
        "plt.show()"
      ],
      "metadata": {
        "colab": {
          "base_uri": "https://localhost:8080/",
          "height": 295
        },
        "id": "bvPzPD_T23qU",
        "outputId": "f4185ac2-60ed-4b63-a22c-c6ad6a09dcdb"
      },
      "id": "bvPzPD_T23qU",
      "execution_count": 68,
      "outputs": [
        {
          "output_type": "display_data",
          "data": {
            "text/plain": [
              "<Figure size 432x288 with 1 Axes>"
            ],
            "image/png": "[encoded data removed]"
          },
          "metadata": {
            "needs_background": "light"
          }
        }
      ]
    },
    {
      "cell_type": "code",
      "source": [
        "plt.plot(['0.005', '0.1', '0.5', '1.0', '2.0'], [lambda_005_recall, lambda_01_recall, lambda_05_recall, k100_recall_s, lambda_2_recall])\n",
        "plt.title('Recall Score Comparison of differing lambda values')\n",
        "plt.xlabel('Lambda Smoothening Values')\n",
        "plt.show()"
      ],
      "metadata": {
        "colab": {
          "base_uri": "https://localhost:8080/",
          "height": 295
        },
        "id": "YaJYXCsx9IGF",
        "outputId": "8de284e6-02f9-471f-89fb-46bad93976e6"
      },
      "id": "YaJYXCsx9IGF",
      "execution_count": 69,
      "outputs": [
        {
          "output_type": "display_data",
          "data": {
            "text/plain": [
              "<Figure size 432x288 with 1 Axes>"
            ],
            "image/png": "[encoded data removed]"
          },
          "metadata": {
            "needs_background": "light"
          }
        }
      ]
    },
    {
      "cell_type": "code",
      "source": [
        "plt.plot(['0.005', '0.1', '0.5', '1.0', '2.0'], [lambda_005_precision, lambda_01_precision, lambda_05_precision, k100_precision_s, lambda_2_precision])\n",
        "plt.title('Precision Score Comparison of differing lambda values')\n",
        "plt.xlabel('Lambda Smoothening Values')\n",
        "plt.show()"
      ],
      "metadata": {
        "colab": {
          "base_uri": "https://localhost:8080/",
          "height": 295
        },
        "id": "Xgd_zWIz9iqt",
        "outputId": "3c32e888-1fc8-4590-fc21-5f52d537320a"
      },
      "id": "Xgd_zWIz9iqt",
      "execution_count": 70,
      "outputs": [
        {
          "output_type": "display_data",
          "data": {
            "text/plain": [
              "<Figure size 432x288 with 1 Axes>"
            ],
            "image/png": "[encoded data removed]"
          },
          "metadata": {
            "needs_background": "light"
          }
        }
      ]
    }
  ],
  "metadata": {
    "kernelspec": {
      "display_name": "Python 3 (ipykernel)",
      "language": "python",
      "name": "python3"
    },
    "language_info": {
      "codemirror_mode": {
        "name": "ipython",
        "version": 3
      },
      "file_extension": ".py",
      "mimetype": "text/x-python",
      "name": "python",
      "nbconvert_exporter": "python",
      "pygments_lexer": "ipython3",
      "version": "3.9.12"
    },
    "colab": {
      "provenance": [],
      "include_colab_link": true
    }
  },
  "nbformat": 4,
  "nbformat_minor": 5
}