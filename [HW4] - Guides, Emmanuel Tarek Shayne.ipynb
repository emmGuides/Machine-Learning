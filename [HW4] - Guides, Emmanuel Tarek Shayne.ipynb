{
 "cells": [
  {
   "cell_type": "markdown",
   "id": "56d751db",
   "metadata": {
    "id": "56d751db"
   },
   "source": [
    "## Machine Learning - Naive Bayes Classification of Spam emails"
   ]
  },
  {
   "cell_type": "markdown",
   "id": "da96ddd6",
   "metadata": {
    "id": "da96ddd6"
   },
   "source": [
    "Guides, Emmanuel Tarek Shayne <br/> 2019-51020"
   ]
  },
  {
   "cell_type": "code",
   "execution_count": null,
   "id": "791fae59",
   "metadata": {
    "id": "791fae59"
   },
   "outputs": [],
   "source": [
    "import numpy as np\n",
    "import pandas as pd\n",
    "import matplotlib.pyplot as plt\n",
    "import sklearn as sklearn\n",
    "import sklearn.metrics"
   ]
  },
  {
   "cell_type": "code",
   "execution_count": null,
   "id": "nZgyOusWjpsV",
   "metadata": {
    "colab": {
     "base_uri": "https://localhost:8080/"
    },
    "id": "nZgyOusWjpsV",
    "outputId": "2512577f-f935-40df-8ccd-f775c36a77da"
   },
   "outputs": [
    {
     "name": "stdout",
     "output_type": "stream",
     "text": [
      "Drive already mounted at /content/drive; to attempt to forcibly remount, call drive.mount(\"/content/drive\", force_remount=True).\n"
     ]
    }
   ],
   "source": [
    "# This notebook was done in Google Colab since my laptop \n",
    "# cannot handle the amount of data\n",
    "\n",
    "from google.colab import drive\n",
    "drive.mount('/content/drive')"
   ]
  },
  {
   "cell_type": "code",
   "execution_count": null,
   "id": "8tU4dzfjj9Z1",
   "metadata": {
    "colab": {
     "base_uri": "https://localhost:8080/"
    },
    "id": "8tU4dzfjj9Z1",
    "outputId": "f18e7c56-2d69-4bcb-fc83-fa6074a9116a"
   },
   "outputs": [
    {
     "name": "stdout",
     "output_type": "stream",
     "text": [
      "Data extraction done\n"
     ]
    }
   ],
   "source": [
    "# extract data from data_hw4.zip\n",
    "from zipfile import ZipFile\n",
    "file_name = 'data_hw4.zip'\n",
    "with ZipFile(file_name, 'r') as zip:\n",
    "    zip.extractall()\n",
    "    print('Data extraction done')"
   ]
  },
  {
   "cell_type": "code",
   "execution_count": null,
   "id": "6a196697",
   "metadata": {
    "colab": {
     "base_uri": "https://localhost:8080/"
    },
    "id": "6a196697",
    "outputId": "054b2732-fbd0-448d-8fd8-6ee79d6ca008"
   },
   "outputs": [
    {
     "name": "stdout",
     "output_type": "stream",
     "text": [
      "Length of train labels: 21300\n",
      "Length of test labels: 16522\n"
     ]
    }
   ],
   "source": [
    "# get labels for train and test\n",
    "# arrays to use\n",
    "labelsArray = []\n",
    "train_ref = []\n",
    "train_labels = []\n",
    "test_labels = []\n",
    "\n",
    "# open labels file as list\n",
    "with open('/content/data/labels') as file:\n",
    "    labelsArray = file.readlines()\n",
    "\n",
    "# remove '\\n' in each entry\n",
    "for i in range(len(labelsArray)):\n",
    "    word = labelsArray[i] \n",
    "    labelsArray[i] = word[:len(word)-1]\n",
    "\n",
    "# get references for training set\n",
    "for i in range(71):\n",
    "    if i < 10:\n",
    "        train_ref.append(f\"/data/00{i}\")\n",
    "    else:\n",
    "        train_ref.append(f\"/data/0{i}\")\n",
    "\n",
    "# split spam/ham labels into train and test \n",
    "for i in labelsArray:\n",
    "    if any(j in i for j in train_ref):\n",
    "        train_labels.append(i)\n",
    "    else:\n",
    "        test_labels.append(i)\n",
    "        \n",
    "print(f\"Length of train labels: {len(train_labels)}\")\n",
    "print(f\"Length of test labels: {len(test_labels)}\")"
   ]
  },
  {
   "cell_type": "code",
   "execution_count": null,
   "id": "36b2c1ef",
   "metadata": {
    "id": "36b2c1ef"
   },
   "outputs": [],
   "source": [
    "separator = \" \"\n",
    "classification_array = []\n",
    "email_array = []\n",
    "\n",
    "# for training\n",
    "# iterate through all lines in train_labels: get classification and location for each email\n",
    "for i in train_labels:\n",
    "    \n",
    "    # get classification and location from each train_label element\n",
    "    classification, separator, location = i.partition(separator)\n",
    "    \n",
    "    # clean location to be used\n",
    "    location = location[3:]\n",
    "    \n",
    "    # open location and read files\n",
    "    with open(location, \"r\", errors='ignore') as currFile:\n",
    "        content = currFile.read()\n",
    "        \n",
    "        # add emails and classifications to arrays\n",
    "        email_array.append(content)\n",
    "        classification_array.append(classification)\n",
    "        \n",
    "        # close file\n",
    "        currFile.close()\n",
    "        \n",
    "    "
   ]
  },
  {
   "cell_type": "code",
   "execution_count": null,
   "id": "3c1e618c",
   "metadata": {
    "id": "3c1e618c"
   },
   "outputs": [],
   "source": [
    "test_classification_array = []\n",
    "test_email_array = []\n",
    "\n",
    "# for testing\n",
    "# iterate through all lines in test_labels: get classification and location for each email\n",
    "for i in test_labels:\n",
    "    \n",
    "    # get classification and location from each train_label element\n",
    "    classification, separator, location = i.partition(separator)\n",
    "    \n",
    "    # clean location to be used\n",
    "    location = location[3:]\n",
    "    \n",
    "    # open location and read files\n",
    "    with open(location, \"r\", errors='ignore') as currFile:\n",
    "        content = currFile.read()\n",
    "        \n",
    "        # add emails and classifications to arrays\n",
    "        test_email_array.append(content)\n",
    "        test_classification_array.append(classification)\n",
    "        \n",
    "        # close file\n",
    "        currFile.close()"
   ]
  },
  {
   "cell_type": "code",
   "execution_count": null,
   "id": "f074354c",
   "metadata": {
    "colab": {
     "base_uri": "https://localhost:8080/"
    },
    "id": "f074354c",
    "outputId": "0f5c34f2-d519-43ef-d2c0-7cdf502454ed"
   },
   "outputs": [
    {
     "name": "stdout",
     "output_type": "stream",
     "text": [
      "Length of classification_array(train) :21300\n",
      "Length of email_array(train) :21300\n",
      "\n",
      "Length of classification_array(test) :16522\n",
      "Length of email_array(test) :16522\n"
     ]
    }
   ],
   "source": [
    "# check lengths\n",
    "print(f\"Length of classification_array(train) :{len(classification_array)}\")\n",
    "print(f\"Length of email_array(train) :{len(email_array)}\")\n",
    "\n",
    "print(f\"\\nLength of classification_array(test) :{len(test_classification_array)}\")\n",
    "print(f\"Length of email_array(test) :{len(test_email_array)}\")"
   ]
  },
  {
   "cell_type": "code",
   "execution_count": null,
   "id": "ff0c9749",
   "metadata": {
    "colab": {
     "base_uri": "https://localhost:8080/"
    },
    "id": "ff0c9749",
    "outputId": "388092fc-9097-4ba3-c501-2ebdc024b412"
   },
   "outputs": [
    {
     "data": {
      "text/plain": [
       "['a',\n",
       " 'able',\n",
       " 'about',\n",
       " 'above',\n",
       " 'abst',\n",
       " 'accordance',\n",
       " 'according',\n",
       " 'accordingly',\n",
       " 'across',\n",
       " 'act']"
      ]
     },
     "execution_count": 84,
     "metadata": {},
     "output_type": "execute_result"
    }
   ],
   "source": [
    "# read stopwords.txt\n",
    "stopWords = []\n",
    "with open('/content/data/stop_words.txt') as file:\n",
    "    stopWords = file.readlines()\n",
    "\n",
    "for i in range(len(stopWords)):\n",
    "    word = stopWords[i] \n",
    "    stopWords[i] = word[:len(word)-1]\n",
    "stopWords[:10]"
   ]
  },
  {
   "cell_type": "code",
   "execution_count": null,
   "id": "baea6608",
   "metadata": {
    "colab": {
     "base_uri": "https://localhost:8080/"
    },
    "id": "baea6608",
    "outputId": "2c22f078-ae89-451e-b397-4e037e76afd8"
   },
   "outputs": [
    {
     "name": "stdout",
     "output_type": "stream",
     "text": [
      "Multipart email body example:\n",
      "\n",
      "Sorry for all the header garbage...  Trying to find the right channel.\n",
      "\n"
     ]
    }
   ],
   "source": [
    "# for mulipart emails\n",
    "import email\n",
    "def multipart_email(email_as_string):\n",
    "    body = \"\"\n",
    "    mail = email.message_from_string(email_as_string)\n",
    "    if mail.is_multipart():\n",
    "        for part in mail.walk():\n",
    "            ctype = part.get_content_type()\n",
    "            cdispo = str(part.get('Content-Disposition'))\n",
    "\n",
    "            # skip any text/plain (txt) attachments\n",
    "            if ctype == 'text/plain' and 'attachment' not in cdispo:\n",
    "                body = part.get_payload(decode=True)  # decode\n",
    "                break\n",
    "    # not multipart - i.e. plain text, no attachments, keeping fingers crossed\n",
    "    else:\n",
    "        body = mail.get_payload(decode=True)\n",
    "        \n",
    "    try:\n",
    "        body = body.decode()\n",
    "    except:\n",
    "        try:\n",
    "            body = body.decode('latin-1')\n",
    "        except:\n",
    "            pass\n",
    "    return(body)\n",
    "\n",
    "print(f\"Multipart email body example:\\n\\n{multipart_email(email_array[1103])}\")"
   ]
  },
  {
   "cell_type": "code",
   "execution_count": null,
   "id": "72b419f1",
   "metadata": {
    "colab": {
     "base_uri": "https://localhost:8080/"
    },
    "id": "72b419f1",
    "outputId": "b67b0dac-47b8-48fc-d6ff-19ce88cbee81"
   },
   "outputs": [
    {
     "name": "stdout",
     "output_type": "stream",
     "text": [
      "Getting Email body example:\n",
      "LUXURY  WATCHES - BUY YOUR OWN ROLEX  FOR ONLY  $219!                                                        \n",
      "                                               \n",
      "  Rolex :: Cartier ::  Bvlgari  ::  Frank Muller  ::  Patek  Philippe :: Vacheron Constantin                   \n",
      "   A.  Lange  & Sohne  ::  Audemars  Piguet  :: Jaeger-Lecoultre  ::  IWC  :: Officine  Panerai                                                    \n",
      " Breitling ::  Omega ::  Tag  Heuer                                   \n",
      "                       \n",
      "   Exapmle:                 \n",
      " ROLEX  Full 18K Gold  Daytona  for MEN -  only  $269!                                      \n",
      "                                                 \n",
      "    - Fast delivery                       \n",
      "     -  The lowest prices  in the world                                                 \n",
      " -  Worldwide shipping                                                                      \n",
      "                                                            \n",
      " Visit  our shop at:                                                                   \n",
      "                        \n",
      "http://vvhvjk130.sewandeatone.com\n"
     ]
    }
   ],
   "source": [
    "# getting email body, if return type is not string (did not get email body), pass on to multipart email function\n",
    "def get_emailBody(str_message):\n",
    "    message = email.message_from_string(str_message)\n",
    "    returnVal = ''\n",
    "    try:\n",
    "        for payload in message.get_payload():\n",
    "            returnVal = payload.get_payload()\n",
    "    except:\n",
    "        returnVal = message.get_payload()\n",
    "        \n",
    "    if(type(returnVal) != str):\n",
    "        returnVal = multipart_email(str_message)\n",
    "    return str(returnVal)\n",
    "        \n",
    "print(f\"Getting Email body example:\\n{get_emailBody(email_array[1]).strip()}\")"
   ]
  },
  {
   "cell_type": "code",
   "execution_count": null,
   "id": "85e3773a",
   "metadata": {
    "colab": {
     "base_uri": "https://localhost:8080/"
    },
    "id": "85e3773a",
    "outputId": "fbf94e0c-a7e8-42d5-c78c-9b16bbd8377c"
   },
   "outputs": [
    {
     "name": "stdout",
     "output_type": "stream",
     "text": [
      "Train Email bodies gathered successfully: 21300\n"
     ]
    }
   ],
   "source": [
    "# get all email bodies from train\n",
    "email_body_array = []\n",
    "count = 0\n",
    "for i in email_array:\n",
    "    email_body_array.append(get_emailBody(i))\n",
    "    count = count + 1\n",
    "print(f\"Train Email bodies gathered successfully: {count}\")"
   ]
  },
  {
   "cell_type": "code",
   "execution_count": null,
   "id": "b3bbf42d",
   "metadata": {
    "colab": {
     "base_uri": "https://localhost:8080/"
    },
    "id": "b3bbf42d",
    "outputId": "9e8f14f3-0165-4d10-b00f-8ee2953b6972"
   },
   "outputs": [
    {
     "name": "stdout",
     "output_type": "stream",
     "text": [
      "Test Email bodies gathered successfully: 16522\n"
     ]
    }
   ],
   "source": [
    "# get all email bodies from test\n",
    "test_email_body_array = []\n",
    "count = 0\n",
    "for i in test_email_array:\n",
    "    test_email_body_array.append(get_emailBody(i))\n",
    "    count = count + 1\n",
    "print(f\"Test Email bodies gathered successfully: {count}\")"
   ]
  },
  {
   "cell_type": "code",
   "execution_count": null,
   "id": "c1c05b4b",
   "metadata": {
    "id": "c1c05b4b"
   },
   "outputs": [],
   "source": [
    "HTMLTAGS = re.compile('<.*?>') # define HTML tags\n",
    "\n",
    "# function to clean one email\n",
    "def clean_one_email(email_as_string):\n",
    "    # remove html tags\n",
    "    email_as_string = re.sub(HTMLTAGS, '', email_as_string)\n",
    "    # change new lines to just spaces\n",
    "    email_as_string = email_as_string.replace('\\n', ' ')\n",
    "    # remove nonbreaking space\n",
    "    email_as_string = email_as_string.replace('nbsp', '')\n",
    "    # remove non-alphanumeric characters\n",
    "    email_as_string = [character for character in email_as_string if (character.isalnum() or character == ' ')]\n",
    "    # remove digits\n",
    "    email_as_string = [character for character in email_as_string if not(character.isdigit())]\n",
    "    # join the list to string\n",
    "    email_as_string = ''.join(email_as_string)\n",
    "    \n",
    "    # separate everything to tokens\n",
    "    email_as_string = email_as_string.lower().split()\n",
    "    # remove stopwords\n",
    "    email_as_string = [word for word in email_as_string if not word in stopWords]\n",
    "    # remove long words\n",
    "    email_as_string = [word for word in email_as_string if len(word) < 21]\n",
    "    # join token list to string\n",
    "    email_as_string = ' '.join(email_as_string)\n",
    "    \n",
    "    # return cleaned email body\n",
    "    return(email_as_string)"
   ]
  },
  {
   "cell_type": "code",
   "execution_count": null,
   "id": "713aed13",
   "metadata": {
    "id": "713aed13"
   },
   "outputs": [],
   "source": [
    "# cleaning email bodies and adding to array\n",
    "import re # this is regex\n",
    "\n",
    "def clean_all_email(email_body_array):\n",
    "    \n",
    "    clean_email_array = []\n",
    "    \n",
    "    for email_as_string in email_body_array:\n",
    "        clean_email_array.append(clean_one_email(email_as_string))\n",
    "    \n",
    "    return clean_email_array"
   ]
  },
  {
   "cell_type": "code",
   "execution_count": null,
   "id": "7a93ecf5",
   "metadata": {
    "colab": {
     "base_uri": "https://localhost:8080/"
    },
    "id": "7a93ecf5",
    "outputId": "20c3713d-5180-4b5c-be19-6be5f7fe2f1b",
    "scrolled": false
   },
   "outputs": [
    {
     "name": "stdout",
     "output_type": "stream",
     "text": [
      "Uncleaned email body:\n",
      "\n",
      "The mailing list I queried about a few weeks ago is now up and\n",
      "running.  I have also set up an archive server; see below.  The\n",
      "following is the official welcome to the list message at the moment.\n",
      "\n",
      "Joe Buehler\n",
      "\n",
      "--------------------\n",
      "\n",
      "This mailing list is for people who desire serious, orthodox\n",
      "discussion of the Roman Catholic religion.  I assume that it will\n",
      "cater mainly to Catholics, but everyone else is welcome, provided they\n",
      "operate within the below guidelines.  My own interests have a\n",
      "doctrinal bent, but I'm certainly not going to limit this list to just\n",
      "that sort of discussion.\n",
      "\n",
      "Having participated in USENET religion groups for about 5 years now,\n",
      "one of my primary observations about Catholics on the net is that they\n",
      "do not know their religion very well.  My hope is that this list might\n",
      "help remedy this problem to some extent.  I would like to make this a\n",
      "net resource available for Catholics who want to know more about their\n",
      "religion.\n",
      "\n",
      "As far as moderation policy goes: The Catholic Church is not a\n",
      "democracy, it's a monarchy subject to a divinely given constitution.\n",
      "I don't set the rules in the Church, neither does my parish priest,\n",
      "nor does my bishop, nor does the Pope.  Everyone has to adhere to the\n",
      "way Christ set things up.  I think it follows that it's not really\n",
      "appropriate for someone to call himself a Catholic and argue with this\n",
      "state of affairs.  If you want to be Catholic, it's simple enough, you\n",
      "have to follow the teaching of the Church.\n",
      "\n",
      "The moderation policy will reflect this way of thinking: there are\n",
      "plenty of other places on the net where Catholic doctrine can be\n",
      "freely attacked!  If in doubt, you can always subscribe, and see\n",
      "whether the list is to your taste.\n",
      "\n",
      "Besides the mailing list, there are a few other things that may be of\n",
      "interest:\n",
      "\n",
      "- I have set up an archive server that we can put interesting things\n",
      "in.  (It doesn't have anything in it at the moment except some UNIX\n",
      "software useful for such endeavors.)  Sorry, guys, but nothing that's\n",
      "copyrighted goes into it!\n",
      "\n",
      "- I am planning on setting up a quotation server that can email\n",
      "periodic interesting citations from the principal sources of Catholic\n",
      "doctrine.  (Not done yet.)\n",
      "\n",
      "- I have obtained permission from the English language publishers of\n",
      "the Italian Catholic magazine \"30 Days\" to take material from their\n",
      "magazine.  I intend to scan some of the more interesting pictures\n",
      "(ever seen a Cristero?  or St. Pius X?) and put them in the archives,\n",
      "and also post extracts from some of the more interesting articles.\n",
      "(It's a European magazine, and is of generally higher quality than\n",
      "American Catholic material.  In my opinion...)\n",
      "\n",
      "If you have any questions, would like to subscribe, etc., send email\n",
      "to\n",
      "\n",
      "\tcatholic@sarto.budd-lake.nj.us\n",
      "\n",
      "\n",
      "\n",
      "\n",
      "\n",
      "Cleaned email body:\n",
      "\n",
      "mailing list queried weeks ago running set archive server official list message moment joe buehler mailing list people desire serious orthodox discussion roman catholic religion assume will cater catholics provided operate guidelines interests doctrinal bent going limit list sort discussion participated usenet religion groups years primary observations catholics net religion well hope list help remedy problem extent net resource catholics religion moderation policy catholic church democracy monarchy subject divinely constitution dont set rules church parish priest bishop pope adhere christ set things appropriate call catholic argue affairs catholic simple follow teaching church moderation policy will reflect thinking plenty places net catholic doctrine freely attacked doubt subscribe list taste mailing list things interest set archive server interesting things doesnt moment unix software endeavors guys copyrighted planning setting quotation server email periodic interesting citations principal sources catholic doctrine permission english language publishers italian catholic magazine days material magazine intend scan interesting pictures cristero st pius archives post extracts interesting articles european magazine generally higher quality american catholic material opinion questions subscribe send email\n"
     ]
    }
   ],
   "source": [
    "# Showing the difference in email 000, in folder 000 (this is for train)\n",
    "clean_email_array = clean_all_email(email_body_array)\n",
    "print(f\"Uncleaned email body:\\n\\n{email_body_array[0]}\")\n",
    "print(f\"\\nCleaned email body:\\n\\n{clean_email_array[0]}\")"
   ]
  },
  {
   "cell_type": "code",
   "execution_count": null,
   "id": "48b80f45",
   "metadata": {
    "id": "48b80f45"
   },
   "outputs": [],
   "source": [
    "# Also clean test emails\n",
    "test_clean_email_array = clean_all_email(test_email_body_array)"
   ]
  },
  {
   "cell_type": "code",
   "execution_count": null,
   "id": "32a25262",
   "metadata": {
    "colab": {
     "base_uri": "https://localhost:8080/"
    },
    "id": "32a25262",
    "outputId": "88cde37e-1bda-4b4a-d622-b82e5108051f"
   },
   "outputs": [
    {
     "name": "stdout",
     "output_type": "stream",
     "text": [
      "Uncleaned email body:\n",
      "\n",
      "At 03:19 PM 9/4/00 +0100, you wrote:\n",
      "\n",
      ">Here's a reply from one of our resident wizards.\n",
      ">\n",
      ">Hope this helps.\n",
      "\n",
      "   Thanks, it does.  It is in fact the method I was going to use with the \n",
      "exception of the fancy use of cos and sin.  I was going to take an initial \n",
      "guess as being the smallest interval between any of the samples, divide \n",
      "every time by it and average the errors and adjust the guess based on the \n",
      "error and repeat.  I guess the use of the vector arithmetic solves the \n",
      "initial phase uncertainty which would represent the lowest error my method \n",
      "would come up with.\n",
      "\n",
      "-jonathan (j.c.f.)\n",
      "\n",
      "  /\"\\\n",
      "  \\ /\n",
      "   X  ASCII RIBBON CAMPAIGN - AGAINST HTML MAIL\n",
      "  / \\\n",
      "\n",
      "   Look under the sofa cushion; you will be surprised at what you\n",
      "find.\n",
      "\n",
      "\n",
      "\n",
      "\n",
      "\n",
      "Cleaned email body:\n",
      "\n",
      "pm wrote reply resident wizards hope helps fact method going exception fancy cos sin going initial guess smallest interval samples divide time average errors adjust guess based error repeat guess vector arithmetic solves initial phase uncertainty represent lowest error method jonathan jcf ascii ribbon campaign html mail sofa cushion will surprised find\n"
     ]
    }
   ],
   "source": [
    "print(f\"Uncleaned email body:\\n\\n{test_email_body_array[100]}\") \n",
    "print(f\"\\nCleaned email body:\\n\\n{test_clean_email_array[100]}\")"
   ]
  },
  {
   "cell_type": "code",
   "execution_count": null,
   "id": "1d7a290d",
   "metadata": {
    "id": "1d7a290d"
   },
   "outputs": [],
   "source": [
    "# get unique words\n",
    "unique = []\n",
    "wordCounts = dict()\n",
    "for i in clean_email_array:\n",
    "    i = i.split()\n",
    "    for word in i:\n",
    "        if word in wordCounts:\n",
    "            wordCounts[word] += 1\n",
    "        else:\n",
    "            wordCounts[word] = 1\n",
    "            \n",
    "ten_items = {k: wordCounts[k] for k in list(wordCounts)[:10]}"
   ]
  },
  {
   "cell_type": "code",
   "execution_count": null,
   "id": "e8ef9975",
   "metadata": {
    "id": "e8ef9975"
   },
   "outputs": [],
   "source": [
    "# sort number of words used\n",
    "sorted_wordCounts = dict(reversed(sorted(wordCounts.items(), key=lambda item: item[1])))"
   ]
  },
  {
   "cell_type": "code",
   "execution_count": null,
   "id": "2940cdeb",
   "metadata": {
    "colab": {
     "base_uri": "https://localhost:8080/"
    },
    "id": "2940cdeb",
    "outputId": "275ffa0b-8d9c-43bf-e150-4fa24738718f"
   },
   "outputs": [
    {
     "name": "stdout",
     "output_type": "stream",
     "text": [
      "Remaining word counts after cleaning: 92550\n"
     ]
    }
   ],
   "source": [
    "print(f\"Remaining word counts after cleaning: {len(wordCounts)}\")"
   ]
  },
  {
   "cell_type": "code",
   "execution_count": null,
   "id": "b4e9e0ea",
   "metadata": {
    "colab": {
     "base_uri": "https://localhost:8080/"
    },
    "id": "b4e9e0ea",
    "outputId": "f1766357-5a05-486b-8122-fb80cec2d763",
    "scrolled": true
   },
   "outputs": [
    {
     "name": "stdout",
     "output_type": "stream",
     "text": [
      "Top 10 words:\n",
      "px\n",
      "float\n",
      "will\n",
      "bb\n",
      "styledborder\n",
      "producttable\n",
      "left\n",
      "color\n",
      "board\n",
      "span\n"
     ]
    }
   ],
   "source": [
    "sorted_ten_K = {k: sorted_wordCounts[k] for k in list(sorted_wordCounts)[:10000]}\n",
    "keysList = list(sorted_ten_K.keys())\n",
    "\n",
    "print(\"Top 10 words:\")\n",
    "for i in range(10):\n",
    "    print(keysList[i])"
   ]
  },
  {
   "cell_type": "code",
   "execution_count": null,
   "id": "40cee1cb",
   "metadata": {
    "id": "40cee1cb"
   },
   "outputs": [],
   "source": [
    "# generate dictionary for dataframe\n",
    "def generate_dict(keysList, clean_email_array):\n",
    "    topWordCountList = []\n",
    "    grand_word_counts = {}\n",
    "\n",
    "    for topWord in keysList:\n",
    "        for oneEmail in clean_email_array: # clean_email_array:\n",
    "            topWordCount = oneEmail.count(topWord)\n",
    "            topWordCountList.append(topWordCount)\n",
    "        grand_word_counts[topWord] = topWordCountList\n",
    "        topWordCountList = []\n",
    "    return grand_word_counts"
   ]
  },
  {
   "cell_type": "code",
   "execution_count": null,
   "id": "d2d523f3",
   "metadata": {
    "id": "d2d523f3"
   },
   "outputs": [],
   "source": [
    "# generate dictionary for all 21,300 emails (spam and ham)\n",
    "grand_word_counts = generate_dict(keysList, clean_email_array)"
   ]
  },
  {
   "cell_type": "code",
   "execution_count": null,
   "id": "aa9cb968",
   "metadata": {
    "id": "aa9cb968"
   },
   "outputs": [],
   "source": [
    "# add classification in the dictionary\n",
    "grand_word_counts['spam or ham'] = classification_array"
   ]
  },
  {
   "cell_type": "code",
   "execution_count": null,
   "id": "f2bc64d6",
   "metadata": {
    "colab": {
     "base_uri": "https://localhost:8080/"
    },
    "id": "f2bc64d6",
    "outputId": "4bfd9fbb-4934-4e35-af64-eb6b88fd48af"
   },
   "outputs": [
    {
     "name": "stdout",
     "output_type": "stream",
     "text": [
      "spam and ham dictionaries created successfully.\n"
     ]
    }
   ],
   "source": [
    "# create spam and ham dict\n",
    "spam_dict = {}\n",
    "ham_dict = {}\n",
    "for i in grand_word_counts.keys():\n",
    "    spam_dict[i] = []\n",
    "    ham_dict[i] = []\n",
    "\n",
    "for i in range(len(classification_array)):\n",
    "    if grand_word_counts['spam or ham'][i] == 'spam':\n",
    "        for j in grand_word_counts.keys():\n",
    "            spam_dict[j].append(grand_word_counts[j][i])\n",
    "    else:\n",
    "        for j in grand_word_counts.keys():\n",
    "            ham_dict[j].append(grand_word_counts[j][i])\n",
    "print(f\"spam and ham dictionaries created successfully.\")"
   ]
  },
  {
   "cell_type": "code",
   "execution_count": null,
   "id": "efd6d9ed",
   "metadata": {
    "colab": {
     "base_uri": "https://localhost:8080/"
    },
    "id": "efd6d9ed",
    "outputId": "dfe1c67d-cddb-4028-cdb0-b421892023b7"
   },
   "outputs": [
    {
     "name": "stdout",
     "output_type": "stream",
     "text": [
      "Spam and Ham dataframes created successfully.\n"
     ]
    }
   ],
   "source": [
    "spam_df = pd.DataFrame.from_dict(spam_dict)\n",
    "ham_df = pd.DataFrame.from_dict(ham_dict)\n",
    "print(\"Spam and Ham dataframes created successfully.\")"
   ]
  },
  {
   "cell_type": "code",
   "execution_count": null,
   "id": "84a545f8",
   "metadata": {
    "colab": {
     "base_uri": "https://localhost:8080/",
     "height": 540
    },
    "id": "84a545f8",
    "outputId": "becf56d7-1bfd-4298-b1b3-e5d036511ba5"
   },
   "outputs": [
    {
     "name": "stdout",
     "output_type": "stream",
     "text": [
      "Dataframe of all spam emails:\n"
     ]
    },
    {
     "data": {
      "text/html": [
       "\n",
       "  <div id=\"df-64198ac5-19f4-4039-9a9c-e73f002a6d29\">\n",
       "    <div class=\"colab-df-container\">\n",
       "      <div>\n",
       "<style scoped>\n",
       "    .dataframe tbody tr th:only-of-type {\n",
       "        vertical-align: middle;\n",
       "    }\n",
       "\n",
       "    .dataframe tbody tr th {\n",
       "        vertical-align: top;\n",
       "    }\n",
       "\n",
       "    .dataframe thead th {\n",
       "        text-align: right;\n",
       "    }\n",
       "</style>\n",
       "<table border=\"1\" class=\"dataframe\">\n",
       "  <thead>\n",
       "    <tr style=\"text-align: right;\">\n",
       "      <th></th>\n",
       "      <th>px</th>\n",
       "      <th>float</th>\n",
       "      <th>will</th>\n",
       "      <th>bb</th>\n",
       "      <th>styledborder</th>\n",
       "      <th>producttable</th>\n",
       "      <th>left</th>\n",
       "      <th>color</th>\n",
       "      <th>board</th>\n",
       "      <th>span</th>\n",
       "      <th>...</th>\n",
       "      <th>peasant</th>\n",
       "      <th>wooden</th>\n",
       "      <th>feebeeeeeae</th>\n",
       "      <th>eeebfcedeefeec</th>\n",
       "      <th>efbfffee</th>\n",
       "      <th>globally</th>\n",
       "      <th>compmailpine</th>\n",
       "      <th>thy</th>\n",
       "      <th>quarters</th>\n",
       "      <th>spam or ham</th>\n",
       "    </tr>\n",
       "  </thead>\n",
       "  <tbody>\n",
       "    <tr>\n",
       "      <th>0</th>\n",
       "      <td>0</td>\n",
       "      <td>0</td>\n",
       "      <td>0</td>\n",
       "      <td>0</td>\n",
       "      <td>0</td>\n",
       "      <td>0</td>\n",
       "      <td>0</td>\n",
       "      <td>0</td>\n",
       "      <td>0</td>\n",
       "      <td>0</td>\n",
       "      <td>...</td>\n",
       "      <td>0</td>\n",
       "      <td>0</td>\n",
       "      <td>0</td>\n",
       "      <td>0</td>\n",
       "      <td>0</td>\n",
       "      <td>0</td>\n",
       "      <td>0</td>\n",
       "      <td>0</td>\n",
       "      <td>0</td>\n",
       "      <td>spam</td>\n",
       "    </tr>\n",
       "    <tr>\n",
       "      <th>1</th>\n",
       "      <td>0</td>\n",
       "      <td>0</td>\n",
       "      <td>0</td>\n",
       "      <td>0</td>\n",
       "      <td>0</td>\n",
       "      <td>0</td>\n",
       "      <td>0</td>\n",
       "      <td>0</td>\n",
       "      <td>0</td>\n",
       "      <td>0</td>\n",
       "      <td>...</td>\n",
       "      <td>0</td>\n",
       "      <td>0</td>\n",
       "      <td>0</td>\n",
       "      <td>0</td>\n",
       "      <td>0</td>\n",
       "      <td>0</td>\n",
       "      <td>0</td>\n",
       "      <td>0</td>\n",
       "      <td>0</td>\n",
       "      <td>spam</td>\n",
       "    </tr>\n",
       "    <tr>\n",
       "      <th>2</th>\n",
       "      <td>0</td>\n",
       "      <td>0</td>\n",
       "      <td>1</td>\n",
       "      <td>0</td>\n",
       "      <td>0</td>\n",
       "      <td>0</td>\n",
       "      <td>0</td>\n",
       "      <td>0</td>\n",
       "      <td>0</td>\n",
       "      <td>0</td>\n",
       "      <td>...</td>\n",
       "      <td>0</td>\n",
       "      <td>0</td>\n",
       "      <td>0</td>\n",
       "      <td>0</td>\n",
       "      <td>0</td>\n",
       "      <td>0</td>\n",
       "      <td>0</td>\n",
       "      <td>0</td>\n",
       "      <td>0</td>\n",
       "      <td>spam</td>\n",
       "    </tr>\n",
       "    <tr>\n",
       "      <th>3</th>\n",
       "      <td>0</td>\n",
       "      <td>0</td>\n",
       "      <td>1</td>\n",
       "      <td>0</td>\n",
       "      <td>0</td>\n",
       "      <td>0</td>\n",
       "      <td>0</td>\n",
       "      <td>0</td>\n",
       "      <td>1</td>\n",
       "      <td>0</td>\n",
       "      <td>...</td>\n",
       "      <td>0</td>\n",
       "      <td>0</td>\n",
       "      <td>0</td>\n",
       "      <td>0</td>\n",
       "      <td>0</td>\n",
       "      <td>0</td>\n",
       "      <td>0</td>\n",
       "      <td>0</td>\n",
       "      <td>0</td>\n",
       "      <td>spam</td>\n",
       "    </tr>\n",
       "    <tr>\n",
       "      <th>4</th>\n",
       "      <td>0</td>\n",
       "      <td>0</td>\n",
       "      <td>6</td>\n",
       "      <td>0</td>\n",
       "      <td>0</td>\n",
       "      <td>0</td>\n",
       "      <td>0</td>\n",
       "      <td>0</td>\n",
       "      <td>0</td>\n",
       "      <td>0</td>\n",
       "      <td>...</td>\n",
       "      <td>0</td>\n",
       "      <td>0</td>\n",
       "      <td>0</td>\n",
       "      <td>0</td>\n",
       "      <td>0</td>\n",
       "      <td>0</td>\n",
       "      <td>0</td>\n",
       "      <td>0</td>\n",
       "      <td>0</td>\n",
       "      <td>spam</td>\n",
       "    </tr>\n",
       "    <tr>\n",
       "      <th>...</th>\n",
       "      <td>...</td>\n",
       "      <td>...</td>\n",
       "      <td>...</td>\n",
       "      <td>...</td>\n",
       "      <td>...</td>\n",
       "      <td>...</td>\n",
       "      <td>...</td>\n",
       "      <td>...</td>\n",
       "      <td>...</td>\n",
       "      <td>...</td>\n",
       "      <td>...</td>\n",
       "      <td>...</td>\n",
       "      <td>...</td>\n",
       "      <td>...</td>\n",
       "      <td>...</td>\n",
       "      <td>...</td>\n",
       "      <td>...</td>\n",
       "      <td>...</td>\n",
       "      <td>...</td>\n",
       "      <td>...</td>\n",
       "      <td>...</td>\n",
       "    </tr>\n",
       "    <tr>\n",
       "      <th>13772</th>\n",
       "      <td>0</td>\n",
       "      <td>0</td>\n",
       "      <td>0</td>\n",
       "      <td>0</td>\n",
       "      <td>0</td>\n",
       "      <td>0</td>\n",
       "      <td>0</td>\n",
       "      <td>0</td>\n",
       "      <td>0</td>\n",
       "      <td>0</td>\n",
       "      <td>...</td>\n",
       "      <td>0</td>\n",
       "      <td>0</td>\n",
       "      <td>0</td>\n",
       "      <td>0</td>\n",
       "      <td>0</td>\n",
       "      <td>0</td>\n",
       "      <td>0</td>\n",
       "      <td>0</td>\n",
       "      <td>0</td>\n",
       "      <td>spam</td>\n",
       "    </tr>\n",
       "    <tr>\n",
       "      <th>13773</th>\n",
       "      <td>0</td>\n",
       "      <td>0</td>\n",
       "      <td>0</td>\n",
       "      <td>0</td>\n",
       "      <td>0</td>\n",
       "      <td>0</td>\n",
       "      <td>0</td>\n",
       "      <td>0</td>\n",
       "      <td>0</td>\n",
       "      <td>0</td>\n",
       "      <td>...</td>\n",
       "      <td>0</td>\n",
       "      <td>0</td>\n",
       "      <td>0</td>\n",
       "      <td>0</td>\n",
       "      <td>0</td>\n",
       "      <td>0</td>\n",
       "      <td>0</td>\n",
       "      <td>0</td>\n",
       "      <td>0</td>\n",
       "      <td>spam</td>\n",
       "    </tr>\n",
       "    <tr>\n",
       "      <th>13774</th>\n",
       "      <td>58</td>\n",
       "      <td>0</td>\n",
       "      <td>0</td>\n",
       "      <td>0</td>\n",
       "      <td>0</td>\n",
       "      <td>16</td>\n",
       "      <td>11</td>\n",
       "      <td>13</td>\n",
       "      <td>0</td>\n",
       "      <td>0</td>\n",
       "      <td>...</td>\n",
       "      <td>0</td>\n",
       "      <td>0</td>\n",
       "      <td>0</td>\n",
       "      <td>0</td>\n",
       "      <td>0</td>\n",
       "      <td>0</td>\n",
       "      <td>0</td>\n",
       "      <td>0</td>\n",
       "      <td>0</td>\n",
       "      <td>spam</td>\n",
       "    </tr>\n",
       "    <tr>\n",
       "      <th>13775</th>\n",
       "      <td>3</td>\n",
       "      <td>0</td>\n",
       "      <td>0</td>\n",
       "      <td>13</td>\n",
       "      <td>0</td>\n",
       "      <td>0</td>\n",
       "      <td>0</td>\n",
       "      <td>9</td>\n",
       "      <td>0</td>\n",
       "      <td>0</td>\n",
       "      <td>...</td>\n",
       "      <td>0</td>\n",
       "      <td>0</td>\n",
       "      <td>0</td>\n",
       "      <td>0</td>\n",
       "      <td>0</td>\n",
       "      <td>0</td>\n",
       "      <td>0</td>\n",
       "      <td>0</td>\n",
       "      <td>0</td>\n",
       "      <td>spam</td>\n",
       "    </tr>\n",
       "    <tr>\n",
       "      <th>13776</th>\n",
       "      <td>0</td>\n",
       "      <td>0</td>\n",
       "      <td>0</td>\n",
       "      <td>1</td>\n",
       "      <td>0</td>\n",
       "      <td>0</td>\n",
       "      <td>0</td>\n",
       "      <td>0</td>\n",
       "      <td>0</td>\n",
       "      <td>0</td>\n",
       "      <td>...</td>\n",
       "      <td>0</td>\n",
       "      <td>0</td>\n",
       "      <td>0</td>\n",
       "      <td>0</td>\n",
       "      <td>0</td>\n",
       "      <td>0</td>\n",
       "      <td>0</td>\n",
       "      <td>0</td>\n",
       "      <td>0</td>\n",
       "      <td>spam</td>\n",
       "    </tr>\n",
       "  </tbody>\n",
       "</table>\n",
       "<p>13777 rows × 10001 columns</p>\n",
       "</div>\n",
       "      <button class=\"colab-df-convert\" onclick=\"convertToInteractive('df-64198ac5-19f4-4039-9a9c-e73f002a6d29')\"\n",
       "              title=\"Convert this dataframe to an interactive table.\"\n",
       "              style=\"display:none;\">\n",
       "        \n",
       "  <svg xmlns=\"http://www.w3.org/2000/svg\" height=\"24px\"viewBox=\"0 0 24 24\"\n",
       "       width=\"24px\">\n",
       "    <path d=\"M0 0h24v24H0V0z\" fill=\"none\"/>\n",
       "    <path d=\"M18.56 5.44l.94 2.06.94-2.06 2.06-.94-2.06-.94-.94-2.06-.94 2.06-2.06.94zm-11 1L8.5 8.5l.94-2.06 2.06-.94-2.06-.94L8.5 2.5l-.94 2.06-2.06.94zm10 10l.94 2.06.94-2.06 2.06-.94-2.06-.94-.94-2.06-.94 2.06-2.06.94z\"/><path d=\"M17.41 7.96l-1.37-1.37c-.4-.4-.92-.59-1.43-.59-.52 0-1.04.2-1.43.59L10.3 9.45l-7.72 7.72c-.78.78-.78 2.05 0 2.83L4 21.41c.39.39.9.59 1.41.59.51 0 1.02-.2 1.41-.59l7.78-7.78 2.81-2.81c.8-.78.8-2.07 0-2.86zM5.41 20L4 18.59l7.72-7.72 1.47 1.35L5.41 20z\"/>\n",
       "  </svg>\n",
       "      </button>\n",
       "      \n",
       "  <style>\n",
       "    .colab-df-container {\n",
       "      display:flex;\n",
       "      flex-wrap:wrap;\n",
       "      gap: 12px;\n",
       "    }\n",
       "\n",
       "    .colab-df-convert {\n",
       "      background-color: #E8F0FE;\n",
       "      border: none;\n",
       "      border-radius: 50%;\n",
       "      cursor: pointer;\n",
       "      display: none;\n",
       "      fill: #1967D2;\n",
       "      height: 32px;\n",
       "      padding: 0 0 0 0;\n",
       "      width: 32px;\n",
       "    }\n",
       "\n",
       "    .colab-df-convert:hover {\n",
       "      background-color: #E2EBFA;\n",
       "      box-shadow: 0px 1px 2px rgba(60, 64, 67, 0.3), 0px 1px 3px 1px rgba(60, 64, 67, 0.15);\n",
       "      fill: #174EA6;\n",
       "    }\n",
       "\n",
       "    [theme=dark] .colab-df-convert {\n",
       "      background-color: #3B4455;\n",
       "      fill: #D2E3FC;\n",
       "    }\n",
       "\n",
       "    [theme=dark] .colab-df-convert:hover {\n",
       "      background-color: #434B5C;\n",
       "      box-shadow: 0px 1px 3px 1px rgba(0, 0, 0, 0.15);\n",
       "      filter: drop-shadow(0px 1px 2px rgba(0, 0, 0, 0.3));\n",
       "      fill: #FFFFFF;\n",
       "    }\n",
       "  </style>\n",
       "\n",
       "      <script>\n",
       "        const buttonEl =\n",
       "          document.querySelector('#df-64198ac5-19f4-4039-9a9c-e73f002a6d29 button.colab-df-convert');\n",
       "        buttonEl.style.display =\n",
       "          google.colab.kernel.accessAllowed ? 'block' : 'none';\n",
       "\n",
       "        async function convertToInteractive(key) {\n",
       "          const element = document.querySelector('#df-64198ac5-19f4-4039-9a9c-e73f002a6d29');\n",
       "          const dataTable =\n",
       "            await google.colab.kernel.invokeFunction('convertToInteractive',\n",
       "                                                     [key], {});\n",
       "          if (!dataTable) return;\n",
       "\n",
       "          const docLinkHtml = 'Like what you see? Visit the ' +\n",
       "            '<a target=\"_blank\" href=https://colab.research.google.com/notebooks/data_table.ipynb>data table notebook</a>'\n",
       "            + ' to learn more about interactive tables.';\n",
       "          element.innerHTML = '';\n",
       "          dataTable['output_type'] = 'display_data';\n",
       "          await google.colab.output.renderOutput(dataTable, element);\n",
       "          const docLink = document.createElement('div');\n",
       "          docLink.innerHTML = docLinkHtml;\n",
       "          element.appendChild(docLink);\n",
       "        }\n",
       "      </script>\n",
       "    </div>\n",
       "  </div>\n",
       "  "
      ],
      "text/plain": [
       "       px  float  will  bb  styledborder  producttable  left  color  board  \\\n",
       "0       0      0     0   0             0             0     0      0      0   \n",
       "1       0      0     0   0             0             0     0      0      0   \n",
       "2       0      0     1   0             0             0     0      0      0   \n",
       "3       0      0     1   0             0             0     0      0      1   \n",
       "4       0      0     6   0             0             0     0      0      0   \n",
       "...    ..    ...   ...  ..           ...           ...   ...    ...    ...   \n",
       "13772   0      0     0   0             0             0     0      0      0   \n",
       "13773   0      0     0   0             0             0     0      0      0   \n",
       "13774  58      0     0   0             0            16    11     13      0   \n",
       "13775   3      0     0  13             0             0     0      9      0   \n",
       "13776   0      0     0   1             0             0     0      0      0   \n",
       "\n",
       "       span  ...  peasant  wooden  feebeeeeeae  eeebfcedeefeec  efbfffee  \\\n",
       "0         0  ...        0       0            0               0         0   \n",
       "1         0  ...        0       0            0               0         0   \n",
       "2         0  ...        0       0            0               0         0   \n",
       "3         0  ...        0       0            0               0         0   \n",
       "4         0  ...        0       0            0               0         0   \n",
       "...     ...  ...      ...     ...          ...             ...       ...   \n",
       "13772     0  ...        0       0            0               0         0   \n",
       "13773     0  ...        0       0            0               0         0   \n",
       "13774     0  ...        0       0            0               0         0   \n",
       "13775     0  ...        0       0            0               0         0   \n",
       "13776     0  ...        0       0            0               0         0   \n",
       "\n",
       "       globally  compmailpine  thy  quarters  spam or ham  \n",
       "0             0             0    0         0         spam  \n",
       "1             0             0    0         0         spam  \n",
       "2             0             0    0         0         spam  \n",
       "3             0             0    0         0         spam  \n",
       "4             0             0    0         0         spam  \n",
       "...         ...           ...  ...       ...          ...  \n",
       "13772         0             0    0         0         spam  \n",
       "13773         0             0    0         0         spam  \n",
       "13774         0             0    0         0         spam  \n",
       "13775         0             0    0         0         spam  \n",
       "13776         0             0    0         0         spam  \n",
       "\n",
       "[13777 rows x 10001 columns]"
      ]
     },
     "execution_count": 103,
     "metadata": {},
     "output_type": "execute_result"
    }
   ],
   "source": [
    "print(\"Dataframe of all spam emails:\")\n",
    "spam_df"
   ]
  },
  {
   "cell_type": "code",
   "execution_count": null,
   "id": "5c4eee7c",
   "metadata": {
    "colab": {
     "base_uri": "https://localhost:8080/",
     "height": 540
    },
    "id": "5c4eee7c",
    "outputId": "6db32fbb-010f-4940-a446-d7e0b910270c"
   },
   "outputs": [
    {
     "name": "stdout",
     "output_type": "stream",
     "text": [
      "Dataframe of all ham emails:\n"
     ]
    },
    {
     "data": {
      "text/html": [
       "\n",
       "  <div id=\"df-5fe30257-5a9b-4c85-8a6c-f448f38be56d\">\n",
       "    <div class=\"colab-df-container\">\n",
       "      <div>\n",
       "<style scoped>\n",
       "    .dataframe tbody tr th:only-of-type {\n",
       "        vertical-align: middle;\n",
       "    }\n",
       "\n",
       "    .dataframe tbody tr th {\n",
       "        vertical-align: top;\n",
       "    }\n",
       "\n",
       "    .dataframe thead th {\n",
       "        text-align: right;\n",
       "    }\n",
       "</style>\n",
       "<table border=\"1\" class=\"dataframe\">\n",
       "  <thead>\n",
       "    <tr style=\"text-align: right;\">\n",
       "      <th></th>\n",
       "      <th>px</th>\n",
       "      <th>float</th>\n",
       "      <th>will</th>\n",
       "      <th>bb</th>\n",
       "      <th>styledborder</th>\n",
       "      <th>producttable</th>\n",
       "      <th>left</th>\n",
       "      <th>color</th>\n",
       "      <th>board</th>\n",
       "      <th>span</th>\n",
       "      <th>...</th>\n",
       "      <th>peasant</th>\n",
       "      <th>wooden</th>\n",
       "      <th>feebeeeeeae</th>\n",
       "      <th>eeebfcedeefeec</th>\n",
       "      <th>efbfffee</th>\n",
       "      <th>globally</th>\n",
       "      <th>compmailpine</th>\n",
       "      <th>thy</th>\n",
       "      <th>quarters</th>\n",
       "      <th>spam or ham</th>\n",
       "    </tr>\n",
       "  </thead>\n",
       "  <tbody>\n",
       "    <tr>\n",
       "      <th>0</th>\n",
       "      <td>0</td>\n",
       "      <td>0</td>\n",
       "      <td>2</td>\n",
       "      <td>0</td>\n",
       "      <td>0</td>\n",
       "      <td>0</td>\n",
       "      <td>0</td>\n",
       "      <td>0</td>\n",
       "      <td>0</td>\n",
       "      <td>0</td>\n",
       "      <td>...</td>\n",
       "      <td>0</td>\n",
       "      <td>0</td>\n",
       "      <td>0</td>\n",
       "      <td>0</td>\n",
       "      <td>0</td>\n",
       "      <td>0</td>\n",
       "      <td>0</td>\n",
       "      <td>0</td>\n",
       "      <td>0</td>\n",
       "      <td>ham</td>\n",
       "    </tr>\n",
       "    <tr>\n",
       "      <th>1</th>\n",
       "      <td>0</td>\n",
       "      <td>0</td>\n",
       "      <td>0</td>\n",
       "      <td>0</td>\n",
       "      <td>0</td>\n",
       "      <td>0</td>\n",
       "      <td>0</td>\n",
       "      <td>0</td>\n",
       "      <td>0</td>\n",
       "      <td>0</td>\n",
       "      <td>...</td>\n",
       "      <td>0</td>\n",
       "      <td>0</td>\n",
       "      <td>0</td>\n",
       "      <td>0</td>\n",
       "      <td>0</td>\n",
       "      <td>0</td>\n",
       "      <td>0</td>\n",
       "      <td>0</td>\n",
       "      <td>0</td>\n",
       "      <td>ham</td>\n",
       "    </tr>\n",
       "    <tr>\n",
       "      <th>2</th>\n",
       "      <td>0</td>\n",
       "      <td>0</td>\n",
       "      <td>0</td>\n",
       "      <td>0</td>\n",
       "      <td>0</td>\n",
       "      <td>0</td>\n",
       "      <td>0</td>\n",
       "      <td>0</td>\n",
       "      <td>0</td>\n",
       "      <td>0</td>\n",
       "      <td>...</td>\n",
       "      <td>0</td>\n",
       "      <td>0</td>\n",
       "      <td>0</td>\n",
       "      <td>0</td>\n",
       "      <td>0</td>\n",
       "      <td>0</td>\n",
       "      <td>0</td>\n",
       "      <td>0</td>\n",
       "      <td>0</td>\n",
       "      <td>ham</td>\n",
       "    </tr>\n",
       "    <tr>\n",
       "      <th>3</th>\n",
       "      <td>0</td>\n",
       "      <td>0</td>\n",
       "      <td>0</td>\n",
       "      <td>0</td>\n",
       "      <td>0</td>\n",
       "      <td>0</td>\n",
       "      <td>0</td>\n",
       "      <td>0</td>\n",
       "      <td>0</td>\n",
       "      <td>0</td>\n",
       "      <td>...</td>\n",
       "      <td>0</td>\n",
       "      <td>0</td>\n",
       "      <td>0</td>\n",
       "      <td>0</td>\n",
       "      <td>0</td>\n",
       "      <td>0</td>\n",
       "      <td>0</td>\n",
       "      <td>0</td>\n",
       "      <td>0</td>\n",
       "      <td>ham</td>\n",
       "    </tr>\n",
       "    <tr>\n",
       "      <th>4</th>\n",
       "      <td>0</td>\n",
       "      <td>0</td>\n",
       "      <td>0</td>\n",
       "      <td>0</td>\n",
       "      <td>0</td>\n",
       "      <td>0</td>\n",
       "      <td>0</td>\n",
       "      <td>0</td>\n",
       "      <td>0</td>\n",
       "      <td>0</td>\n",
       "      <td>...</td>\n",
       "      <td>0</td>\n",
       "      <td>0</td>\n",
       "      <td>0</td>\n",
       "      <td>0</td>\n",
       "      <td>0</td>\n",
       "      <td>0</td>\n",
       "      <td>0</td>\n",
       "      <td>0</td>\n",
       "      <td>0</td>\n",
       "      <td>ham</td>\n",
       "    </tr>\n",
       "    <tr>\n",
       "      <th>...</th>\n",
       "      <td>...</td>\n",
       "      <td>...</td>\n",
       "      <td>...</td>\n",
       "      <td>...</td>\n",
       "      <td>...</td>\n",
       "      <td>...</td>\n",
       "      <td>...</td>\n",
       "      <td>...</td>\n",
       "      <td>...</td>\n",
       "      <td>...</td>\n",
       "      <td>...</td>\n",
       "      <td>...</td>\n",
       "      <td>...</td>\n",
       "      <td>...</td>\n",
       "      <td>...</td>\n",
       "      <td>...</td>\n",
       "      <td>...</td>\n",
       "      <td>...</td>\n",
       "      <td>...</td>\n",
       "      <td>...</td>\n",
       "      <td>...</td>\n",
       "    </tr>\n",
       "    <tr>\n",
       "      <th>7518</th>\n",
       "      <td>0</td>\n",
       "      <td>0</td>\n",
       "      <td>0</td>\n",
       "      <td>0</td>\n",
       "      <td>0</td>\n",
       "      <td>0</td>\n",
       "      <td>0</td>\n",
       "      <td>0</td>\n",
       "      <td>0</td>\n",
       "      <td>0</td>\n",
       "      <td>...</td>\n",
       "      <td>0</td>\n",
       "      <td>0</td>\n",
       "      <td>0</td>\n",
       "      <td>0</td>\n",
       "      <td>0</td>\n",
       "      <td>0</td>\n",
       "      <td>0</td>\n",
       "      <td>0</td>\n",
       "      <td>0</td>\n",
       "      <td>ham</td>\n",
       "    </tr>\n",
       "    <tr>\n",
       "      <th>7519</th>\n",
       "      <td>0</td>\n",
       "      <td>0</td>\n",
       "      <td>0</td>\n",
       "      <td>0</td>\n",
       "      <td>0</td>\n",
       "      <td>0</td>\n",
       "      <td>0</td>\n",
       "      <td>0</td>\n",
       "      <td>0</td>\n",
       "      <td>0</td>\n",
       "      <td>...</td>\n",
       "      <td>0</td>\n",
       "      <td>0</td>\n",
       "      <td>0</td>\n",
       "      <td>0</td>\n",
       "      <td>0</td>\n",
       "      <td>0</td>\n",
       "      <td>0</td>\n",
       "      <td>0</td>\n",
       "      <td>0</td>\n",
       "      <td>ham</td>\n",
       "    </tr>\n",
       "    <tr>\n",
       "      <th>7520</th>\n",
       "      <td>0</td>\n",
       "      <td>0</td>\n",
       "      <td>1</td>\n",
       "      <td>0</td>\n",
       "      <td>0</td>\n",
       "      <td>0</td>\n",
       "      <td>0</td>\n",
       "      <td>0</td>\n",
       "      <td>0</td>\n",
       "      <td>0</td>\n",
       "      <td>...</td>\n",
       "      <td>0</td>\n",
       "      <td>0</td>\n",
       "      <td>0</td>\n",
       "      <td>0</td>\n",
       "      <td>0</td>\n",
       "      <td>0</td>\n",
       "      <td>0</td>\n",
       "      <td>0</td>\n",
       "      <td>0</td>\n",
       "      <td>ham</td>\n",
       "    </tr>\n",
       "    <tr>\n",
       "      <th>7521</th>\n",
       "      <td>0</td>\n",
       "      <td>0</td>\n",
       "      <td>2</td>\n",
       "      <td>0</td>\n",
       "      <td>0</td>\n",
       "      <td>0</td>\n",
       "      <td>0</td>\n",
       "      <td>0</td>\n",
       "      <td>1</td>\n",
       "      <td>0</td>\n",
       "      <td>...</td>\n",
       "      <td>0</td>\n",
       "      <td>0</td>\n",
       "      <td>0</td>\n",
       "      <td>0</td>\n",
       "      <td>0</td>\n",
       "      <td>0</td>\n",
       "      <td>0</td>\n",
       "      <td>0</td>\n",
       "      <td>0</td>\n",
       "      <td>ham</td>\n",
       "    </tr>\n",
       "    <tr>\n",
       "      <th>7522</th>\n",
       "      <td>0</td>\n",
       "      <td>0</td>\n",
       "      <td>0</td>\n",
       "      <td>0</td>\n",
       "      <td>0</td>\n",
       "      <td>0</td>\n",
       "      <td>0</td>\n",
       "      <td>0</td>\n",
       "      <td>0</td>\n",
       "      <td>0</td>\n",
       "      <td>...</td>\n",
       "      <td>0</td>\n",
       "      <td>0</td>\n",
       "      <td>0</td>\n",
       "      <td>0</td>\n",
       "      <td>0</td>\n",
       "      <td>0</td>\n",
       "      <td>0</td>\n",
       "      <td>0</td>\n",
       "      <td>0</td>\n",
       "      <td>ham</td>\n",
       "    </tr>\n",
       "  </tbody>\n",
       "</table>\n",
       "<p>7523 rows × 10001 columns</p>\n",
       "</div>\n",
       "      <button class=\"colab-df-convert\" onclick=\"convertToInteractive('df-5fe30257-5a9b-4c85-8a6c-f448f38be56d')\"\n",
       "              title=\"Convert this dataframe to an interactive table.\"\n",
       "              style=\"display:none;\">\n",
       "        \n",
       "  <svg xmlns=\"http://www.w3.org/2000/svg\" height=\"24px\"viewBox=\"0 0 24 24\"\n",
       "       width=\"24px\">\n",
       "    <path d=\"M0 0h24v24H0V0z\" fill=\"none\"/>\n",
       "    <path d=\"M18.56 5.44l.94 2.06.94-2.06 2.06-.94-2.06-.94-.94-2.06-.94 2.06-2.06.94zm-11 1L8.5 8.5l.94-2.06 2.06-.94-2.06-.94L8.5 2.5l-.94 2.06-2.06.94zm10 10l.94 2.06.94-2.06 2.06-.94-2.06-.94-.94-2.06-.94 2.06-2.06.94z\"/><path d=\"M17.41 7.96l-1.37-1.37c-.4-.4-.92-.59-1.43-.59-.52 0-1.04.2-1.43.59L10.3 9.45l-7.72 7.72c-.78.78-.78 2.05 0 2.83L4 21.41c.39.39.9.59 1.41.59.51 0 1.02-.2 1.41-.59l7.78-7.78 2.81-2.81c.8-.78.8-2.07 0-2.86zM5.41 20L4 18.59l7.72-7.72 1.47 1.35L5.41 20z\"/>\n",
       "  </svg>\n",
       "      </button>\n",
       "      \n",
       "  <style>\n",
       "    .colab-df-container {\n",
       "      display:flex;\n",
       "      flex-wrap:wrap;\n",
       "      gap: 12px;\n",
       "    }\n",
       "\n",
       "    .colab-df-convert {\n",
       "      background-color: #E8F0FE;\n",
       "      border: none;\n",
       "      border-radius: 50%;\n",
       "      cursor: pointer;\n",
       "      display: none;\n",
       "      fill: #1967D2;\n",
       "      height: 32px;\n",
       "      padding: 0 0 0 0;\n",
       "      width: 32px;\n",
       "    }\n",
       "\n",
       "    .colab-df-convert:hover {\n",
       "      background-color: #E2EBFA;\n",
       "      box-shadow: 0px 1px 2px rgba(60, 64, 67, 0.3), 0px 1px 3px 1px rgba(60, 64, 67, 0.15);\n",
       "      fill: #174EA6;\n",
       "    }\n",
       "\n",
       "    [theme=dark] .colab-df-convert {\n",
       "      background-color: #3B4455;\n",
       "      fill: #D2E3FC;\n",
       "    }\n",
       "\n",
       "    [theme=dark] .colab-df-convert:hover {\n",
       "      background-color: #434B5C;\n",
       "      box-shadow: 0px 1px 3px 1px rgba(0, 0, 0, 0.15);\n",
       "      filter: drop-shadow(0px 1px 2px rgba(0, 0, 0, 0.3));\n",
       "      fill: #FFFFFF;\n",
       "    }\n",
       "  </style>\n",
       "\n",
       "      <script>\n",
       "        const buttonEl =\n",
       "          document.querySelector('#df-5fe30257-5a9b-4c85-8a6c-f448f38be56d button.colab-df-convert');\n",
       "        buttonEl.style.display =\n",
       "          google.colab.kernel.accessAllowed ? 'block' : 'none';\n",
       "\n",
       "        async function convertToInteractive(key) {\n",
       "          const element = document.querySelector('#df-5fe30257-5a9b-4c85-8a6c-f448f38be56d');\n",
       "          const dataTable =\n",
       "            await google.colab.kernel.invokeFunction('convertToInteractive',\n",
       "                                                     [key], {});\n",
       "          if (!dataTable) return;\n",
       "\n",
       "          const docLinkHtml = 'Like what you see? Visit the ' +\n",
       "            '<a target=\"_blank\" href=https://colab.research.google.com/notebooks/data_table.ipynb>data table notebook</a>'\n",
       "            + ' to learn more about interactive tables.';\n",
       "          element.innerHTML = '';\n",
       "          dataTable['output_type'] = 'display_data';\n",
       "          await google.colab.output.renderOutput(dataTable, element);\n",
       "          const docLink = document.createElement('div');\n",
       "          docLink.innerHTML = docLinkHtml;\n",
       "          element.appendChild(docLink);\n",
       "        }\n",
       "      </script>\n",
       "    </div>\n",
       "  </div>\n",
       "  "
      ],
      "text/plain": [
       "      px  float  will  bb  styledborder  producttable  left  color  board  \\\n",
       "0      0      0     2   0             0             0     0      0      0   \n",
       "1      0      0     0   0             0             0     0      0      0   \n",
       "2      0      0     0   0             0             0     0      0      0   \n",
       "3      0      0     0   0             0             0     0      0      0   \n",
       "4      0      0     0   0             0             0     0      0      0   \n",
       "...   ..    ...   ...  ..           ...           ...   ...    ...    ...   \n",
       "7518   0      0     0   0             0             0     0      0      0   \n",
       "7519   0      0     0   0             0             0     0      0      0   \n",
       "7520   0      0     1   0             0             0     0      0      0   \n",
       "7521   0      0     2   0             0             0     0      0      1   \n",
       "7522   0      0     0   0             0             0     0      0      0   \n",
       "\n",
       "      span  ...  peasant  wooden  feebeeeeeae  eeebfcedeefeec  efbfffee  \\\n",
       "0        0  ...        0       0            0               0         0   \n",
       "1        0  ...        0       0            0               0         0   \n",
       "2        0  ...        0       0            0               0         0   \n",
       "3        0  ...        0       0            0               0         0   \n",
       "4        0  ...        0       0            0               0         0   \n",
       "...    ...  ...      ...     ...          ...             ...       ...   \n",
       "7518     0  ...        0       0            0               0         0   \n",
       "7519     0  ...        0       0            0               0         0   \n",
       "7520     0  ...        0       0            0               0         0   \n",
       "7521     0  ...        0       0            0               0         0   \n",
       "7522     0  ...        0       0            0               0         0   \n",
       "\n",
       "      globally  compmailpine  thy  quarters  spam or ham  \n",
       "0            0             0    0         0          ham  \n",
       "1            0             0    0         0          ham  \n",
       "2            0             0    0         0          ham  \n",
       "3            0             0    0         0          ham  \n",
       "4            0             0    0         0          ham  \n",
       "...        ...           ...  ...       ...          ...  \n",
       "7518         0             0    0         0          ham  \n",
       "7519         0             0    0         0          ham  \n",
       "7520         0             0    0         0          ham  \n",
       "7521         0             0    0         0          ham  \n",
       "7522         0             0    0         0          ham  \n",
       "\n",
       "[7523 rows x 10001 columns]"
      ]
     },
     "execution_count": 104,
     "metadata": {},
     "output_type": "execute_result"
    }
   ],
   "source": [
    "print(\"Dataframe of all ham emails:\")\n",
    "ham_df"
   ]
  },
  {
   "cell_type": "code",
   "execution_count": null,
   "id": "5bb16269",
   "metadata": {
    "colab": {
     "base_uri": "https://localhost:8080/"
    },
    "id": "5bb16269",
    "outputId": "0f099bd8-3a7c-4243-95ba-00789cd62f0c"
   },
   "outputs": [
    {
     "name": "stdout",
     "output_type": "stream",
     "text": [
      "P(c = ham) = 0.3531924882629108\n",
      "P(c = spam) = 0.6468075117370893\n"
     ]
    }
   ],
   "source": [
    "# Compute priors\n",
    "ham_count = 0\n",
    "for i in classification_array:\n",
    "    if i == 'ham':\n",
    "        ham_count = ham_count + 1\n",
    "p_ham = ham_count / len(classification_array)\n",
    "p_spam = 1.0 - p_ham\n",
    "print(f\"P(c = ham) = {p_ham}\\nP(c = spam) = {p_spam}\")"
   ]
  },
  {
   "cell_type": "code",
   "execution_count": null,
   "id": "17314501",
   "metadata": {
    "colab": {
     "base_uri": "https://localhost:8080/"
    },
    "id": "17314501",
    "outputId": "7a1aaa92-ded8-49ce-fa49-d3467f98e25c"
   },
   "outputs": [
    {
     "name": "stdout",
     "output_type": "stream",
     "text": [
      "Spam total words: 7378259\n",
      "Ham total words: 5205806\n"
     ]
    }
   ],
   "source": [
    "# Get total spam and ham words\n",
    "spam_total_count = np.sum(np.sum(spam_df.loc[:, spam_df.columns != 'spam or ham'], axis=1)) \n",
    "ham_total_count = np.sum(np.sum(ham_df.loc[:, ham_df.columns != 'spam or ham'], axis=1)) \n",
    "\n",
    "print(f\"Spam total words: {spam_total_count}\\nHam total words: {ham_total_count}\")"
   ]
  },
  {
   "cell_type": "code",
   "execution_count": 145,
   "id": "cc0ddf47",
   "metadata": {
    "id": "cc0ddf47"
   },
   "outputs": [],
   "source": [
    "def isEmailSpamOrHam(p_ham, p_spam, smooth, word_count, email_body, spam_df, ham_df, spam_total_count, ham_total_count):\n",
    "    index_checker = 0\n",
    "    word_spam_score = 0\n",
    "    word_ham_score = 0\n",
    "    email_spam_score = 0\n",
    "    email_ham_score = 0\n",
    "    \n",
    "    # For each word in email_body:\n",
    "    for i in email_body.split():\n",
    "        try:\n",
    "            \n",
    "            # all scores of current word in spam\n",
    "            word_spam_score = np.sum(spam_df[i])\n",
    "            \n",
    "            # all scores of current word in ham\n",
    "            word_ham_score = np.sum(ham_df[i])\n",
    "            \n",
    "            # get P(word|spam)\n",
    "            p_word_spam = (word_spam_score + smooth) / (spam_total_count + (smooth * word_count))\n",
    "            email_spam_score = email_spam_score + np.log(p_word_spam)\n",
    "            \n",
    "            # get P(word|ham)\n",
    "            p_word_ham = (word_ham_score + smooth) / (ham_total_count + (smooth * word_count))\n",
    "            email_ham_score = email_ham_score + np.log(p_word_ham)\n",
    "            \n",
    "            # reset word scores\n",
    "            word_spam_score = 0\n",
    "            word_ham_score = 0\n",
    "                \n",
    "        except:\n",
    "            # when word is not in the columns since we did cut to 10k\n",
    "            pass\n",
    "    \n",
    "    return 'spam' if (email_spam_score + np.log(p_spam)) > (email_ham_score + np.log(p_ham)) else 'ham'"
   ]
  },
  {
   "cell_type": "code",
   "execution_count": null,
   "id": "247aef57",
   "metadata": {
    "id": "247aef57"
   },
   "outputs": [],
   "source": [
    "# Get guesses for the train set into an array\n",
    "train_class_guess = []\n",
    "for i in range(len(classification_array)):\n",
    "    guess = isEmailSpamOrHam(p_ham, p_spam, 1, 10000, clean_email_array[i], spam_df, ham_df, spam_total_count, ham_total_count)\n",
    "    train_class_guess.append(guess)"
   ]
  },
  {
   "cell_type": "code",
   "execution_count": null,
   "id": "TST35eGLseW3",
   "metadata": {
    "colab": {
     "base_uri": "https://localhost:8080/"
    },
    "id": "TST35eGLseW3",
    "outputId": "49480eda-a308-4b59-dd86-485ba1037658"
   },
   "outputs": [
    {
     "name": "stdout",
     "output_type": "stream",
     "text": [
      "Final train score: 20458/21300 or 96.04694835680752%\n"
     ]
    }
   ],
   "source": [
    "# check correct guesses on train set. This is equal to the accuracy.\n",
    "train_points = 0\n",
    "for i in range(len(classification_array)):\n",
    "    if classification_array[i] == train_class_guess[i]:\n",
    "        train_points = train_points + 1\n",
    "print(f\"Final train score: {train_points}/{len(classification_array)} or {(train_points / len(classification_array)) * 100}%\")"
   ]
  },
  {
   "cell_type": "code",
   "execution_count": null,
   "id": "eD97H8Pctzaf",
   "metadata": {
    "id": "eD97H8Pctzaf"
   },
   "outputs": [],
   "source": [
    "# predicting test classifications\n",
    "test_class_guess = []\n",
    "for i in range(len(test_classification_array)):\n",
    "    guess_in_test = isEmailSpamOrHam(p_ham, p_spam, 1, 10000, test_clean_email_array[i], spam_df, ham_df, spam_total_count, ham_total_count)\n",
    "    test_class_guess.append(guess_in_test)"
   ]
  },
  {
   "cell_type": "code",
   "execution_count": null,
   "id": "hAjUrJ5UxTur",
   "metadata": {
    "colab": {
     "base_uri": "https://localhost:8080/"
    },
    "id": "hAjUrJ5UxTur",
    "outputId": "b06beb32-f29a-4d80-d7a3-8bd1570c4211"
   },
   "outputs": [
    {
     "name": "stdout",
     "output_type": "stream",
     "text": [
      "Final test score: 15174/16522 or 91.84118145502966%\n"
     ]
    }
   ],
   "source": [
    "# check correct guesses on test set\n",
    "test_points = 0\n",
    "for i in range(len(test_classification_array)):\n",
    "    if test_classification_array[i] == test_class_guess[i]:\n",
    "        test_points = test_points + 1\n",
    "print(f\"Final test score: {test_points}/{len(test_classification_array)} or {(test_points / len(test_classification_array)) * 100}%\")"
   ]
  },
  {
   "cell_type": "code",
   "execution_count": 148,
   "id": "qaVAspSx4bOU",
   "metadata": {
    "colab": {
     "base_uri": "https://localhost:8080/"
    },
    "id": "qaVAspSx4bOU",
    "outputId": "12d80771-3e69-4432-d40c-336614f40586"
   },
   "outputs": [
    {
     "name": "stdout",
     "output_type": "stream",
     "text": [
      "Accuracy score is: 0.9184118145502965, same as the above computation\n"
     ]
    }
   ],
   "source": [
    "accuracy_s = sklearn.metrics.accuracy_score(test_classification_array, test_class_guess)\n",
    "print(f\"Accuracy score is: {accuracy_s}, same as the above computation\")"
   ]
  },
  {
   "cell_type": "code",
   "execution_count": null,
   "id": "hx53kQ1e1xLT",
   "metadata": {
    "colab": {
     "base_uri": "https://localhost:8080/"
    },
    "id": "hx53kQ1e1xLT",
    "outputId": "3ed1d2f7-7502-4711-e7c7-5f4202107f53"
   },
   "outputs": [
    {
     "name": "stdout",
     "output_type": "stream",
     "text": [
      "Recall score is: 0.900501206608502\n"
     ]
    }
   ],
   "source": [
    "recall_s = sklearn.metrics.recall_score(test_classification_array, test_class_guess, pos_label = 'ham')\n",
    "print(f\"Recall score is: {recall_s}\")"
   ]
  },
  {
   "cell_type": "code",
   "execution_count": null,
   "id": "7cGufkBB5G8k",
   "metadata": {
    "colab": {
     "base_uri": "https://localhost:8080/"
    },
    "id": "7cGufkBB5G8k",
    "outputId": "89b1fc5e-4d7e-4d7b-876b-6446f43a931a"
   },
   "outputs": [
    {
     "name": "stdout",
     "output_type": "stream",
     "text": [
      "Precision score is: 0.8566131025957973\n"
     ]
    }
   ],
   "source": [
    "precision_s = sklearn.metrics.precision_score(test_classification_array, test_class_guess, pos_label = 'ham')\n",
    "print(f\"Precision score is: {precision_s}\")"
   ]
  },
  {
   "cell_type": "markdown",
   "id": "166220c4",
   "metadata": {},
   "source": [
    "## "
   ]
  },
  {
   "cell_type": "markdown",
   "id": "hzY-rlQoAecd",
   "metadata": {
    "id": "hzY-rlQoAecd"
   },
   "source": [
    "## Using uncleaned email bodies to check:"
   ]
  },
  {
   "cell_type": "code",
   "execution_count": null,
   "id": "5Hsdhwxi7XDz",
   "metadata": {
    "id": "5Hsdhwxi7XDz"
   },
   "outputs": [],
   "source": [
    "# using unclean email bodies of test set\n",
    "# predicting test classifications\n",
    "unclean_test_class_guess = []\n",
    "for i in range(len(test_classification_array)):\n",
    "    unclean_guess_in_test = isEmailSpamOrHam(p_ham, p_spam, 1, 10000, test_email_body_array[i], spam_df, ham_df,  spam_total_count, ham_total_count)\n",
    "    unclean_test_class_guess.append(unclean_guess_in_test)"
   ]
  },
  {
   "cell_type": "code",
   "execution_count": null,
   "id": "bonN9GwM-l47",
   "metadata": {
    "colab": {
     "base_uri": "https://localhost:8080/"
    },
    "id": "bonN9GwM-l47",
    "outputId": "b050cd9c-e308-4cc0-b9a6-60bce96b99d5"
   },
   "outputs": [
    {
     "name": "stdout",
     "output_type": "stream",
     "text": [
      "Accuracy score on uncleaned set is: 0.8711415082919743\n",
      "Recall score on uncleaned set is: 0.900501206608502\n",
      "Precision score on uncleaned set is: 0.8566131025957973\n"
     ]
    }
   ],
   "source": [
    "unclean_accuracy_s = sklearn.metrics.accuracy_score(test_classification_array, unclean_test_class_guess)\n",
    "unclean_recall_s = sklearn.metrics.recall_score(test_classification_array, test_class_guess, pos_label = 'ham')\n",
    "unclean_precision_s = sklearn.metrics.precision_score(test_classification_array, test_class_guess, pos_label = 'ham')\n",
    "print(f\"Accuracy score on uncleaned set is: {unclean_accuracy_s}\")\n",
    "print(f\"Recall score on uncleaned set is: {unclean_recall_s}\")\n",
    "print(f\"Precision score on uncleaned set is: {unclean_precision_s}\")"
   ]
  },
  {
   "cell_type": "code",
   "execution_count": null,
   "id": "1k3dkt91I-9T",
   "metadata": {
    "colab": {
     "base_uri": "https://localhost:8080/",
     "height": 298
    },
    "id": "1k3dkt91I-9T",
    "outputId": "0bd49d3c-7346-452e-bc87-2a20499a59cb"
   },
   "outputs": [
    {
     "data": {
      "text/plain": [
       "Text(0.5, 1.0, 'Accuracy Comparison')"
      ]
     },
     "execution_count": 133,
     "metadata": {},
     "output_type": "execute_result"
    },
    {
     "data": {
      "image/png": "[encoded data removed]",
      "text/plain": [
       "<Figure size 432x288 with 1 Axes>"
      ]
     },
     "metadata": {
      "needs_background": "light"
     },
     "output_type": "display_data"
    }
   ],
   "source": [
    "plt.bar(['Cleaned','Uncleaned'], [accuracy_s, unclean_accuracy_s])\n",
    "plt.title('Accuracy Comparison')"
   ]
  },
  {
   "cell_type": "code",
   "execution_count": null,
   "id": "NxX5kZZNJiY5",
   "metadata": {
    "colab": {
     "base_uri": "https://localhost:8080/",
     "height": 298
    },
    "id": "NxX5kZZNJiY5",
    "outputId": "46f37c05-1137-448e-e0d5-96d6f48413f9"
   },
   "outputs": [
    {
     "data": {
      "text/plain": [
       "Text(0.5, 1.0, 'Recall Comparison')"
      ]
     },
     "execution_count": 134,
     "metadata": {},
     "output_type": "execute_result"
    },
    {
     "data": {
      "image/png": "[encoded data removed]",
      "text/plain": [
       "<Figure size 432x288 with 1 Axes>"
      ]
     },
     "metadata": {
      "needs_background": "light"
     },
     "output_type": "display_data"
    }
   ],
   "source": [
    "plt.bar(['Cleaned','Uncleaned'], [recall_s, unclean_recall_s])\n",
    "plt.title('Recall Comparison')"
   ]
  },
  {
   "cell_type": "code",
   "execution_count": null,
   "id": "NUimcq2wKOJl",
   "metadata": {
    "colab": {
     "base_uri": "https://localhost:8080/",
     "height": 298
    },
    "id": "NUimcq2wKOJl",
    "outputId": "ef14cfae-e4a0-47f5-986a-fdbe767e175d"
   },
   "outputs": [
    {
     "data": {
      "text/plain": [
       "Text(0.5, 1.0, 'Precision Comparison')"
      ]
     },
     "execution_count": 136,
     "metadata": {},
     "output_type": "execute_result"
    },
    {
     "data": {
      "image/png": "[encoded data removed]",
      "text/plain": [
       "<Figure size 432x288 with 1 Axes>"
      ]
     },
     "metadata": {
      "needs_background": "light"
     },
     "output_type": "display_data"
    }
   ],
   "source": [
    "plt.bar(['Cleaned','Uncleaned'], [precision_s, unclean_precision_s])\n",
    "plt.title('Precision Comparison')"
   ]
  },
  {
   "cell_type": "markdown",
   "id": "6928ab52",
   "metadata": {},
   "source": [
    "## "
   ]
  },
  {
   "cell_type": "markdown",
   "id": "0VUQiKRNT4lO",
   "metadata": {
    "id": "0VUQiKRNT4lO"
   },
   "source": [
    "## Testing trimmed set, from 10k words down to 1k"
   ]
  },
  {
   "cell_type": "code",
   "execution_count": 175,
   "id": "8fwUI4tcMjKY",
   "metadata": {
    "colab": {
     "base_uri": "https://localhost:8080/"
    },
    "id": "8fwUI4tcMjKY",
    "outputId": "d530e08d-5541-4563-f877-838a6df7c4de"
   },
   "outputs": [
    {
     "name": "stdout",
     "output_type": "stream",
     "text": [
      "Created trimmed spam and ham dicts with lengths: 1000 and 1000\n"
     ]
    }
   ],
   "source": [
    "# for trimmed word counts\n",
    "# trim the \"sorted\" dictionaries (first 1000 words)\n",
    "trimmed_spam_dict = {k: spam_dict[k] for k in list(spam_dict)[:1000]}\n",
    "trimmed_ham_dict = {k: ham_dict[k] for k in list(ham_dict)[:1000]}\n",
    "print(f\"Created trimmed spam and ham dicts with lengths: {len(trimmed_spam_dict)} and {len(trimmed_ham_dict)}\")"
   ]
  },
  {
   "cell_type": "code",
   "execution_count": 176,
   "id": "DITIpdAoNORH",
   "metadata": {
    "colab": {
     "base_uri": "https://localhost:8080/"
    },
    "id": "DITIpdAoNORH",
    "outputId": "0bfeaeab-94a8-46ed-b8ce-21e889e431f5"
   },
   "outputs": [
    {
     "name": "stdout",
     "output_type": "stream",
     "text": [
      "Trimmed Spam and Ham dataframes created successfully.\n"
     ]
    }
   ],
   "source": [
    "# for trimmed word counts\n",
    "# create dataframes\n",
    "trimmed_spam_df = pd.DataFrame.from_dict(trimmed_spam_dict)\n",
    "trimmed_ham_df = pd.DataFrame.from_dict(trimmed_ham_dict)\n",
    "print(\"Trimmed Spam and Ham dataframes created successfully.\")"
   ]
  },
  {
   "cell_type": "code",
   "execution_count": 179,
   "id": "F71t4_a_Ntjs",
   "metadata": {
    "colab": {
     "base_uri": "https://localhost:8080/"
    },
    "id": "F71t4_a_Ntjs",
    "outputId": "6d40515d-0762-40f5-f2ea-9feba2b55b7b"
   },
   "outputs": [
    {
     "name": "stdout",
     "output_type": "stream",
     "text": [
      "Spam total words: 2094308\n",
      "Ham total words: 1354065\n"
     ]
    }
   ],
   "source": [
    "# for trimmed word counts\n",
    "# Get total spam and ham words\n",
    "trimmed_spam_total_count = np.sum(np.sum(trimmed_spam_df, axis=1)) \n",
    "trimmed_ham_total_count = np.sum(np.sum(trimmed_ham_df, axis=1)) \n",
    "\n",
    "print(f\"Spam total words: {trimmed_spam_total_count}\\nHam total words: {trimmed_ham_total_count}\")"
   ]
  },
  {
   "cell_type": "code",
   "execution_count": 180,
   "id": "jdQ_Z5ObPS6a",
   "metadata": {
    "colab": {
     "base_uri": "https://localhost:8080/"
    },
    "id": "jdQ_Z5ObPS6a",
    "outputId": "2b0d3d9e-a08a-4452-f09a-5d0c7e924f56"
   },
   "outputs": [
    {
     "name": "stdout",
     "output_type": "stream",
     "text": [
      "Done. Guess length is : 16522\n"
     ]
    }
   ],
   "source": [
    "# for trimmed word counts\n",
    "# predicting test classifications\n",
    "trimmed_test_class_guess = []\n",
    "for i in range(len(test_classification_array)):\n",
    "    trimmed_guess_in_test = isEmailSpamOrHam(p_ham, p_spam, 1, 10000, test_clean_email_array[i], trimmed_spam_df, trimmed_ham_df, trimmed_spam_total_count, trimmed_ham_total_count)\n",
    "    trimmed_test_class_guess.append(trimmed_guess_in_test)\n",
    "print(f\"Done. Guess length is : {len(trimmed_test_class_guess)}\")"
   ]
  },
  {
   "cell_type": "code",
   "execution_count": 181,
   "id": "9u3QxNOeRUWj",
   "metadata": {
    "colab": {
     "base_uri": "https://localhost:8080/"
    },
    "id": "9u3QxNOeRUWj",
    "outputId": "ae2c4d1d-d20b-44ed-ce7c-6548237b55c1"
   },
   "outputs": [
    {
     "name": "stdout",
     "output_type": "stream",
     "text": [
      "Accuracy score is: 0.8861517976031957, compared to 10k words with 0.9184118145502965\n"
     ]
    }
   ],
   "source": [
    "trimmed_accuracy_s = sklearn.metrics.accuracy_score(test_classification_array, trimmed_test_class_guess)\n",
    "print(f\"Accuracy score is: {trimmed_accuracy_s}, compared to 10k words with {accuracy_s}\")"
   ]
  },
  {
   "cell_type": "code",
   "execution_count": 182,
   "id": "Aq7T_m9hRuLv",
   "metadata": {
    "colab": {
     "base_uri": "https://localhost:8080/"
    },
    "id": "Aq7T_m9hRuLv",
    "outputId": "f1b2218a-4919-4128-ab18-c249b4dad7af"
   },
   "outputs": [
    {
     "name": "stdout",
     "output_type": "stream",
     "text": [
      "Recall score is: 0.8847224800445517, compared to 10k words with: 0.900501206608502\n"
     ]
    }
   ],
   "source": [
    "trimmed_recall_s = sklearn.metrics.recall_score(test_classification_array, trimmed_test_class_guess, pos_label = 'ham')\n",
    "print(f\"Recall score is: {trimmed_recall_s}, compared to 10k words with: {recall_s}\")"
   ]
  },
  {
   "cell_type": "code",
   "execution_count": 183,
   "id": "pMJUNzV_STng",
   "metadata": {
    "colab": {
     "base_uri": "https://localhost:8080/"
    },
    "id": "pMJUNzV_STng",
    "outputId": "6289a35c-b5a8-49e3-fe8b-06f691d22d6e"
   },
   "outputs": [
    {
     "name": "stdout",
     "output_type": "stream",
     "text": [
      "Precision score is: 0.7909060736807169, compared to 10k words with: 0.8566131025957973\n"
     ]
    }
   ],
   "source": [
    "trimmed_precision_s = sklearn.metrics.precision_score(test_classification_array, trimmed_test_class_guess, pos_label = 'ham')\n",
    "print(f\"Precision score is: {trimmed_precision_s}, compared to 10k words with: {precision_s}\")"
   ]
  },
  {
   "cell_type": "markdown",
   "id": "43a35b3e",
   "metadata": {},
   "source": [
    "## "
   ]
  },
  {
   "cell_type": "markdown",
   "id": "SSk5PCKRV1eI",
   "metadata": {
    "id": "SSk5PCKRV1eI"
   },
   "source": [
    "## Testing k>100"
   ]
  },
  {
   "cell_type": "code",
   "execution_count": 213,
   "id": "hj_l7yGeV1HX",
   "metadata": {
    "colab": {
     "base_uri": "https://localhost:8080/"
    },
    "id": "hj_l7yGeV1HX",
    "outputId": "1219910a-7243-44ff-8ec5-32652dd090f0"
   },
   "outputs": [
    {
     "name": "stdout",
     "output_type": "stream",
     "text": [
      "k>100 full dictionaries done. Lengths are 4806 and 4806\n"
     ]
    }
   ],
   "source": [
    "k_100_spam = {}\n",
    "k_100_ham = {}\n",
    "for i in grand_word_counts.keys():\n",
    "    try:\n",
    "        if np.sum(grand_word_counts[i]) > 100:\n",
    "            k_100_spam[i] = spam_dict[i]\n",
    "            k_100_ham[i] = ham_dict[i]\n",
    "    except:\n",
    "        pass # for the spam or ham column, which is not numerical \n",
    "print(f\"k>100 full dictionaries done. Lengths are {len(k_100_spam)} and {len(k_100_ham)}\")"
   ]
  },
  {
   "cell_type": "code",
   "execution_count": 214,
   "id": "U3dgnMViaFKE",
   "metadata": {
    "colab": {
     "base_uri": "https://localhost:8080/"
    },
    "id": "U3dgnMViaFKE",
    "outputId": "20c140f5-1e85-4a00-f223-58b3f55a12aa"
   },
   "outputs": [
    {
     "name": "stdout",
     "output_type": "stream",
     "text": [
      "k>100 Spam and Ham dataframes created successfully.\n"
     ]
    }
   ],
   "source": [
    "# k>100 df\n",
    "k100_spam_df = pd.DataFrame.from_dict(k_100_spam)\n",
    "k100_ham_df = pd.DataFrame.from_dict(k_100_ham)\n",
    "print(\"k>100 Spam and Ham dataframes created successfully.\")"
   ]
  },
  {
   "cell_type": "code",
   "execution_count": 215,
   "id": "ep7vmQUgahqn",
   "metadata": {
    "colab": {
     "base_uri": "https://localhost:8080/"
    },
    "id": "ep7vmQUgahqn",
    "outputId": "0b6b8201-182f-4641-b816-1bd7bd4b75b4"
   },
   "outputs": [
    {
     "name": "stdout",
     "output_type": "stream",
     "text": [
      "Spam total words: 7251651\n",
      "Ham total words: 5081922\n"
     ]
    }
   ],
   "source": [
    "# Get total spam and ham words\n",
    "k100_spam_total_count = np.sum(np.sum(k100_spam_df, axis=1)) \n",
    "k100_ham_total_count = np.sum(np.sum(k100_ham_df, axis=1)) \n",
    "\n",
    "print(f\"Spam total words: {k100_spam_total_count}\\nHam total words: {k100_ham_total_count}\")"
   ]
  },
  {
   "cell_type": "code",
   "execution_count": 216,
   "id": "kwH2-O1UfjG8",
   "metadata": {
    "colab": {
     "base_uri": "https://localhost:8080/"
    },
    "id": "kwH2-O1UfjG8",
    "outputId": "b6806c94-03b5-4162-f03f-518f9e18e465"
   },
   "outputs": [
    {
     "name": "stdout",
     "output_type": "stream",
     "text": [
      "Done. Guess length is : 16522\n"
     ]
    }
   ],
   "source": [
    "# predicting test classifications\n",
    "k100_test_class_guess = []\n",
    "for i in range(len(test_classification_array)):\n",
    "    k100_guess_in_test = isEmailSpamOrHam(p_ham, p_spam, 1, 10000, test_clean_email_array[i], k100_spam_df, k100_ham_df, trimmed_spam_total_count, trimmed_ham_total_count)\n",
    "    k100_test_class_guess.append(k100_guess_in_test)\n",
    "print(f\"Done. Guess length is : {len(k100_test_class_guess)}\")"
   ]
  },
  {
   "cell_type": "code",
   "execution_count": 217,
   "id": "Ss7X18hfkSED",
   "metadata": {
    "colab": {
     "base_uri": "https://localhost:8080/"
    },
    "id": "Ss7X18hfkSED",
    "outputId": "efff407e-e57e-413c-e74b-afafb8c19345"
   },
   "outputs": [
    {
     "name": "stdout",
     "output_type": "stream",
     "text": [
      "Precision score is: 0.8310729613733906, compared to 10k words with: 0.8566131025957973\n",
      "Recall score is: 0.8986448858362726, compared to 10k words with: 0.900501206608502\n",
      "Accuracy score is: 0.9073961990073841, compared to 10k words with 0.9184118145502965\n"
     ]
    }
   ],
   "source": [
    "k100_accuracy_s = sklearn.metrics.accuracy_score(test_classification_array, k100_test_class_guess)\n",
    "k100_recall_s = sklearn.metrics.recall_score(test_classification_array, k100_test_class_guess, pos_label = 'ham')\n",
    "k100_precision_s = sklearn.metrics.precision_score(test_classification_array, k100_test_class_guess, pos_label = 'ham')\n",
    "print(f\"Precision score is: {k100_precision_s}, compared to 10k words with: {precision_s}\")\n",
    "print(f\"Recall score is: {k100_recall_s}, compared to 10k words with: {recall_s}\")\n",
    "print(f\"Accuracy score is: {k100_accuracy_s}, compared to 10k words with {accuracy_s}\")"
   ]
  },
  {
   "cell_type": "markdown",
   "id": "1b9a0669",
   "metadata": {},
   "source": [
    "## "
   ]
  },
  {
   "cell_type": "markdown",
   "id": "rq4TAu7mw2_f",
   "metadata": {
    "id": "rq4TAu7mw2_f"
   },
   "source": [
    "## Testing k = 50"
   ]
  },
  {
   "cell_type": "code",
   "execution_count": 218,
   "id": "PvUHvS1kwx3B",
   "metadata": {
    "colab": {
     "base_uri": "https://localhost:8080/"
    },
    "id": "PvUHvS1kwx3B",
    "outputId": "bce5b9b1-e16c-4f4c-cc4c-b00676237ca4"
   },
   "outputs": [
    {
     "name": "stdout",
     "output_type": "stream",
     "text": [
      "k=50 full dictionaries done. Lengths are 106 and 106\n"
     ]
    }
   ],
   "source": [
    "k_50_spam = {}\n",
    "k_50_ham = {}\n",
    "for i in grand_word_counts.keys():\n",
    "    try:\n",
    "        if np.sum(grand_word_counts[i]) == 50:\n",
    "            k_50_spam[i] = spam_dict[i]\n",
    "            k_50_ham[i] = ham_dict[i]\n",
    "    except:\n",
    "        pass # for the spam or ham column, which is not numerical \n",
    "print(f\"k=50 full dictionaries done. Lengths are {len(k_50_spam)} and {len(k_50_ham)}\")"
   ]
  },
  {
   "cell_type": "code",
   "execution_count": 219,
   "id": "6pNAL8LNxPos",
   "metadata": {
    "colab": {
     "base_uri": "https://localhost:8080/"
    },
    "id": "6pNAL8LNxPos",
    "outputId": "062bec57-6409-406b-a042-85908925d9c3"
   },
   "outputs": [
    {
     "name": "stdout",
     "output_type": "stream",
     "text": [
      "k=50 Spam and Ham dataframes created successfully.\n"
     ]
    }
   ],
   "source": [
    "# k=50 df\n",
    "k50_spam_df = pd.DataFrame.from_dict(k_50_spam)\n",
    "k50_ham_df = pd.DataFrame.from_dict(k_50_ham)\n",
    "print(\"k=50 Spam and Ham dataframes created successfully.\")"
   ]
  },
  {
   "cell_type": "code",
   "execution_count": 220,
   "id": "Zhyts6cFxXdu",
   "metadata": {
    "colab": {
     "base_uri": "https://localhost:8080/"
    },
    "id": "Zhyts6cFxXdu",
    "outputId": "cd390a92-cbd3-4d86-dfca-c1f2c4f30608"
   },
   "outputs": [
    {
     "name": "stdout",
     "output_type": "stream",
     "text": [
      "Spam total words: 4216\n",
      "Ham total words: 1084\n"
     ]
    }
   ],
   "source": [
    "# Get total spam and ham words\n",
    "k50_spam_total_count = np.sum(np.sum(k50_spam_df, axis=1)) \n",
    "k50_ham_total_count = np.sum(np.sum(k50_ham_df, axis=1)) \n",
    "\n",
    "print(f\"Spam total words: {k50_spam_total_count}\\nHam total words: {k50_ham_total_count}\")"
   ]
  },
  {
   "cell_type": "code",
   "execution_count": 222,
   "id": "0vqTg-p8xqKG",
   "metadata": {
    "colab": {
     "base_uri": "https://localhost:8080/"
    },
    "id": "0vqTg-p8xqKG",
    "outputId": "37ee6015-d2cb-4907-8c4e-f7cde21f6259"
   },
   "outputs": [
    {
     "name": "stdout",
     "output_type": "stream",
     "text": [
      "Done. Guess length is : 16522\n"
     ]
    }
   ],
   "source": [
    "# predicting test classifications\n",
    "k50_test_class_guess = []\n",
    "for i in range(len(test_classification_array)):\n",
    "    k50_guess_in_test = isEmailSpamOrHam(p_ham, p_spam, 1, 10000, test_clean_email_array[i], k50_spam_df, k50_ham_df, trimmed_spam_total_count, trimmed_ham_total_count)\n",
    "    k50_test_class_guess.append(k50_guess_in_test)\n",
    "print(f\"Done. Guess length is : {len(k50_test_class_guess)}\")"
   ]
  },
  {
   "cell_type": "code",
   "execution_count": 224,
   "id": "VDuCu0nAyfr3",
   "metadata": {
    "colab": {
     "base_uri": "https://localhost:8080/"
    },
    "id": "VDuCu0nAyfr3",
    "outputId": "34ba0e5e-45f0-4fbd-c8e9-60451242a614"
   },
   "outputs": [
    {
     "name": "stdout",
     "output_type": "stream",
     "text": [
      "Precision score is: 0.7955801104972375, compared to 10k words with: 0.8566131025957973\n",
      "Recall score is: 0.08019305736031186, compared to 10k words with: 0.900501206608502\n",
      "Accuracy score is: 0.6933785256022273, compared to 10k words with 0.9184118145502965\n"
     ]
    }
   ],
   "source": [
    "k50_accuracy_s = sklearn.metrics.accuracy_score(test_classification_array, k50_test_class_guess)\n",
    "k50_recall_s = sklearn.metrics.recall_score(test_classification_array, k50_test_class_guess, pos_label = 'ham')\n",
    "k50_precision_s = sklearn.metrics.precision_score(test_classification_array, k50_test_class_guess, pos_label = 'ham')\n",
    "print(f\"Precision score is: {k50_precision_s}, compared to 10k words with: {precision_s}\")\n",
    "print(f\"Recall score is: {k50_recall_s}, compared to 10k words with: {recall_s}\")\n",
    "print(f\"Accuracy score is: {k50_accuracy_s}, compared to 10k words with {accuracy_s}\")"
   ]
  },
  {
   "cell_type": "markdown",
   "id": "33c20459",
   "metadata": {},
   "source": [
    "## "
   ]
  },
  {
   "cell_type": "markdown",
   "id": "JsSk-abVzOld",
   "metadata": {
    "id": "JsSk-abVzOld"
   },
   "source": [
    "## Testing Differing smoothing values on Trimmed set"
   ]
  },
  {
   "cell_type": "code",
   "execution_count": 228,
   "id": "vBNqqOcsz9Ec",
   "metadata": {
    "colab": {
     "base_uri": "https://localhost:8080/"
    },
    "id": "vBNqqOcsz9Ec",
    "outputId": "d50d3620-d8f8-4718-a3d6-1a1d9bc5aeda"
   },
   "outputs": [
    {
     "name": "stdout",
     "output_type": "stream",
     "text": [
      "Remember, on the Trimmed set we already have values for smoothing/lambda = 1.0:\n",
      "Accuracy: 0.8861517976031957\n",
      "Recall: 0.8847224800445517\n",
      "Precision: 0.7909060736807169\n"
     ]
    }
   ],
   "source": [
    "print(f\"Remember, on the Trimmed set we already have values for smoothing/lambda = 1.0:\")\n",
    "print(f\"Accuracy: {trimmed_accuracy_s}\")\n",
    "print(f\"Recall: {trimmed_recall_s}\")\n",
    "print(f\"Precision: {trimmed_precision_s}\")"
   ]
  },
  {
   "cell_type": "code",
   "execution_count": 229,
   "id": "2qyo4ijSzOBp",
   "metadata": {
    "id": "2qyo4ijSzOBp"
   },
   "outputs": [],
   "source": [
    "# for trimmed word counts,\n",
    "# predicting test classifications on differing smoothing values\n",
    "\n",
    "def get_ARP_lambda(smoothing):\n",
    "    returned_guess = []\n",
    "    for i in range(len(test_classification_array)):\n",
    "        guess = isEmailSpamOrHam(p_ham, p_spam, smoothing, 10000, test_clean_email_array[i], trimmed_spam_df, trimmed_ham_df, trimmed_spam_total_count, trimmed_ham_total_count)\n",
    "        returned_guess.append(guess)\n",
    "\n",
    "    accuracy = sklearn.metrics.accuracy_score(test_classification_array, returned_guess)\n",
    "    recall = sklearn.metrics.recall_score(test_classification_array, returned_guess, pos_label = 'ham')\n",
    "    precision = sklearn.metrics.precision_score(test_classification_array, returned_guess, pos_label = 'ham')\n",
    "\n",
    "    return accuracy, recall, precision"
   ]
  },
  {
   "cell_type": "code",
   "execution_count": 233,
   "id": "nGKNf34M14hP",
   "metadata": {
    "id": "nGKNf34M14hP"
   },
   "outputs": [],
   "source": [
    "lambda_2_accuracy, lambda_2_recall, lambda_2_precision = get_ARP_lambda(2)\n",
    "lambda_05_accuracy, lambda_05_recall, lambda_05_precision = get_ARP_lambda(0.5)\n",
    "lambda_01_accuracy, lambda_01_recall, lambda_01_precision = get_ARP_lambda(0.1)\n",
    "lambda_005_accuracy, lambda_005_recall, lambda_005_precision = get_ARP_lambda(0.005)"
   ]
  },
  {
   "cell_type": "code",
   "execution_count": 241,
   "id": "bvPzPD_T23qU",
   "metadata": {
    "colab": {
     "base_uri": "https://localhost:8080/",
     "height": 295
    },
    "id": "bvPzPD_T23qU",
    "outputId": "3ed637ce-71f7-468e-8bf3-0433d5b8f1b6"
   },
   "outputs": [
    {
     "data": {
      "image/png": "[encoded data removed]",
      "text/plain": [
       "<Figure size 432x288 with 1 Axes>"
      ]
     },
     "metadata": {
      "needs_background": "light"
     },
     "output_type": "display_data"
    }
   ],
   "source": [
    "plt.plot(['2.0', '1.0','0.5', '0.1', '0.005'], [lambda_2_accuracy, trimmed_accuracy_s, lambda_05_accuracy, lambda_01_accuracy, lambda_005_accuracy])\n",
    "plt.title('Accuracy Score Comparison of differing lambda values')\n",
    "plt.xlabel('Lambda Smoothening Values')\n",
    "plt.show()"
   ]
  },
  {
   "cell_type": "code",
   "execution_count": 239,
   "id": "YaJYXCsx9IGF",
   "metadata": {
    "colab": {
     "base_uri": "https://localhost:8080/",
     "height": 295
    },
    "id": "YaJYXCsx9IGF",
    "outputId": "90200241-0a26-4275-96b9-8d32288e3ecb"
   },
   "outputs": [
    {
     "data": {
      "image/png": "[encoded data removed]",
      "text/plain": [
       "<Figure size 432x288 with 1 Axes>"
      ]
     },
     "metadata": {
      "needs_background": "light"
     },
     "output_type": "display_data"
    }
   ],
   "source": [
    "plt.plot(['2.0', '1.0','0.5', '0.1', '0.005'], [lambda_2_recall, trimmed_recall_s, lambda_05_recall, lambda_01_recall, lambda_005_recall])\n",
    "plt.title('Recall Score Comparison of differing lambda values')\n",
    "plt.xlabel('Lambda Smoothening Values')\n",
    "plt.show()"
   ]
  },
  {
   "cell_type": "code",
   "execution_count": 242,
   "id": "Xgd_zWIz9iqt",
   "metadata": {
    "colab": {
     "base_uri": "https://localhost:8080/",
     "height": 295
    },
    "id": "Xgd_zWIz9iqt",
    "outputId": "d157c883-5427-459e-94fd-926281005d2a"
   },
   "outputs": [
    {
     "data": {
      "image/png": "[encoded data removed]",
      "text/plain": [
       "<Figure size 432x288 with 1 Axes>"
      ]
     },
     "metadata": {
      "needs_background": "light"
     },
     "output_type": "display_data"
    }
   ],
   "source": [
    "plt.plot(['2.0', '1.0','0.5', '0.1', '0.005'], [lambda_2_precision, trimmed_precision_s, lambda_05_precision, lambda_01_precision, lambda_005_precision])\n",
    "plt.title('Precision Score Comparison of differing lambda values')\n",
    "plt.xlabel('Lambda Smoothening Values')\n",
    "plt.show()"
   ]
  }
 ],
 "metadata": {
  "colab": {
   "provenance": []
  },
  "kernelspec": {
   "display_name": "Python 3 (ipykernel)",
   "language": "python",
   "name": "python3"
  },
  "language_info": {
   "codemirror_mode": {
    "name": "ipython",
    "version": 3
   },
   "file_extension": ".py",
   "mimetype": "text/x-python",
   "name": "python",
   "nbconvert_exporter": "python",
   "pygments_lexer": "ipython3",
   "version": "3.9.12"
  }
 },
 "nbformat": 4,
 "nbformat_minor": 5
}
