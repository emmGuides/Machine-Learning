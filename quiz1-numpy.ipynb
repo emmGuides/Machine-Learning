{
 "cells": [
  {
   "cell_type": "markdown",
   "id": "28250982",
   "metadata": {},
   "source": [
    "## Machine Learning (CMSC 197) Quiz 1"
   ]
  },
  {
   "cell_type": "markdown",
   "id": "5ed30d4b",
   "metadata": {},
   "source": [
    "<h4>Emmanuel Tarek Shayne Guides, September 24, 2022</h4>"
   ]
  },
  {
   "cell_type": "markdown",
   "id": "eb62b38f",
   "metadata": {},
   "source": [
    "## "
   ]
  },
  {
   "cell_type": "markdown",
   "id": "78a7e3c2",
   "metadata": {},
   "source": [
    "## Part 1"
   ]
  },
  {
   "cell_type": "markdown",
   "id": "56c3a265",
   "metadata": {},
   "source": [
    "## Starting off by initializing both arrays"
   ]
  },
  {
   "cell_type": "code",
   "execution_count": 3,
   "id": "351be4e2",
   "metadata": {},
   "outputs": [
    {
     "name": "stdout",
     "output_type": "stream",
     "text": [
      "y_hat:\n",
      " [-1.         -0.89473684 -0.78947368 -0.68421053 -0.57894737 -0.47368421\n",
      " -0.36842105 -0.26315789 -0.15789474 -0.05263158  0.05263158  0.15789474\n",
      "  0.26315789  0.36842105  0.47368421  0.57894737  0.68421053  0.78947368\n",
      "  0.89473684  1.        ] \n",
      "\n",
      "\n",
      " y:\n",
      " [0.         0.05263158 0.10526316 0.15789474 0.21052632 0.26315789\n",
      " 0.31578947 0.36842105 0.42105263 0.47368421 0.52631579 0.57894737\n",
      " 0.63157895 0.68421053 0.73684211 0.78947368 0.84210526 0.89473684\n",
      " 0.94736842 1.        ]\n"
     ]
    }
   ],
   "source": [
    "import numpy as np\n",
    "\n",
    "# Initialize arrays y_hat (20 linearly spaced numbers from -1 to 1) \n",
    "# and y (20 linearly spaced numbers between 0 and 1)\n",
    "\n",
    "y_hat = np.linspace(-1, 1, 20)\n",
    "y = np.linspace(0, 1, 20)\n",
    "\n",
    "print(\"y_hat:\\n\", y_hat, \"\\n\\n\\n\", \"y:\\n\", y)"
   ]
  },
  {
   "cell_type": "markdown",
   "id": "869f0f58",
   "metadata": {},
   "source": [
    "## y_hat and y dimensions and shapes"
   ]
  },
  {
   "cell_type": "code",
   "execution_count": 6,
   "id": "a5fc28f9",
   "metadata": {},
   "outputs": [
    {
     "name": "stdout",
     "output_type": "stream",
     "text": [
      "y dimension:  1 \n",
      "y_hat dimension:  1\n",
      "\n",
      "y shape:  (20,) \n",
      "y_hat shape:  (20,)\n"
     ]
    }
   ],
   "source": [
    "# checking for y and y_hat dimensions\n",
    "yDimension = y.ndim\n",
    "y_hatDimension = y_hat.ndim\n",
    "\n",
    "# checking for y and y_hat shapes\n",
    "yShape = y.shape\n",
    "y_hatShape = y_hat.shape\n",
    "\n",
    "print(\"y dimension: \",yDimension ,\"\\ny_hat dimension: \",y_hatDimension)\n",
    "print(\"\\ny shape: \", yShape, \"\\ny_hat shape: \", y_hatShape)"
   ]
  },
  {
   "cell_type": "markdown",
   "id": "981a33f9",
   "metadata": {},
   "source": [
    "## Mean Squared Error"
   ]
  },
  {
   "cell_type": "code",
   "execution_count": 33,
   "id": "d3e2b99d",
   "metadata": {},
   "outputs": [
    {
     "name": "stdout",
     "output_type": "stream",
     "text": [
      "MSE using for loop: \t 0.34210526315789475\n",
      "MSE using numpy: \t 0.3421052631578948\n"
     ]
    }
   ],
   "source": [
    "# solving for the mean squared error\n",
    "# we can use a for loop\n",
    "l_mse = 0\n",
    "for i in range(len(y)):\n",
    "    l_mse = l_mse + (y_hat[i] - y[i])**2\n",
    "print(\"MSE using for loop: \\t\", l_mse / len(y))\n",
    "\n",
    "# we can also use numpy\n",
    "l_mse_np = (np.square(np.subtract(y, y_hat))).mean()\n",
    "print(\"MSE using numpy: \\t\", l_mse_np)\n",
    "\n"
   ]
  },
  {
   "cell_type": "markdown",
   "id": "9763a7f3",
   "metadata": {},
   "source": [
    "## Mean Absolute Error"
   ]
  },
  {
   "cell_type": "code",
   "execution_count": 30,
   "id": "792db8bc",
   "metadata": {},
   "outputs": [
    {
     "name": "stdout",
     "output_type": "stream",
     "text": [
      "Mean absolute error is around: 0.5000000000000001\n"
     ]
    }
   ],
   "source": [
    "# solving for the mean absolute error\n",
    "\n",
    "l_mae = 0\n",
    "for i in range(len(y)):\n",
    "    l_mae = l_mae + (abs(y_hat[i] - y[i]))\n",
    "print(\"Mean absolute error is around:\", l_mae / len(y))"
   ]
  },
  {
   "cell_type": "markdown",
   "id": "2783c8f2",
   "metadata": {},
   "source": [
    "## Mean Squared Logarithmic Error"
   ]
  },
  {
   "cell_type": "code",
   "execution_count": 34,
   "id": "f162109c",
   "metadata": {},
   "outputs": [
    {
     "ename": "ValueError",
     "evalue": "math domain error",
     "output_type": "error",
     "traceback": [
      "\u001b[1;31m---------------------------------------------------------------------------\u001b[0m",
      "\u001b[1;31mValueError\u001b[0m                                Traceback (most recent call last)",
      "Input \u001b[1;32mIn [34]\u001b[0m, in \u001b[0;36m<cell line: 4>\u001b[1;34m()\u001b[0m\n\u001b[0;32m      3\u001b[0m l_msl \u001b[38;5;241m=\u001b[39m \u001b[38;5;241m0\u001b[39m\n\u001b[0;32m      4\u001b[0m \u001b[38;5;28;01mfor\u001b[39;00m i \u001b[38;5;129;01min\u001b[39;00m \u001b[38;5;28mrange\u001b[39m(\u001b[38;5;28mlen\u001b[39m(y)):\n\u001b[1;32m----> 5\u001b[0m     l_msl \u001b[38;5;241m=\u001b[39m l_msl \u001b[38;5;241m+\u001b[39m (\u001b[43mmath\u001b[49m\u001b[38;5;241;43m.\u001b[39;49m\u001b[43mlog\u001b[49m\u001b[43m(\u001b[49m\u001b[43m(\u001b[49m\u001b[43my_hat\u001b[49m\u001b[43m[\u001b[49m\u001b[43mi\u001b[49m\u001b[43m]\u001b[49m\u001b[43m \u001b[49m\u001b[38;5;241;43m+\u001b[39;49m\u001b[43m \u001b[49m\u001b[38;5;241;43m1\u001b[39;49m\u001b[43m)\u001b[49m\u001b[43m)\u001b[49m \u001b[38;5;241m-\u001b[39m math\u001b[38;5;241m.\u001b[39mlog(y[i] \u001b[38;5;241m+\u001b[39m \u001b[38;5;241m1\u001b[39m))\u001b[38;5;241m*\u001b[39m\u001b[38;5;241m*\u001b[39m\u001b[38;5;241m2\u001b[39m\n\u001b[0;32m      6\u001b[0m \u001b[38;5;28mprint\u001b[39m(\u001b[38;5;124m\"\u001b[39m\u001b[38;5;124mL MSL is: \u001b[39m\u001b[38;5;124m\"\u001b[39m, l_msl \u001b[38;5;241m/\u001b[39m \u001b[38;5;28mlen\u001b[39m(y))\n",
      "\u001b[1;31mValueError\u001b[0m: math domain error"
     ]
    }
   ],
   "source": [
    "import math\n",
    "\n",
    "l_msl = 0\n",
    "for i in range(len(y)):\n",
    "    l_msl = l_msl + (math.log((y_hat[i] + 1)) - math.log(y[i] + 1))**2\n",
    "print(\"L MSL is: \", l_msl / len(y))"
   ]
  },
  {
   "cell_type": "markdown",
   "id": "c2d28a6c",
   "metadata": {},
   "source": [
    "for the above (MSLE), I did not opt to cut the y_hat array since that is what the data is. Additionally, the error here honesly is just because of the first element in the y_hat array which is -1. Even if we add 1 to it, the result, 0, would still produce an error if we try to get its log."
   ]
  },
  {
   "cell_type": "markdown",
   "id": "d8d26f3c",
   "metadata": {},
   "source": [
    "## Mean Absolute Percentage Error"
   ]
  },
  {
   "cell_type": "code",
   "execution_count": 50,
   "id": "f48f0c44",
   "metadata": {},
   "outputs": [
    {
     "name": "stdout",
     "output_type": "stream",
     "text": [
      "inf\n"
     ]
    },
    {
     "name": "stderr",
     "output_type": "stream",
     "text": [
      "C:\\Users\\Emmanuel Guides\\AppData\\Local\\Temp\\ipykernel_8684\\2573523413.py:3: RuntimeWarning: divide by zero encountered in double_scalars\n",
      "  l_mape = l_mape + (abs((y_hat[i] - y[i]) / y[i]))\n"
     ]
    }
   ],
   "source": [
    "l_mape = 0\n",
    "for i in range(len(y)):\n",
    "    l_mape = l_mape + (abs((y_hat[i] - y[i]) / y[i]))\n",
    "    \n",
    "print((1/len(y)*l_mape))"
   ]
  },
  {
   "cell_type": "markdown",
   "id": "1ebc273e",
   "metadata": {},
   "source": [
    "In the mean absolute percentage error, we encounter an error that reads 'divide by zero'. This is because in the y array the first element is 0. "
   ]
  },
  {
   "cell_type": "markdown",
   "id": "7d003597",
   "metadata": {},
   "source": [
    "## "
   ]
  },
  {
   "cell_type": "markdown",
   "id": "50d2f0a2",
   "metadata": {},
   "source": [
    "## Part 2"
   ]
  },
  {
   "cell_type": "markdown",
   "id": "1d0231e1",
   "metadata": {},
   "source": [
    "Creating 1d Array M using arange"
   ]
  },
  {
   "cell_type": "code",
   "execution_count": 52,
   "id": "23b7f8ed",
   "metadata": {},
   "outputs": [
    {
     "name": "stdout",
     "output_type": "stream",
     "text": [
      "[ 1  2  3  4  5  6  7  8  9 10 11 12 13 14 15 16]\n"
     ]
    }
   ],
   "source": [
    "# Creating 1D M array that has elements 1 to 16\n",
    "M = np.arange(1, 17)\n",
    "print(M)"
   ]
  },
  {
   "cell_type": "markdown",
   "id": "a837513b",
   "metadata": {},
   "source": [
    "## "
   ]
  },
  {
   "cell_type": "markdown",
   "id": "ddaeafd6",
   "metadata": {},
   "source": [
    "Reshaping M into a 4x4 array and storing it to N"
   ]
  },
  {
   "cell_type": "code",
   "execution_count": 54,
   "id": "39e61025",
   "metadata": {},
   "outputs": [
    {
     "name": "stdout",
     "output_type": "stream",
     "text": [
      "[[ 1  2  3  4]\n",
      " [ 5  6  7  8]\n",
      " [ 9 10 11 12]\n",
      " [13 14 15 16]]\n"
     ]
    }
   ],
   "source": [
    "# Reshaping M\n",
    "N = M.reshape(4, 4)\n",
    "print(N)"
   ]
  },
  {
   "cell_type": "markdown",
   "id": "2d421000",
   "metadata": {},
   "source": [
    "## "
   ]
  },
  {
   "cell_type": "markdown",
   "id": "bac0c08a",
   "metadata": {},
   "source": [
    "Getting the 2nd row of N"
   ]
  },
  {
   "cell_type": "code",
   "execution_count": 62,
   "id": "e5bfdf14",
   "metadata": {},
   "outputs": [
    {
     "name": "stdout",
     "output_type": "stream",
     "text": [
      "[5 6 7 8]\n"
     ]
    }
   ],
   "source": [
    "print(N[1,0:])"
   ]
  },
  {
   "cell_type": "markdown",
   "id": "ad528c56",
   "metadata": {},
   "source": [
    "## "
   ]
  },
  {
   "cell_type": "markdown",
   "id": "c1fa6f4b",
   "metadata": {},
   "source": [
    "Getting the minimum values for each column of N"
   ]
  },
  {
   "cell_type": "code",
   "execution_count": 67,
   "id": "82acb351",
   "metadata": {},
   "outputs": [
    {
     "name": "stdout",
     "output_type": "stream",
     "text": [
      "Min Value of column  0 ( [ 1  5  9 13] ):  1\n",
      "Min Value of column  1 ( [ 2  6 10 14] ):  2\n",
      "Min Value of column  2 ( [ 3  7 11 15] ):  3\n",
      "Min Value of column  3 ( [ 4  8 12 16] ):  4\n"
     ]
    }
   ],
   "source": [
    "for i in range(4):\n",
    "    print(\"Min Value of column \", i,\"(\", \n",
    "          N[0:,i], \"): \", min(N[0:,i]))"
   ]
  },
  {
   "cell_type": "markdown",
   "id": "6902fcea",
   "metadata": {},
   "source": [
    "## "
   ]
  },
  {
   "cell_type": "markdown",
   "id": "d68ce0c6",
   "metadata": {},
   "source": [
    "Getting the locations of the minimum values of each column of N"
   ]
  },
  {
   "cell_type": "code",
   "execution_count": 73,
   "id": "eac9f075",
   "metadata": {},
   "outputs": [
    {
     "name": "stdout",
     "output_type": "stream",
     "text": [
      "Min Value of column  0  is  1 , location:  [[0 0]]\n",
      "Min Value of column  1  is  2 , location:  [[0 1]]\n",
      "Min Value of column  2  is  3 , location:  [[0 2]]\n",
      "Min Value of column  3  is  4 , location:  [[0 3]]\n"
     ]
    }
   ],
   "source": [
    "for i in range(4):\n",
    "    print(\"Min Value of column \", i, \" is \", min(N[0:,i]), \n",
    "          \", location: \", np.argwhere(N == min(N[0:,i])))"
   ]
  },
  {
   "cell_type": "markdown",
   "id": "c8951175",
   "metadata": {},
   "source": [
    "## "
   ]
  },
  {
   "cell_type": "markdown",
   "id": "3ed88cdf",
   "metadata": {},
   "source": [
    "Getting the average of the whole N matrix"
   ]
  },
  {
   "cell_type": "code",
   "execution_count": 75,
   "id": "46255ab6",
   "metadata": {},
   "outputs": [
    {
     "name": "stdout",
     "output_type": "stream",
     "text": [
      "8.5\n"
     ]
    }
   ],
   "source": [
    "print(N.mean())"
   ]
  },
  {
   "cell_type": "markdown",
   "id": "3ef8cae9",
   "metadata": {},
   "source": [
    "## "
   ]
  },
  {
   "cell_type": "markdown",
   "id": "bb8acb50",
   "metadata": {},
   "source": [
    "Creating Vector V"
   ]
  },
  {
   "cell_type": "code",
   "execution_count": 77,
   "id": "cdfe8feb",
   "metadata": {},
   "outputs": [
    {
     "name": "stdout",
     "output_type": "stream",
     "text": [
      "[1 1 1 1]\n"
     ]
    }
   ],
   "source": [
    "V = np.array([1,1,1,1])\n",
    "print(V)"
   ]
  },
  {
   "cell_type": "markdown",
   "id": "0fba3e4c",
   "metadata": {},
   "source": [
    "## "
   ]
  },
  {
   "cell_type": "markdown",
   "id": "a4f34c20",
   "metadata": {},
   "source": [
    "Taking the dot product of N and V"
   ]
  },
  {
   "cell_type": "code",
   "execution_count": 80,
   "id": "57357d96",
   "metadata": {},
   "outputs": [
    {
     "name": "stdout",
     "output_type": "stream",
     "text": [
      "[10 26 42 58]\n"
     ]
    }
   ],
   "source": [
    "print(np.dot(N,V))"
   ]
  }
 ],
 "metadata": {
  "kernelspec": {
   "display_name": "Python 3 (ipykernel)",
   "language": "python",
   "name": "python3"
  },
  "language_info": {
   "codemirror_mode": {
    "name": "ipython",
    "version": 3
   },
   "file_extension": ".py",
   "mimetype": "text/x-python",
   "name": "python",
   "nbconvert_exporter": "python",
   "pygments_lexer": "ipython3",
   "version": "3.9.12"
  }
 },
 "nbformat": 4,
 "nbformat_minor": 5
}
